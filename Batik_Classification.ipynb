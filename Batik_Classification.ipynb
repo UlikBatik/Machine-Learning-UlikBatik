{
  "cells": [
    {
      "cell_type": "code",
      "execution_count": null,
      "metadata": {
        "colab": {
          "base_uri": "https://localhost:8080/"
        },
        "id": "9UmVBhhQiz0K",
        "outputId": "0aeb7970-2875-400e-db60-8b5ee1b9dbf4"
      },
      "outputs": [
        {
          "output_type": "stream",
          "name": "stdout",
          "text": [
            "Drive already mounted at /content/drive; to attempt to forcibly remount, call drive.mount(\"/content/drive\", force_remount=True).\n"
          ]
        }
      ],
      "source": [
        "from google.colab import drive\n",
        "drive.mount('/content/drive')"
      ]
    },
    {
      "cell_type": "markdown",
      "metadata": {
        "id": "3ETVIbUKi0jR"
      },
      "source": [
        "## Install Mandatory Package(s)"
      ]
    },
    {
      "cell_type": "code",
      "execution_count": null,
      "metadata": {
        "id": "KHRpRYW26MeN"
      },
      "outputs": [],
      "source": [
        "# Import Deep Learning Library\n",
        "import tensorflow as tf\n",
        "from tensorflow.keras.preprocessing import image\n",
        "from tensorflow.keras.preprocessing.image import ImageDataGenerator\n",
        "\n",
        "# Import Pretrained Model Library\n",
        "from tensorflow.keras.applications.vgg16 import VGG16\n",
        "from tensorflow.keras.applications.vgg19 import VGG19\n",
        "from tensorflow.keras.applications import efficientnet, MobileNetV2\n",
        "from tensorflow.keras.callbacks import ModelCheckpoint\n",
        "\n",
        "# Import Dataset Preprocessing Library\n",
        "import scipy.io\n",
        "import numpy as np\n",
        "import pandas as pd\n",
        "import matplotlib.pyplot as plt\n",
        "import matplotlib.image as mpimg\n",
        "\n",
        "# Import OS\n",
        "import os\n",
        "from google.colab import files\n",
        "import shutil"
      ]
    },
    {
      "cell_type": "markdown",
      "metadata": {
        "id": "PnoK4dBL6bVX"
      },
      "source": [
        "## Data Preprocessing"
      ]
    },
    {
      "cell_type": "code",
      "execution_count": null,
      "metadata": {
        "colab": {
          "base_uri": "https://localhost:8080/"
        },
        "id": "oKCt24wa6geJ",
        "outputId": "07e5d671-73b2-4c36-fc1a-7d479dace6e9"
      },
      "outputs": [
        {
          "name": "stdout",
          "output_type": "stream",
          "text": [
            "Found 2302 images belonging to 19 classes.\n",
            "Found 385 images belonging to 19 classes.\n"
          ]
        }
      ],
      "source": [
        "# Define Path Train and Test Directory\n",
        "train_dataset_path = \"/content/drive/Shareddrives/Capstone - ML/Model 1. Batik Classification/Dataset/train\"\n",
        "test_dataset_path = \"/content/drive/Shareddrives/Capstone - ML/Model 1. Batik Classification/Dataset/test\"\n",
        "\n",
        "BATCH_SIZE = 32\n",
        "\n",
        "# Make Train and Test Datagen for ImageDataGenerator\n",
        "train_datagen = ImageDataGenerator(\n",
        "    rescale=1./255,\n",
        "    rotation_range=20,\n",
        "    width_shift_range=0.1,\n",
        "    height_shift_range=0.1,\n",
        "    horizontal_flip=True,\n",
        "    shear_range=0.2,\n",
        "    zoom_range=0.2\n",
        ")\n",
        "\n",
        "test_datagen = ImageDataGenerator(\n",
        "    rescale=1./255\n",
        ")\n",
        "\n",
        "# Generate Image Generator for train and test\n",
        "train_generator = train_datagen.flow_from_directory(\n",
        "    directory=train_dataset_path,\n",
        "    target_size=(224, 224),\n",
        "    batch_size=BATCH_SIZE,\n",
        "    class_mode=\"categorical\",\n",
        "    # color_mode='grayscale',\n",
        "    shuffle=True,\n",
        "    seed=42\n",
        ")\n",
        "\n",
        "test_generator = test_datagen.flow_from_directory(\n",
        "    directory=test_dataset_path,\n",
        "    target_size=(224, 224),\n",
        "    batch_size=BATCH_SIZE,\n",
        "    class_mode=\"categorical\",\n",
        "    # color_mode='grayscale',\n",
        "    shuffle=True,\n",
        "    seed=42\n",
        ")"
      ]
    },
    {
      "cell_type": "code",
      "execution_count": null,
      "metadata": {
        "colab": {
          "base_uri": "https://localhost:8080/"
        },
        "id": "QGERKZxoCgZm",
        "outputId": "21e2a6a6-581d-4e39-f325-f725ec8e553c"
      },
      "outputs": [
        {
          "name": "stdout",
          "output_type": "stream",
          "text": [
            "Shape of images batch: (32, 224, 224, 3)\n",
            "Shape of labels batch: (32, 19)\n"
          ]
        }
      ],
      "source": [
        "# Extract a batch of data from the generator\n",
        "images, labels = next(train_generator)\n",
        "\n",
        "# Print the shape of the batch of images and labels\n",
        "print(\"Shape of images batch:\", images.shape)\n",
        "print(\"Shape of labels batch:\", labels.shape)"
      ]
    },
    {
      "cell_type": "code",
      "execution_count": null,
      "metadata": {
        "colab": {
          "base_uri": "https://localhost:8080/"
        },
        "id": "gook7-q2DKds",
        "outputId": "4674e9e3-201e-48c2-8a49-9dfba6de84eb"
      },
      "outputs": [
        {
          "name": "stdout",
          "output_type": "stream",
          "text": [
            "Class names: ['.Non Batik', 'Buketan', 'Cendrawasih', 'Corak Insang', 'Dayak', 'Gunungan', 'Jlamprang', 'Kawung', 'Liong', 'Megamendung', 'Parang', 'Prada', 'Pring Sedapur', 'Sekar', 'Sidoluhur', 'Singa Barong', 'Truntum', 'Tujuh Rupa', 'Tumpal']\n"
          ]
        }
      ],
      "source": [
        "# Get class indices and create a reverse mapping\n",
        "images_class_indices = train_generator.class_indices\n",
        "labels_index_to_class = {v: k for k, v in images_class_indices.items()}\n",
        "\n",
        "# Define train labels that could be reused on later stage\n",
        "train_labels = [labels_index_to_class[idx] for idx in range(len(labels_index_to_class))]\n",
        "print(\"Class names:\", train_labels)"
      ]
    },
    {
      "cell_type": "markdown",
      "source": [
        "#### 12 Label"
      ],
      "metadata": {
        "id": "LdmKlqaL8Ksv"
      }
    },
    {
      "cell_type": "code",
      "source": [
        "# Define Path Train and Test Directory\n",
        "train_dataset_path = \"/content/drive/Shareddrives/Capstone - ML/Model 1. Batik Classification/Dataset/12 Label/train\"\n",
        "test_dataset_path = \"/content/drive/Shareddrives/Capstone - ML/Model 1. Batik Classification/Dataset/12 Label/test\"\n",
        "\n",
        "BATCH_SIZE = 32\n",
        "\n",
        "# Make Train and Test Datagen for ImageDataGenerator\n",
        "train_datagen = ImageDataGenerator(\n",
        "    rescale=1./255,\n",
        "    rotation_range=20,\n",
        "    width_shift_range=0.1,\n",
        "    height_shift_range=0.1,\n",
        "    horizontal_flip=True,\n",
        "    shear_range=0.2,\n",
        "    zoom_range=0.2\n",
        ")\n",
        "\n",
        "test_datagen = ImageDataGenerator(\n",
        "    rescale=1./255\n",
        ")\n",
        "\n",
        "# Generate Image Generator for train and test\n",
        "train_generator = train_datagen.flow_from_directory(\n",
        "    directory=train_dataset_path,\n",
        "    target_size=(224, 224),\n",
        "    batch_size=BATCH_SIZE,\n",
        "    class_mode=\"categorical\",\n",
        "    # color_mode='grayscale',\n",
        "    shuffle=True,\n",
        "    seed=42\n",
        ")\n",
        "\n",
        "test_generator = test_datagen.flow_from_directory(\n",
        "    directory=test_dataset_path,\n",
        "    target_size=(224, 224),\n",
        "    batch_size=BATCH_SIZE,\n",
        "    class_mode=\"categorical\",\n",
        "    # color_mode='grayscale',\n",
        "    shuffle=True,\n",
        "    seed=42\n",
        ")\n",
        "\n",
        "# Extract a batch of data from the generator\n",
        "images, labels = next(train_generator)\n",
        "\n",
        "# Print the shape of the batch of images and labels\n",
        "print(\"Shape of images batch:\", images.shape)\n",
        "print(\"Shape of labels batch:\", labels.shape)\n",
        "\n",
        "# Get class indices and create a reverse mapping\n",
        "images_class_indices = train_generator.class_indices\n",
        "labels_index_to_class = {v: k for k, v in images_class_indices.items()}\n",
        "\n",
        "# Define train labels that could be reused on later stage\n",
        "train_labels = [labels_index_to_class[idx] for idx in range(len(labels_index_to_class))]\n",
        "print(\"Class names:\", train_labels)"
      ],
      "metadata": {
        "colab": {
          "base_uri": "https://localhost:8080/"
        },
        "id": "rqvHX3P68QP_",
        "outputId": "0571866a-0927-4f9b-f4d1-286aaa761c07"
      },
      "execution_count": null,
      "outputs": [
        {
          "output_type": "stream",
          "name": "stdout",
          "text": [
            "Found 1440 images belonging to 12 classes.\n",
            "Found 240 images belonging to 12 classes.\n",
            "Shape of images batch: (32, 224, 224, 3)\n",
            "Shape of labels batch: (32, 12)\n",
            "Class names: ['Buketan', 'Cendrawasih', 'Corak Insang', 'Gunungan', 'Kawung', 'Megamendung', 'Parang', 'Prada', 'Sekar', 'Sidoluhur', 'Truntum', 'Tumpal']\n"
          ]
        }
      ]
    },
    {
      "cell_type": "markdown",
      "metadata": {
        "id": "mcZRtEjSMfFx"
      },
      "source": [
        "## Model Building & Fitting"
      ]
    },
    {
      "cell_type": "code",
      "execution_count": null,
      "metadata": {
        "id": "88ZKijjIMhSp"
      },
      "outputs": [],
      "source": [
        "# Define Additional Variabel for Model\n",
        "STEP_SIZE_TRAIN=train_generator.n//train_generator.batch_size\n",
        "STEP_SIZE_TEST=test_generator.n//test_generator.batch_size\n",
        "\n",
        "num_classes = len(train_generator.class_indices)"
      ]
    },
    {
      "cell_type": "markdown",
      "metadata": {
        "id": "zTG1dZkgkPoS"
      },
      "source": [
        "### 1. VGG16"
      ]
    },
    {
      "cell_type": "code",
      "execution_count": null,
      "metadata": {
        "colab": {
          "base_uri": "https://localhost:8080/"
        },
        "id": "UCbs6yLfkTak",
        "outputId": "72443f6c-d926-4ea5-93a9-578131c33e69"
      },
      "outputs": [
        {
          "name": "stdout",
          "output_type": "stream",
          "text": [
            "Downloading data from https://storage.googleapis.com/tensorflow/keras-applications/vgg16/vgg16_weights_tf_dim_ordering_tf_kernels_notop.h5\n",
            "58889256/58889256 [==============================] - 0s 0us/step\n",
            "Model: \"model\"\n",
            "____________________________________________________________________________\n",
            " Layer (type)                Output Shape              Param #   Trainable  \n",
            "============================================================================\n",
            " input_1 (InputLayer)        [(None, 224, 224, 3)]     0         N          \n",
            "                                                                            \n",
            " block1_conv1 (Conv2D)       (None, 224, 224, 64)      1792      N          \n",
            "                                                                            \n",
            " block1_conv2 (Conv2D)       (None, 224, 224, 64)      36928     N          \n",
            "                                                                            \n",
            " block1_pool (MaxPooling2D)  (None, 112, 112, 64)      0         N          \n",
            "                                                                            \n",
            " block2_conv1 (Conv2D)       (None, 112, 112, 128)     73856     N          \n",
            "                                                                            \n",
            " block2_conv2 (Conv2D)       (None, 112, 112, 128)     147584    N          \n",
            "                                                                            \n",
            " block2_pool (MaxPooling2D)  (None, 56, 56, 128)       0         N          \n",
            "                                                                            \n",
            " block3_conv1 (Conv2D)       (None, 56, 56, 256)       295168    N          \n",
            "                                                                            \n",
            " block3_conv2 (Conv2D)       (None, 56, 56, 256)       590080    N          \n",
            "                                                                            \n",
            " block3_conv3 (Conv2D)       (None, 56, 56, 256)       590080    N          \n",
            "                                                                            \n",
            " block3_pool (MaxPooling2D)  (None, 28, 28, 256)       0         N          \n",
            "                                                                            \n",
            " block4_conv1 (Conv2D)       (None, 28, 28, 512)       1180160   N          \n",
            "                                                                            \n",
            " block4_conv2 (Conv2D)       (None, 28, 28, 512)       2359808   N          \n",
            "                                                                            \n",
            " block4_conv3 (Conv2D)       (None, 28, 28, 512)       2359808   N          \n",
            "                                                                            \n",
            " block4_pool (MaxPooling2D)  (None, 14, 14, 512)       0         N          \n",
            "                                                                            \n",
            " block5_conv1 (Conv2D)       (None, 14, 14, 512)       2359808   N          \n",
            "                                                                            \n",
            " block5_conv2 (Conv2D)       (None, 14, 14, 512)       2359808   N          \n",
            "                                                                            \n",
            " block5_conv3 (Conv2D)       (None, 14, 14, 512)       2359808   N          \n",
            "                                                                            \n",
            " block5_pool (MaxPooling2D)  (None, 7, 7, 512)         0         N          \n",
            "                                                                            \n",
            " flatten (Flatten)           (None, 25088)             0         Y          \n",
            "                                                                            \n",
            " dense (Dense)               (None, 1024)              2569113   Y          \n",
            "                                                       6                    \n",
            "                                                                            \n",
            " dropout (Dropout)           (None, 1024)              0         Y          \n",
            "                                                                            \n",
            " dense_1 (Dense)             (None, 1024)              1049600   Y          \n",
            "                                                                            \n",
            " dense_2 (Dense)             (None, 21)                21525     Y          \n",
            "                                                                            \n",
            "============================================================================\n",
            "Total params: 41476949 (158.22 MB)\n",
            "Trainable params: 26762261 (102.09 MB)\n",
            "Non-trainable params: 14714688 (56.13 MB)\n",
            "____________________________________________________________________________\n"
          ]
        }
      ],
      "source": [
        "# Load Pretrained VGG16 Model\n",
        "vgg16 = VGG16(weights='imagenet', include_top=False, input_shape=(224, 224, 3))\n",
        "# Make the Trainable Layers to False\n",
        "for layer in vgg16.layers:\n",
        "    layer.trainable = False\n",
        "\n",
        "# Flatten the output of the VGG16 model\n",
        "x = tf.keras.layers.Flatten()(vgg16.output)\n",
        "\n",
        "x = tf.keras.layers.Dense(1024, activation='relu')(x)\n",
        "x = tf.keras.layers.Dropout(0.5)(x)\n",
        "\n",
        "# Add a dense layer with ReLU activation\n",
        "x = tf.keras.layers.Dense(1024, activation='relu')(x)\n",
        "\n",
        "# Add the output layer with softmax activation\n",
        "predictions = tf.keras.layers.Dense(num_classes, activation='softmax')(x)\n",
        "\n",
        "# Create the final model\n",
        "vgg16_model = tf.keras.models.Model(inputs=vgg16.input, outputs=predictions)\n",
        "\n",
        "# Print model summary\n",
        "vgg16_model.summary(show_trainable=True)"
      ]
    },
    {
      "cell_type": "code",
      "execution_count": null,
      "metadata": {
        "colab": {
          "base_uri": "https://localhost:8080/"
        },
        "id": "JcN5zxjVkdBG",
        "outputId": "18e678c1-0934-4411-b33e-49825bab0a75"
      },
      "outputs": [
        {
          "name": "stdout",
          "output_type": "stream",
          "text": [
            "Epoch 1/50\n",
            "79/79 [==============================] - 1183s 15s/step - loss: 2.2809 - accuracy: 0.3239 - val_loss: 1.4783 - val_accuracy: 0.5962\n",
            "Epoch 2/50\n",
            "79/79 [==============================] - 58s 736ms/step - loss: 1.4054 - accuracy: 0.5900 - val_loss: 1.1148 - val_accuracy: 0.6947\n",
            "Epoch 3/50\n",
            "79/79 [==============================] - 58s 737ms/step - loss: 1.1139 - accuracy: 0.6753 - val_loss: 1.0016 - val_accuracy: 0.7115\n",
            "Epoch 4/50\n",
            "79/79 [==============================] - 59s 747ms/step - loss: 0.9450 - accuracy: 0.7283 - val_loss: 0.8671 - val_accuracy: 0.7428\n",
            "Epoch 5/50\n",
            "79/79 [==============================] - 58s 732ms/step - loss: 0.8053 - accuracy: 0.7494 - val_loss: 0.8379 - val_accuracy: 0.7596\n",
            "Epoch 6/50\n",
            "79/79 [==============================] - 58s 732ms/step - loss: 0.7493 - accuracy: 0.7713 - val_loss: 0.7999 - val_accuracy: 0.7620\n",
            "Epoch 7/50\n",
            "79/79 [==============================] - 57s 720ms/step - loss: 0.6880 - accuracy: 0.7857 - val_loss: 0.7990 - val_accuracy: 0.7668\n",
            "Epoch 8/50\n",
            "79/79 [==============================] - 59s 744ms/step - loss: 0.6042 - accuracy: 0.8060 - val_loss: 0.7341 - val_accuracy: 0.7764\n",
            "Epoch 9/50\n",
            "79/79 [==============================] - 59s 748ms/step - loss: 0.5835 - accuracy: 0.8231 - val_loss: 0.7015 - val_accuracy: 0.7885\n",
            "Epoch 10/50\n",
            "79/79 [==============================] - 58s 736ms/step - loss: 0.5457 - accuracy: 0.8355 - val_loss: 0.7393 - val_accuracy: 0.7933\n",
            "Epoch 11/50\n",
            "79/79 [==============================] - 58s 726ms/step - loss: 0.5051 - accuracy: 0.8343 - val_loss: 0.6474 - val_accuracy: 0.8053\n",
            "Epoch 12/50\n",
            "79/79 [==============================] - 58s 730ms/step - loss: 0.4681 - accuracy: 0.8546 - val_loss: 0.6969 - val_accuracy: 0.8077\n",
            "Epoch 13/50\n",
            "79/79 [==============================] - 58s 725ms/step - loss: 0.4490 - accuracy: 0.8562 - val_loss: 0.6582 - val_accuracy: 0.7933\n",
            "Epoch 14/50\n",
            "79/79 [==============================] - 58s 725ms/step - loss: 0.4306 - accuracy: 0.8649 - val_loss: 0.7076 - val_accuracy: 0.7909\n",
            "Epoch 15/50\n",
            "79/79 [==============================] - 56s 710ms/step - loss: 0.3700 - accuracy: 0.8825 - val_loss: 0.7057 - val_accuracy: 0.8053\n",
            "Epoch 16/50\n",
            "79/79 [==============================] - 57s 722ms/step - loss: 0.3727 - accuracy: 0.8841 - val_loss: 0.6392 - val_accuracy: 0.8101\n",
            "Epoch 17/50\n",
            "79/79 [==============================] - 57s 721ms/step - loss: 0.3719 - accuracy: 0.8749 - val_loss: 0.6129 - val_accuracy: 0.8413\n",
            "Epoch 18/50\n",
            "79/79 [==============================] - 57s 718ms/step - loss: 0.3237 - accuracy: 0.9008 - val_loss: 0.6472 - val_accuracy: 0.8269\n",
            "Epoch 19/50\n",
            "79/79 [==============================] - 57s 723ms/step - loss: 0.3176 - accuracy: 0.8940 - val_loss: 0.6588 - val_accuracy: 0.8389\n",
            "Epoch 20/50\n",
            "79/79 [==============================] - 58s 729ms/step - loss: 0.3042 - accuracy: 0.9032 - val_loss: 0.5909 - val_accuracy: 0.8317\n",
            "Epoch 21/50\n",
            "79/79 [==============================] - 58s 731ms/step - loss: 0.2927 - accuracy: 0.9135 - val_loss: 0.6103 - val_accuracy: 0.8438\n",
            "Epoch 22/50\n",
            "79/79 [==============================] - 57s 723ms/step - loss: 0.2837 - accuracy: 0.9084 - val_loss: 0.6142 - val_accuracy: 0.8221\n",
            "Epoch 23/50\n",
            "79/79 [==============================] - 57s 725ms/step - loss: 0.2565 - accuracy: 0.9211 - val_loss: 0.6044 - val_accuracy: 0.8197\n",
            "Epoch 24/50\n",
            "79/79 [==============================] - 58s 728ms/step - loss: 0.2486 - accuracy: 0.9215 - val_loss: 0.5990 - val_accuracy: 0.8510\n",
            "Epoch 25/50\n",
            "79/79 [==============================] - 58s 730ms/step - loss: 0.2612 - accuracy: 0.9171 - val_loss: 0.5971 - val_accuracy: 0.8486\n",
            "Epoch 26/50\n",
            "79/79 [==============================] - 57s 725ms/step - loss: 0.2651 - accuracy: 0.9179 - val_loss: 0.5909 - val_accuracy: 0.8389\n",
            "Epoch 27/50\n",
            "79/79 [==============================] - 57s 729ms/step - loss: 0.2400 - accuracy: 0.9227 - val_loss: 0.5650 - val_accuracy: 0.8413\n",
            "Epoch 28/50\n",
            "79/79 [==============================] - 57s 727ms/step - loss: 0.2209 - accuracy: 0.9287 - val_loss: 0.5981 - val_accuracy: 0.8438\n",
            "Epoch 29/50\n",
            "79/79 [==============================] - 58s 726ms/step - loss: 0.2263 - accuracy: 0.9271 - val_loss: 0.6528 - val_accuracy: 0.8317\n",
            "Epoch 30/50\n",
            "79/79 [==============================] - 57s 719ms/step - loss: 0.2476 - accuracy: 0.9139 - val_loss: 0.6043 - val_accuracy: 0.8438\n",
            "Epoch 31/50\n",
            "79/79 [==============================] - 57s 727ms/step - loss: 0.2263 - accuracy: 0.9283 - val_loss: 0.5553 - val_accuracy: 0.8582\n",
            "Epoch 32/50\n",
            "79/79 [==============================] - 57s 723ms/step - loss: 0.2267 - accuracy: 0.9251 - val_loss: 0.6355 - val_accuracy: 0.8630\n",
            "Epoch 33/50\n",
            "79/79 [==============================] - 58s 736ms/step - loss: 0.2107 - accuracy: 0.9312 - val_loss: 0.6283 - val_accuracy: 0.8413\n",
            "Epoch 34/50\n",
            "79/79 [==============================] - 58s 732ms/step - loss: 0.1823 - accuracy: 0.9414 - val_loss: 0.5956 - val_accuracy: 0.8582\n",
            "Epoch 35/50\n",
            "79/79 [==============================] - 58s 729ms/step - loss: 0.1978 - accuracy: 0.9339 - val_loss: 0.5910 - val_accuracy: 0.8750\n",
            "Epoch 36/50\n",
            "79/79 [==============================] - 57s 728ms/step - loss: 0.1804 - accuracy: 0.9394 - val_loss: 0.6019 - val_accuracy: 0.8678\n",
            "Epoch 37/50\n",
            "79/79 [==============================] - 58s 734ms/step - loss: 0.1742 - accuracy: 0.9398 - val_loss: 0.5814 - val_accuracy: 0.8534\n",
            "Epoch 38/50\n",
            "79/79 [==============================] - 57s 727ms/step - loss: 0.1770 - accuracy: 0.9367 - val_loss: 0.5432 - val_accuracy: 0.8462\n",
            "Epoch 39/50\n",
            "79/79 [==============================] - 57s 718ms/step - loss: 0.1746 - accuracy: 0.9422 - val_loss: 0.6093 - val_accuracy: 0.8678\n",
            "Epoch 40/50\n",
            "79/79 [==============================] - 57s 726ms/step - loss: 0.1676 - accuracy: 0.9474 - val_loss: 0.6260 - val_accuracy: 0.8702\n",
            "Epoch 41/50\n",
            "79/79 [==============================] - 57s 722ms/step - loss: 0.1601 - accuracy: 0.9450 - val_loss: 0.6050 - val_accuracy: 0.8582\n",
            "Epoch 42/50\n",
            "79/79 [==============================] - 57s 719ms/step - loss: 0.1820 - accuracy: 0.9402 - val_loss: 0.6239 - val_accuracy: 0.8558\n",
            "Epoch 43/50\n",
            "79/79 [==============================] - 57s 724ms/step - loss: 0.1586 - accuracy: 0.9418 - val_loss: 0.5765 - val_accuracy: 0.8630\n",
            "Epoch 44/50\n",
            "79/79 [==============================] - 57s 724ms/step - loss: 0.1750 - accuracy: 0.9418 - val_loss: 0.6509 - val_accuracy: 0.8534\n",
            "Epoch 45/50\n",
            "79/79 [==============================] - 57s 724ms/step - loss: 0.1753 - accuracy: 0.9490 - val_loss: 0.6560 - val_accuracy: 0.8365\n",
            "Epoch 46/50\n",
            "79/79 [==============================] - 57s 718ms/step - loss: 0.1369 - accuracy: 0.9546 - val_loss: 0.6469 - val_accuracy: 0.8486\n",
            "Epoch 47/50\n",
            "79/79 [==============================] - 59s 740ms/step - loss: 0.1566 - accuracy: 0.9478 - val_loss: 0.6251 - val_accuracy: 0.8702\n",
            "Epoch 48/50\n",
            "69/79 [=========================>....] - ETA: 6s - loss: 0.1337 - accuracy: 0.9525"
          ]
        }
      ],
      "source": [
        "EPOCHS = 50\n",
        "\n",
        "vgg16_model.compile(loss='categorical_crossentropy',\n",
        "              optimizer=tf.keras.optimizers.Adam(learning_rate=0.0001),\n",
        "              metrics=['accuracy']\n",
        ")\n",
        "\n",
        "vgg16_history = vgg16_model.fit(\n",
        "      train_generator,\n",
        "      steps_per_epoch=STEP_SIZE_TRAIN,\n",
        "      epochs=EPOCHS,\n",
        "      validation_data=test_generator,\n",
        "      validation_steps=STEP_SIZE_TEST,\n",
        "      verbose=1\n",
        ")"
      ]
    },
    {
      "cell_type": "code",
      "execution_count": null,
      "metadata": {
        "id": "onQviZdlEX1c"
      },
      "outputs": [],
      "source": [
        "# Visualize the History Model : Accuracy & Loss\n",
        "acc_1 = vgg16_history.history['accuracy']\n",
        "val_acc_1 = vgg16_history.history['val_accuracy']\n",
        "\n",
        "loss_1 = vgg16_history.history['loss']\n",
        "val_loss_1 = vgg16_history.history['val_loss']\n",
        "\n",
        "epochs_range = range(EPOCHS)\n",
        "\n",
        "plt.figure(figsize=(10, 5))\n",
        "plt.subplot(1, 2, 1)\n",
        "plt.plot(epochs_range, acc_1, label='Training Accuracy')\n",
        "plt.plot(epochs_range, val_acc_1, label='Validation Accuracy')\n",
        "plt.legend(loc='lower right')\n",
        "plt.title('Training and Validation Accuracy (VGG16)')\n",
        "\n",
        "plt.subplot(1, 2, 2)\n",
        "plt.plot(epochs_range, loss_1, label='Training Loss')\n",
        "plt.plot(epochs_range, val_loss_1, label='Validation Loss')\n",
        "plt.legend(loc='upper right')\n",
        "plt.title('Training and Validation Loss (VGG16)')\n",
        "plt.show()"
      ]
    },
    {
      "cell_type": "code",
      "execution_count": null,
      "metadata": {
        "id": "I4wnCbYkDoin"
      },
      "outputs": [],
      "source": [
        "# Save model in Keras format\n",
        "model_save_path = '/content/drive/Shareddrives/Capstone - ML/Model 1. Batik Classification/Model/vgg16_23label50_new.h5'\n",
        "vgg16_model.save(model_save_path)\n",
        "print(\"Model saved to Google Drive at:\", model_save_path)\n",
        "\n",
        "# Save training history to CSV\n",
        "history_df = pd.DataFrame(vgg16_history.history)\n",
        "history_save_path = '/content/drive/Shareddrives/Capstone - ML/Model 1. Batik Classification/Model/vgg16_history_23label50_new.csv'\n",
        "history_df.to_csv(history_save_path, index=True)\n",
        "print(\"Training history saved to Google Drive at:\", history_save_path)"
      ]
    },
    {
      "cell_type": "markdown",
      "metadata": {
        "id": "fCcTqQ3itgOQ"
      },
      "source": [
        "#### Predict Model"
      ]
    },
    {
      "cell_type": "code",
      "execution_count": null,
      "metadata": {
        "colab": {
          "base_uri": "https://localhost:8080/"
        },
        "id": "jJ4s3ogWvAvm",
        "outputId": "6930daad-6aa2-40a9-f570-35dda9941327"
      },
      "outputs": [
        {
          "name": "stdout",
          "output_type": "stream",
          "text": [
            "Found 48 images belonging to 21 classes.\n"
          ]
        }
      ],
      "source": [
        "# Define Path Train and Test Directory\n",
        "predict_dataset_path = \"/content/drive/Shareddrives/Capstone - ML/Model 1. Batik Classification/Dataset/predict2\"\n",
        "\n",
        "# Make Predict Datagen for ImageDataGenerator\n",
        "predict_datagen = ImageDataGenerator(\n",
        "    rescale=1./255\n",
        ")\n",
        "\n",
        "# Generate Image Generator for predict\n",
        "predict_generator = predict_datagen.flow_from_directory(\n",
        "    directory=predict_dataset_path,\n",
        "    target_size=(224, 224),\n",
        "    batch_size=BATCH_SIZE,\n",
        "    class_mode=\"categorical\",\n",
        "    # color_mode='grayscale',\n",
        "    shuffle=False\n",
        ")\n",
        "\n",
        "file_names = predict_generator.filenames  # save list of test files names to be used later\n",
        "tlabels = predict_generator.labels # save test labels to be used later\n",
        "class_dict = predict_generator.class_indices\n",
        "# code below determines test batch size and test steps so you go through the test images exactly once\n",
        "length = len(file_names) # determine number of images\n",
        "b_max = 80 # set maximum batch size you will allow\n",
        "predict_batch_size = sorted([int(length/n) for n in range(1,length+1) if length % n ==0 and length/n<=b_max], reverse=True)[0]\n",
        "predict_steps = int(length/BATCH_SIZE)"
      ]
    },
    {
      "cell_type": "code",
      "execution_count": null,
      "metadata": {
        "colab": {
          "base_uri": "https://localhost:8080/"
        },
        "id": "5ALt-SbyuxKi",
        "outputId": "b10cc3c9-0cda-4f4a-a8f0-1e7825a28739"
      },
      "outputs": [
        {
          "name": "stdout",
          "output_type": "stream",
          "text": [
            "PREDICTED CLASS     TRUE CLASS       FILENAME                ERROR STATUS\n",
            "    .Non Batik       .Non Batik    .Non Batik/1pcs-DIY-For-Girls-Solid-Fabric-Large-Bows-Turban-Bebe-Fabric-Bunny-Ear-Knot-Headband-Kids.jpg   No\n",
            "    .Non Batik       .Non Batik    .Non Batik/7569.jpg         No\n",
            "    .Non Batik       .Non Batik    .Non Batik/HMCJLIL_1.jpg    No\n",
            "    .Non Batik       .Non Batik    .Non Batik/Solid-Fabric-Plain-Chenille-Yarn-Dyed-Jacquard-Woven-Soft-Curtain-Drapery-Sofa-Cushion-Fabrics-Upholstery-Use.jpg   No\n",
            "    .Non Batik       .Non Batik    .Non Batik/e1.jpg           No\n",
            "    Jlamprang        .Non Batik    .Non Batik/fabriccomparision&park+033.JPG   Yes\n",
            "    .Non Batik       .Non Batik    .Non Batik/file.jpg         No\n",
            "    Corak Insang       .Non Batik    .Non Batik/quilting-detail.jpg   Yes\n",
            "    Sidomukti        Buketan       Buketan/Buketan1.jpeg       Yes\n",
            "    Sekar            Buketan       Buketan/Buketan2.jpeg       Yes\n",
            "    Buketan          Cendrawasih    Cendrawasih/cendrawasih1.jpeg   Yes\n",
            "    Sidomukti        Cendrawasih    Cendrawasih/cendrawasih2.jpg   Yes\n",
            "    Ceplok           Ceplok        Ceplok/Ceplok1.jpeg         No\n",
            "    Sidoluhur        Ceplok        Ceplok/Ceplok2.jpeg         Yes\n",
            "    Corak Insang       Corak Insang    Corak Insang/Corak1.jpg     No\n",
            "    Corak Insang       Corak Insang    Corak Insang/Corak2.jpg     No\n",
            "    Dayak            Dayak         Dayak/Dayak1.jpg            No\n",
            "    Ceplok           Dayak         Dayak/Dayak2.jpeg           Yes\n",
            "    Tumpal           Geblek Renteng    Geblek Renteng/Geblek1.jpg   Yes\n",
            "    Liong            Geblek Renteng    Geblek Renteng/Geblek2.jpg   Yes\n",
            "    Gunungan         Gunungan      Gunungan/Gunungan1.jpg      No\n",
            "    Gunungan         Gunungan      Gunungan/Gunungan2.jpg      No\n",
            "    Truntum          Jlamprang     Jlamprang/Jlamprang1.jpg    Yes\n",
            "    Geblek Renteng       Jlamprang     Jlamprang/jlamprang2.jpg    Yes\n",
            "    Sidoluhur        Kawung        Kawung/Kawung1.jpeg         Yes\n",
            "    Kawung           Kawung        Kawung/Kawung2.jpeg         No\n",
            "    Sekar            Liong         Liong/Liong1.jpeg           Yes\n",
            "    Liong            Liong         Liong/Liong2.jpeg           No\n",
            "    Megamendung       Megamendung    Megamendung/megamendung1.jpg   No\n",
            "    Megamendung       Megamendung    Megamendung/megamendung2.jpg   No\n",
            "    Geblek Renteng       Parang        Parang/Parang1.jpeg         Yes\n",
            "    Parang           Parang        Parang/Parang2.jpeg         No\n"
          ]
        }
      ],
      "source": [
        "# Load the Keras model from the uploaded file\n",
        "# model_path = '/content/drive/Shareddrives/Capstone - ML/Model 1. Batik Classification/Model/vgg16_23label50.h5'  # Update with the correct filename\n",
        "# vgg16_model = tf.keras.models.load_model(model_path)\n",
        "\n",
        "# make predictions\n",
        "preds = vgg16_model.predict(predict_generator, batch_size=predict_batch_size, verbose=0, steps=predict_steps)\n",
        "new_dict = {}\n",
        "for key in class_dict: # set key in new_dict to value in class_dict and value in new_dict to key in class_dict\n",
        "    value = class_dict[key]\n",
        "    new_dict[value] = key\n",
        "print('PREDICTED CLASS     TRUE CLASS       FILENAME                ERROR STATUS' ) # adjust spacing based on your class names\n",
        "error_list = [] # empty list to store if the prediction was correct or not\n",
        "error_file_list = []\n",
        "for i, p in enumerate(preds):\n",
        "    pred_index = np.argmax(p) # get the index that has the highest probability\n",
        "    if pred_index == tlabels[i]:\n",
        "        error_list.append('No') # correct classification\n",
        "    else:\n",
        "        error_list.append('Yes')\n",
        "        error_file_list.append(file_names[i])\n",
        "    pred_class = new_dict[pred_index] # find the predicted class based on the index\n",
        "    true_class = new_dict[tlabels[i]] # use the test label to get the true class of the test file\n",
        "    file = file_names[i]\n",
        "    print(f'    {pred_class:10s}       {true_class:10s}    {file:25s}   {error_list[i]}')"
      ]
    },
    {
      "cell_type": "code",
      "execution_count": null,
      "metadata": {
        "colab": {
          "base_uri": "https://localhost:8080/"
        },
        "id": "iEP3jcTB3zww",
        "outputId": "9095ac52-f7ab-45ed-a0e2-d6306070b0ae"
      },
      "outputs": [
        {
          "name": "stdout",
          "output_type": "stream",
          "text": [
            "True predict : 17 from 32 or 53.125 %\n"
          ]
        }
      ],
      "source": [
        "print(f\"True predict : {len(error_list) - len(error_file_list)} from {len(error_list)} or {(len(error_list) - len(error_file_list)) * 100/len(error_list)} %\")"
      ]
    },
    {
      "cell_type": "markdown",
      "metadata": {
        "id": "ppibpJT--VKR"
      },
      "source": [
        "#### Convert Model to JSON"
      ]
    },
    {
      "cell_type": "code",
      "source": [
        "!pip install tensorflowjs\n",
        "\n",
        "# DON'T RESTART SESSION"
      ],
      "metadata": {
        "id": "aJnFhVWVVUrP"
      },
      "execution_count": null,
      "outputs": []
    },
    {
      "cell_type": "code",
      "execution_count": null,
      "metadata": {
        "id": "LkF72GOC_MNF"
      },
      "outputs": [],
      "source": [
        "!cp /content/drive/Shareddrives/\"Capstone - ML\"/\"Model 1. Batik Classification\"/Model/vgg16_23label40.h5 /content/"
      ]
    },
    {
      "cell_type": "code",
      "execution_count": null,
      "metadata": {
        "colab": {
          "base_uri": "https://localhost:8080/"
        },
        "id": "kzFbrC9D-asZ",
        "outputId": "072a3846-34a7-4760-e93a-18c3eb8bf5d1"
      },
      "outputs": [
        {
          "name": "stdout",
          "output_type": "stream",
          "text": [
            "2024-06-12 13:06:00.003687: W tensorflow/compiler/tf2tensorrt/utils/py_utils.cc:38] TF-TRT Warning: Could not find TensorRT\n"
          ]
        }
      ],
      "source": [
        "# !tensorflowjs_converter --input_format=keras /content/drive/Shareddrives/\"Capstone - ML\"/\"Model 1. Batik Classification\"/Model/vgg16.h5 /content/drive/Shareddrives/\"Capstone - ML\"/\"Model 1. Batik Classification\"/Model/\n",
        "!tensorflowjs_converter --input_format=keras /content/vgg16_23label40.h5 /content/"
      ]
    },
    {
      "cell_type": "code",
      "execution_count": null,
      "metadata": {
        "colab": {
          "base_uri": "https://localhost:8080/"
        },
        "id": "lOY96uR7T1QK",
        "outputId": "0e04884b-b034-4c7f-f3f5-552eec531660"
      },
      "outputs": [
        {
          "name": "stdout",
          "output_type": "stream",
          "text": [
            "  adding: group1-shard10of27.bin (deflated 7%)\n",
            "  adding: group1-shard11of27.bin (deflated 7%)\n",
            "  adding: group1-shard12of27.bin (deflated 7%)\n",
            "  adding: group1-shard13of27.bin (deflated 7%)\n",
            "  adding: group1-shard14of27.bin (deflated 7%)\n",
            "  adding: group1-shard15of27.bin (deflated 8%)\n",
            "  adding: group1-shard16of27.bin (deflated 8%)\n",
            "  adding: group1-shard17of27.bin (deflated 8%)\n",
            "  adding: group1-shard18of27.bin (deflated 8%)\n",
            "  adding: group1-shard19of27.bin (deflated 8%)\n",
            "  adding: group1-shard1of27.bin (deflated 7%)\n",
            "  adding: group1-shard20of27.bin (deflated 8%)\n",
            "  adding: group1-shard21of27.bin (deflated 8%)\n",
            "  adding: group1-shard22of27.bin (deflated 8%)\n",
            "  adding: group1-shard23of27.bin (deflated 8%)\n",
            "  adding: group1-shard24of27.bin (deflated 8%)\n",
            "  adding: group1-shard25of27.bin (deflated 8%)\n",
            "  adding: group1-shard26of27.bin (deflated 8%)\n",
            "  adding: group1-shard27of27.bin (deflated 8%)\n",
            "  adding: group1-shard2of27.bin (deflated 7%)\n",
            "  adding: group1-shard3of27.bin (deflated 7%)\n",
            "  adding: group1-shard4of27.bin (deflated 7%)\n",
            "  adding: group1-shard5of27.bin (deflated 7%)\n",
            "  adding: group1-shard6of27.bin (deflated 7%)\n",
            "  adding: group1-shard7of27.bin (deflated 7%)\n",
            "  adding: group1-shard8of27.bin (deflated 7%)\n",
            "  adding: group1-shard9of27.bin (deflated 7%)\n",
            "  adding: model.json (deflated 91%)\n"
          ]
        }
      ],
      "source": [
        "!zip batik_model_vgg16.zip *.bin model.json"
      ]
    },
    {
      "cell_type": "code",
      "execution_count": null,
      "metadata": {
        "colab": {
          "base_uri": "https://localhost:8080/",
          "height": 34
        },
        "id": "pYioG37mBE3R",
        "outputId": "01a15465-2263-4784-ec2a-599e6643fb10"
      },
      "outputs": [
        {
          "data": {
            "application/javascript": [
              "\n",
              "    async function download(id, filename, size) {\n",
              "      if (!google.colab.kernel.accessAllowed) {\n",
              "        return;\n",
              "      }\n",
              "      const div = document.createElement('div');\n",
              "      const label = document.createElement('label');\n",
              "      label.textContent = `Downloading \"${filename}\": `;\n",
              "      div.appendChild(label);\n",
              "      const progress = document.createElement('progress');\n",
              "      progress.max = size;\n",
              "      div.appendChild(progress);\n",
              "      document.body.appendChild(div);\n",
              "\n",
              "      const buffers = [];\n",
              "      let downloaded = 0;\n",
              "\n",
              "      const channel = await google.colab.kernel.comms.open(id);\n",
              "      // Send a message to notify the kernel that we're ready.\n",
              "      channel.send({})\n",
              "\n",
              "      for await (const message of channel.messages) {\n",
              "        // Send a message to notify the kernel that we're ready.\n",
              "        channel.send({})\n",
              "        if (message.buffers) {\n",
              "          for (const buffer of message.buffers) {\n",
              "            buffers.push(buffer);\n",
              "            downloaded += buffer.byteLength;\n",
              "            progress.value = downloaded;\n",
              "          }\n",
              "        }\n",
              "      }\n",
              "      const blob = new Blob(buffers, {type: 'application/binary'});\n",
              "      const a = document.createElement('a');\n",
              "      a.href = window.URL.createObjectURL(blob);\n",
              "      a.download = filename;\n",
              "      div.appendChild(a);\n",
              "      a.click();\n",
              "      div.remove();\n",
              "    }\n",
              "  "
            ],
            "text/plain": [
              "<IPython.core.display.Javascript object>"
            ]
          },
          "metadata": {},
          "output_type": "display_data"
        },
        {
          "data": {
            "application/javascript": [
              "download(\"download_879d9927-5ee4-4db6-839e-bcdf8e5b0c25\", \"batik_model_vgg16.zip\", 102429069)"
            ],
            "text/plain": [
              "<IPython.core.display.Javascript object>"
            ]
          },
          "metadata": {},
          "output_type": "display_data"
        }
      ],
      "source": [
        "files.download(\"/content/batik_model_vgg16.zip\")"
      ]
    },
    {
      "cell_type": "markdown",
      "metadata": {
        "id": "ItHHGFf3qW2D"
      },
      "source": [
        "#### Convert Model to TFLite"
      ]
    },
    {
      "cell_type": "code",
      "execution_count": null,
      "metadata": {
        "id": "Vmx0txcOqhh8"
      },
      "outputs": [],
      "source": [
        "!cp /content/drive/Shareddrives/\"Capstone - ML\"/\"Model 1. Batik Classification\"/Model/vgg16_23label40.h5 /content/"
      ]
    },
    {
      "cell_type": "code",
      "execution_count": null,
      "metadata": {
        "colab": {
          "base_uri": "https://localhost:8080/"
        },
        "id": "6js5msjBqdNW",
        "outputId": "dda79908-b490-4bcd-8cd3-4bb1bd4b990f"
      },
      "outputs": [
        {
          "name": "stdout",
          "output_type": "stream",
          "text": [
            "TFLite model saved to /content/model_vgg16.tflite\n"
          ]
        }
      ],
      "source": [
        "# Load the H5 model\n",
        "h5_model_path = '/content/vgg16_23label40.h5'\n",
        "model = tf.keras.models.load_model(h5_model_path)\n",
        "\n",
        "# Convert the model to TFLite format with optimization\n",
        "converter = tf.lite.TFLiteConverter.from_keras_model(model)\n",
        "converter.optimizations = [tf.lite.Optimize.DEFAULT]  # Enable optimizations\n",
        "tflite_model = converter.convert()\n",
        "\n",
        "# Save the TFLite model\n",
        "tflite_model_path = '/content/model_vgg16.tflite'\n",
        "with open(tflite_model_path, 'wb') as f:\n",
        "    f.write(tflite_model)\n",
        "\n",
        "print(f\"TFLite model saved to {tflite_model_path}\")"
      ]
    },
    {
      "cell_type": "code",
      "execution_count": null,
      "metadata": {
        "id": "cKvMic_6rBDq"
      },
      "outputs": [],
      "source": [
        "!cp /content/model_vgg16.tflite /content/drive/Shareddrives/\"Capstone - ML\"/\"Model 1. Batik Classification\"/Model/\"Converted to TFLite\"/"
      ]
    },
    {
      "cell_type": "code",
      "execution_count": null,
      "metadata": {
        "colab": {
          "base_uri": "https://localhost:8080/",
          "height": 17
        },
        "id": "dJLpjjD1qegd",
        "outputId": "69ef122f-863a-483a-abeb-0a1102e6c0b5"
      },
      "outputs": [
        {
          "data": {
            "application/javascript": [
              "\n",
              "    async function download(id, filename, size) {\n",
              "      if (!google.colab.kernel.accessAllowed) {\n",
              "        return;\n",
              "      }\n",
              "      const div = document.createElement('div');\n",
              "      const label = document.createElement('label');\n",
              "      label.textContent = `Downloading \"${filename}\": `;\n",
              "      div.appendChild(label);\n",
              "      const progress = document.createElement('progress');\n",
              "      progress.max = size;\n",
              "      div.appendChild(progress);\n",
              "      document.body.appendChild(div);\n",
              "\n",
              "      const buffers = [];\n",
              "      let downloaded = 0;\n",
              "\n",
              "      const channel = await google.colab.kernel.comms.open(id);\n",
              "      // Send a message to notify the kernel that we're ready.\n",
              "      channel.send({})\n",
              "\n",
              "      for await (const message of channel.messages) {\n",
              "        // Send a message to notify the kernel that we're ready.\n",
              "        channel.send({})\n",
              "        if (message.buffers) {\n",
              "          for (const buffer of message.buffers) {\n",
              "            buffers.push(buffer);\n",
              "            downloaded += buffer.byteLength;\n",
              "            progress.value = downloaded;\n",
              "          }\n",
              "        }\n",
              "      }\n",
              "      const blob = new Blob(buffers, {type: 'application/binary'});\n",
              "      const a = document.createElement('a');\n",
              "      a.href = window.URL.createObjectURL(blob);\n",
              "      a.download = filename;\n",
              "      div.appendChild(a);\n",
              "      a.click();\n",
              "      div.remove();\n",
              "    }\n",
              "  "
            ],
            "text/plain": [
              "<IPython.core.display.Javascript object>"
            ]
          },
          "metadata": {},
          "output_type": "display_data"
        },
        {
          "data": {
            "application/javascript": [
              "download(\"download_b431f090-5191-4c07-93f7-4cb557fc29b7\", \"model_vgg16.tflite\", 27704432)"
            ],
            "text/plain": [
              "<IPython.core.display.Javascript object>"
            ]
          },
          "metadata": {},
          "output_type": "display_data"
        }
      ],
      "source": [
        "files.download(\"/content/model_vgg16.tflite\")"
      ]
    },
    {
      "cell_type": "markdown",
      "metadata": {
        "id": "s7e-kV1QReji"
      },
      "source": [
        "### 2. VGG19"
      ]
    },
    {
      "cell_type": "code",
      "execution_count": null,
      "metadata": {
        "colab": {
          "base_uri": "https://localhost:8080/"
        },
        "collapsed": true,
        "id": "eqpt7eUlRzAB",
        "outputId": "26ff5352-1515-4ea3-9b75-483984981941"
      },
      "outputs": [
        {
          "output_type": "stream",
          "name": "stdout",
          "text": [
            "Downloading data from https://storage.googleapis.com/tensorflow/keras-applications/vgg19/vgg19_weights_tf_dim_ordering_tf_kernels_notop.h5\n",
            "80134624/80134624 [==============================] - 1s 0us/step\n",
            "Model: \"model\"\n",
            "____________________________________________________________________________\n",
            " Layer (type)                Output Shape              Param #   Trainable  \n",
            "============================================================================\n",
            " input_1 (InputLayer)        [(None, 224, 224, 3)]     0         N          \n",
            "                                                                            \n",
            " block1_conv1 (Conv2D)       (None, 224, 224, 64)      1792      N          \n",
            "                                                                            \n",
            " block1_conv2 (Conv2D)       (None, 224, 224, 64)      36928     N          \n",
            "                                                                            \n",
            " block1_pool (MaxPooling2D)  (None, 112, 112, 64)      0         N          \n",
            "                                                                            \n",
            " block2_conv1 (Conv2D)       (None, 112, 112, 128)     73856     N          \n",
            "                                                                            \n",
            " block2_conv2 (Conv2D)       (None, 112, 112, 128)     147584    N          \n",
            "                                                                            \n",
            " block2_pool (MaxPooling2D)  (None, 56, 56, 128)       0         N          \n",
            "                                                                            \n",
            " block3_conv1 (Conv2D)       (None, 56, 56, 256)       295168    N          \n",
            "                                                                            \n",
            " block3_conv2 (Conv2D)       (None, 56, 56, 256)       590080    N          \n",
            "                                                                            \n",
            " block3_conv3 (Conv2D)       (None, 56, 56, 256)       590080    N          \n",
            "                                                                            \n",
            " block3_conv4 (Conv2D)       (None, 56, 56, 256)       590080    N          \n",
            "                                                                            \n",
            " block3_pool (MaxPooling2D)  (None, 28, 28, 256)       0         N          \n",
            "                                                                            \n",
            " block4_conv1 (Conv2D)       (None, 28, 28, 512)       1180160   N          \n",
            "                                                                            \n",
            " block4_conv2 (Conv2D)       (None, 28, 28, 512)       2359808   N          \n",
            "                                                                            \n",
            " block4_conv3 (Conv2D)       (None, 28, 28, 512)       2359808   N          \n",
            "                                                                            \n",
            " block4_conv4 (Conv2D)       (None, 28, 28, 512)       2359808   N          \n",
            "                                                                            \n",
            " block4_pool (MaxPooling2D)  (None, 14, 14, 512)       0         N          \n",
            "                                                                            \n",
            " block5_conv1 (Conv2D)       (None, 14, 14, 512)       2359808   N          \n",
            "                                                                            \n",
            " block5_conv2 (Conv2D)       (None, 14, 14, 512)       2359808   N          \n",
            "                                                                            \n",
            " block5_conv3 (Conv2D)       (None, 14, 14, 512)       2359808   N          \n",
            "                                                                            \n",
            " block5_conv4 (Conv2D)       (None, 14, 14, 512)       2359808   N          \n",
            "                                                                            \n",
            " block5_pool (MaxPooling2D)  (None, 7, 7, 512)         0         N          \n",
            "                                                                            \n",
            " flatten (Flatten)           (None, 25088)             0         Y          \n",
            "                                                                            \n",
            " dense (Dense)               (None, 1024)              2569113   Y          \n",
            "                                                       6                    \n",
            "                                                                            \n",
            " dropout (Dropout)           (None, 1024)              0         Y          \n",
            "                                                                            \n",
            " dense_1 (Dense)             (None, 512)               524800    Y          \n",
            "                                                                            \n",
            " dense_2 (Dense)             (None, 12)                6156      Y          \n",
            "                                                                            \n",
            "============================================================================\n",
            "Total params: 46246476 (176.42 MB)\n",
            "Trainable params: 26222092 (100.03 MB)\n",
            "Non-trainable params: 20024384 (76.39 MB)\n",
            "____________________________________________________________________________\n"
          ]
        }
      ],
      "source": [
        "# Load Pretrained VGG19 Model\n",
        "vgg19 = VGG19(weights='imagenet', include_top=False, input_shape=(224, 224, 3))\n",
        "# Make the Trainable Layers to False\n",
        "for layer in vgg19.layers:\n",
        "    layer.trainable = False\n",
        "\n",
        "# Flatten the output of the VGG16 model\n",
        "x = tf.keras.layers.Flatten()(vgg19.output)\n",
        "\n",
        "x = tf.keras.layers.Dense(1024, activation='relu')(x)\n",
        "x = tf.keras.layers.Dropout(0.5)(x)\n",
        "\n",
        "# Add a dense layer with ReLU activation\n",
        "x = tf.keras.layers.Dense(512, activation='relu')(x)\n",
        "\n",
        "# Add the output layer with softmax activation\n",
        "predictions = tf.keras.layers.Dense(num_classes, activation='softmax')(x)\n",
        "\n",
        "# Create the final model\n",
        "vgg19_model = tf.keras.models.Model(inputs=vgg19.input, outputs=predictions)\n",
        "\n",
        "# Print model summary\n",
        "vgg19_model.summary(show_trainable=True)"
      ]
    },
    {
      "cell_type": "code",
      "execution_count": null,
      "metadata": {
        "id": "1l08ZZo5-6bM"
      },
      "outputs": [],
      "source": [
        "EPOCHS = 30\n",
        "\n",
        "# Compile model\n",
        "vgg19_model.compile(loss='categorical_crossentropy',\n",
        "              optimizer=tf.keras.optimizers.Adam(learning_rate=0.00003),\n",
        "              metrics=['accuracy']\n",
        ")\n",
        "\n",
        "# Define the model checkpoint callback\n",
        "model_checkpoint = '/content/drive/Shareddrives/Capstone - ML/Model 1. Batik Classification/Model/Checkpoint/model_vgg19_{epoch:02d}_{val_loss:.2f}.h5'\n",
        "model_checkpoint_callback = tf.keras.callbacks.ModelCheckpoint(\n",
        "    filepath= model_checkpoint,\n",
        "    monitor='val_loss',\n",
        "    verbose=0,\n",
        "    save_best_only=True,\n",
        "    save_weights_only=False,\n",
        "    mode='auto',\n",
        "    save_freq='epoch',\n",
        "    initial_value_threshold=None\n",
        ")"
      ]
    },
    {
      "cell_type": "code",
      "execution_count": null,
      "metadata": {
        "colab": {
          "base_uri": "https://localhost:8080/"
        },
        "id": "zpsrW3cWSAU8",
        "outputId": "cc1dec12-58a1-4f59-afc6-b30be6a0da37"
      },
      "outputs": [
        {
          "output_type": "stream",
          "name": "stdout",
          "text": [
            "Epoch 1/30\n",
            "45/45 [==============================] - ETA: 0s - loss: 2.1514 - accuracy: 0.3021 "
          ]
        },
        {
          "output_type": "stream",
          "name": "stderr",
          "text": [
            "/usr/local/lib/python3.10/dist-packages/keras/src/engine/training.py:3103: UserWarning: You are saving your model as an HDF5 file via `model.save()`. This file format is considered legacy. We recommend using instead the native Keras format, e.g. `model.save('my_model.keras')`.\n",
            "  saving_api.save_model(\n"
          ]
        },
        {
          "output_type": "stream",
          "name": "stdout",
          "text": [
            "\b\b\b\b\b\b\b\b\b\b\b\b\b\b\b\b\b\b\b\b\b\b\b\b\b\b\b\b\b\b\b\b\b\b\b\b\b\b\b\b\b\b\b\b\b\b\b\b\b\b\b\b\b\b\b\b\b\b\b\b\b\b\b\b\b\b\b\b\b\b\b\b\b\b\b\b\b\b\b\b\b\b\r45/45 [==============================] - 565s 12s/step - loss: 2.1514 - accuracy: 0.3021 - val_loss: 1.4483 - val_accuracy: 0.6607\n",
            "Epoch 2/30\n",
            "45/45 [==============================] - 33s 737ms/step - loss: 1.3449 - accuracy: 0.6125 - val_loss: 1.0415 - val_accuracy: 0.7232\n",
            "Epoch 3/30\n",
            "45/45 [==============================] - 34s 762ms/step - loss: 1.0413 - accuracy: 0.6792 - val_loss: 0.8363 - val_accuracy: 0.7411\n",
            "Epoch 4/30\n",
            "45/45 [==============================] - 34s 755ms/step - loss: 0.8437 - accuracy: 0.7507 - val_loss: 0.7262 - val_accuracy: 0.7679\n",
            "Epoch 5/30\n",
            "45/45 [==============================] - 34s 751ms/step - loss: 0.7593 - accuracy: 0.7576 - val_loss: 0.6924 - val_accuracy: 0.7545\n",
            "Epoch 6/30\n",
            "45/45 [==============================] - 35s 771ms/step - loss: 0.6643 - accuracy: 0.8000 - val_loss: 0.6192 - val_accuracy: 0.7857\n",
            "Epoch 7/30\n",
            "45/45 [==============================] - 40s 885ms/step - loss: 0.6083 - accuracy: 0.8139 - val_loss: 0.6105 - val_accuracy: 0.7902\n",
            "Epoch 8/30\n",
            "45/45 [==============================] - 35s 783ms/step - loss: 0.5377 - accuracy: 0.8368 - val_loss: 0.5753 - val_accuracy: 0.8259\n",
            "Epoch 9/30\n",
            "45/45 [==============================] - 39s 843ms/step - loss: 0.5038 - accuracy: 0.8604 - val_loss: 0.5697 - val_accuracy: 0.7991\n",
            "Epoch 10/30\n",
            "45/45 [==============================] - 35s 775ms/step - loss: 0.4821 - accuracy: 0.8528 - val_loss: 0.5246 - val_accuracy: 0.8304\n",
            "Epoch 11/30\n",
            "45/45 [==============================] - 34s 758ms/step - loss: 0.4467 - accuracy: 0.8625 - val_loss: 0.5066 - val_accuracy: 0.8259\n",
            "Epoch 12/30\n",
            "45/45 [==============================] - 34s 737ms/step - loss: 0.4284 - accuracy: 0.8674 - val_loss: 0.5479 - val_accuracy: 0.7991\n",
            "Epoch 13/30\n",
            "45/45 [==============================] - 33s 733ms/step - loss: 0.4100 - accuracy: 0.8674 - val_loss: 0.4608 - val_accuracy: 0.8438\n",
            "Epoch 14/30\n",
            "45/45 [==============================] - 34s 760ms/step - loss: 0.3767 - accuracy: 0.8840 - val_loss: 0.4561 - val_accuracy: 0.8304\n",
            "Epoch 15/30\n",
            "45/45 [==============================] - 33s 741ms/step - loss: 0.3555 - accuracy: 0.8903 - val_loss: 0.4649 - val_accuracy: 0.8348\n",
            "Epoch 16/30\n",
            "45/45 [==============================] - 36s 801ms/step - loss: 0.3330 - accuracy: 0.8931 - val_loss: 0.4414 - val_accuracy: 0.8571\n",
            "Epoch 17/30\n",
            "45/45 [==============================] - 35s 777ms/step - loss: 0.3259 - accuracy: 0.9014 - val_loss: 0.4396 - val_accuracy: 0.8482\n",
            "Epoch 18/30\n",
            "45/45 [==============================] - 32s 715ms/step - loss: 0.3006 - accuracy: 0.9069 - val_loss: 0.4862 - val_accuracy: 0.8259\n",
            "Epoch 19/30\n",
            "45/45 [==============================] - 31s 695ms/step - loss: 0.3108 - accuracy: 0.9104 - val_loss: 0.4779 - val_accuracy: 0.8438\n",
            "Epoch 20/30\n",
            "45/45 [==============================] - 36s 802ms/step - loss: 0.2843 - accuracy: 0.9153 - val_loss: 0.3837 - val_accuracy: 0.8661\n",
            "Epoch 21/30\n",
            "45/45 [==============================] - 33s 740ms/step - loss: 0.2706 - accuracy: 0.9139 - val_loss: 0.4077 - val_accuracy: 0.8661\n",
            "Epoch 22/30\n",
            "45/45 [==============================] - 32s 702ms/step - loss: 0.2510 - accuracy: 0.9285 - val_loss: 0.4430 - val_accuracy: 0.8571\n",
            "Epoch 23/30\n",
            "45/45 [==============================] - 36s 800ms/step - loss: 0.2469 - accuracy: 0.9215 - val_loss: 0.3677 - val_accuracy: 0.8616\n",
            "Epoch 24/30\n",
            "45/45 [==============================] - 33s 718ms/step - loss: 0.2503 - accuracy: 0.9167 - val_loss: 0.4620 - val_accuracy: 0.8482\n",
            "Epoch 25/30\n",
            "45/45 [==============================] - 31s 696ms/step - loss: 0.2410 - accuracy: 0.9264 - val_loss: 0.3958 - val_accuracy: 0.8750\n",
            "Epoch 26/30\n",
            "45/45 [==============================] - 31s 691ms/step - loss: 0.2317 - accuracy: 0.9306 - val_loss: 0.4183 - val_accuracy: 0.8571\n",
            "Epoch 27/30\n",
            "45/45 [==============================] - 31s 689ms/step - loss: 0.2123 - accuracy: 0.9347 - val_loss: 0.4296 - val_accuracy: 0.8661\n",
            "Epoch 28/30\n",
            "45/45 [==============================] - 33s 739ms/step - loss: 0.1885 - accuracy: 0.9389 - val_loss: 0.3402 - val_accuracy: 0.9107\n",
            "Epoch 29/30\n",
            "45/45 [==============================] - 33s 737ms/step - loss: 0.1932 - accuracy: 0.9424 - val_loss: 0.4160 - val_accuracy: 0.8438\n",
            "Epoch 30/30\n",
            "45/45 [==============================] - 31s 687ms/step - loss: 0.1814 - accuracy: 0.9417 - val_loss: 0.3894 - val_accuracy: 0.8705\n"
          ]
        }
      ],
      "source": [
        "# Fit the model with the callback\n",
        "vgg19_history = vgg19_model.fit(\n",
        "    train_generator,\n",
        "    steps_per_epoch=STEP_SIZE_TRAIN,\n",
        "    epochs=EPOCHS,\n",
        "    validation_data=test_generator,\n",
        "    validation_steps=STEP_SIZE_TEST,\n",
        "    verbose=1,\n",
        "    callbacks=[model_checkpoint_callback],\n",
        ")"
      ]
    },
    {
      "cell_type": "code",
      "execution_count": null,
      "metadata": {
        "id": "U-7DxnowgTIE",
        "colab": {
          "base_uri": "https://localhost:8080/",
          "height": 468
        },
        "outputId": "782d59d6-5f43-469c-bed3-c42af65574d3"
      },
      "outputs": [
        {
          "output_type": "display_data",
          "data": {
            "text/plain": [
              "<Figure size 1000x500 with 2 Axes>"
            ],
            "image/png": "[encoded data removed]"
          },
          "metadata": {}
        }
      ],
      "source": [
        "# Visualize the History Model : Accuracy & Loss\n",
        "acc_1 = vgg19_history.history['accuracy']\n",
        "val_acc_1 = vgg19_history.history['val_accuracy']\n",
        "\n",
        "loss_1 = vgg19_history.history['loss']\n",
        "val_loss_1 = vgg19_history.history['val_loss']\n",
        "\n",
        "epochs_range = range(EPOCHS)\n",
        "\n",
        "plt.figure(figsize=(10, 5))\n",
        "plt.subplot(1, 2, 1)\n",
        "plt.plot(epochs_range, acc_1, label='Training Accuracy')\n",
        "plt.plot(epochs_range, val_acc_1, label='Validation Accuracy')\n",
        "plt.legend(loc='lower right')\n",
        "plt.title('Training and Validation Accuracy')\n",
        "\n",
        "plt.subplot(1, 2, 2)\n",
        "plt.plot(epochs_range, loss_1, label='Training Loss')\n",
        "plt.plot(epochs_range, val_loss_1, label='Validation Loss')\n",
        "plt.legend(loc='upper right')\n",
        "plt.title('Training and Validation Loss')\n",
        "plt.show()"
      ]
    },
    {
      "cell_type": "code",
      "execution_count": null,
      "metadata": {
        "id": "SczMyO02Jzuv",
        "colab": {
          "base_uri": "https://localhost:8080/"
        },
        "outputId": "af8cd879-2494-4a0b-8afe-702992d4cb7c"
      },
      "outputs": [
        {
          "output_type": "stream",
          "name": "stdout",
          "text": [
            "Model saved to Google Drive at: /content/drive/Shareddrives/Capstone - ML/Model 1. Batik Classification/Model/vgg19_12label30_new.h5\n",
            "Training history saved to Google Drive at: /content/drive/Shareddrives/Capstone - ML/Model 1. Batik Classification/Model/vgg19_history_12label30_new.csv\n"
          ]
        }
      ],
      "source": [
        "# Save model in Keras format\n",
        "model_save_path = '/content/drive/Shareddrives/Capstone - ML/Model 1. Batik Classification/Model/vgg19_12label30_new.h5'\n",
        "vgg19_model.save(model_save_path)\n",
        "print(\"Model saved to Google Drive at:\", model_save_path)\n",
        "\n",
        "# Save training history to CSV\n",
        "history_df = pd.DataFrame(vgg19_history.history)\n",
        "history_save_path = '/content/drive/Shareddrives/Capstone - ML/Model 1. Batik Classification/Model/vgg19_history_12label30_new.csv'\n",
        "history_df.to_csv(history_save_path, index=True)\n",
        "print(\"Training history saved to Google Drive at:\", history_save_path)"
      ]
    },
    {
      "cell_type": "markdown",
      "metadata": {
        "id": "TeKkWXFAn55I"
      },
      "source": [
        "#### Predict Model"
      ]
    },
    {
      "cell_type": "code",
      "execution_count": null,
      "metadata": {
        "colab": {
          "base_uri": "https://localhost:8080/"
        },
        "id": "bL178H5ioSBX",
        "outputId": "088f684e-a814-490d-8c36-1780b75138e4"
      },
      "outputs": [
        {
          "output_type": "stream",
          "name": "stdout",
          "text": [
            "Found 24 images belonging to 12 classes.\n"
          ]
        }
      ],
      "source": [
        "# Define Path Train and Test Directory\n",
        "predict_dataset_path = \"/content/drive/Shareddrives/Capstone - ML/Model 1. Batik Classification/Dataset/12 Label/predict2\"\n",
        "\n",
        "# Make Predict Datagen for ImageDataGenerator\n",
        "predict_datagen = ImageDataGenerator(\n",
        "    rescale=1./255\n",
        ")\n",
        "\n",
        "# Generate Image Generator for predict\n",
        "predict_generator = predict_datagen.flow_from_directory(\n",
        "    directory=predict_dataset_path,\n",
        "    target_size=(224, 224),\n",
        "    batch_size=BATCH_SIZE,\n",
        "    class_mode=\"categorical\",\n",
        "    # color_mode='grayscale',\n",
        "    shuffle=False\n",
        ")\n",
        "\n",
        "file_names = predict_generator.filenames  # save list of test files names to be used later\n",
        "tlabels = predict_generator.labels # save test labels to be used later\n",
        "class_dict = predict_generator.class_indices"
      ]
    },
    {
      "cell_type": "code",
      "execution_count": null,
      "metadata": {
        "colab": {
          "base_uri": "https://localhost:8080/"
        },
        "id": "V2NhgXVTn8il",
        "outputId": "ba717fc7-af28-4708-ecfc-f1dca2e3ade6"
      },
      "outputs": [
        {
          "output_type": "stream",
          "name": "stdout",
          "text": [
            "PREDICTED CLASS     TRUE CLASS       FILENAME                ERROR STATUS\n",
            "    Buketan          Buketan       Buketan/Buketan1.jpeg       No\n",
            "    Buketan          Buketan       Buketan/Buketan2.jpeg       No\n",
            "    Buketan          Cendrawasih    Cendrawasih/cendrawasih1.jpeg   Yes\n",
            "    Cendrawasih       Cendrawasih    Cendrawasih/cendrawasih2.jpg   No\n",
            "    Corak Insang       Corak Insang    Corak Insang/Corak1.jpg     No\n",
            "    Corak Insang       Corak Insang    Corak Insang/Corak2.jpg     No\n",
            "    Gunungan         Gunungan      Gunungan/Gunungan1.jpg      No\n",
            "    Gunungan         Gunungan      Gunungan/Gunungan2.jpg      No\n",
            "    Sidoluhur        Kawung        Kawung/Kawung1.jpeg         Yes\n",
            "    Kawung           Kawung        Kawung/Kawung2.jpeg         No\n",
            "    Megamendung       Megamendung    Megamendung/megamendung1.jpg   No\n",
            "    Megamendung       Megamendung    Megamendung/megamendung2.jpg   No\n",
            "    Parang           Parang        Parang/Parang1.jpeg         No\n",
            "    Parang           Parang        Parang/Parang2.jpeg         No\n",
            "    Prada            Prada         Prada/Prada1.jpg            No\n",
            "    Prada            Prada         Prada/Prada2.jpg            No\n",
            "    Sidoluhur        Sekar         Sekar/Sekar1.jpeg           Yes\n",
            "    Sekar            Sekar         Sekar/Sekar2.jpeg           No\n",
            "    Sidoluhur        Sidoluhur     Sidoluhur/Sidoluhur1.jpeg   No\n",
            "    Sidoluhur        Sidoluhur     Sidoluhur/Sidoluhur2.jpeg   No\n",
            "    Prada            Truntum       Truntum/Truntum1.jpeg       Yes\n",
            "    Truntum          Truntum       Truntum/Truntum2.jpeg       No\n",
            "    Tumpal           Tumpal        Tumpal/Tumpal1.jpeg         No\n",
            "    Tumpal           Tumpal        Tumpal/Tumpal2.jpeg         No\n"
          ]
        }
      ],
      "source": [
        "# Load the Keras model from the uploaded file\n",
        "# model_path = '/content/drive/Shareddrives/Capstone - ML/Model 1. Batik Classification/Model/Checkpoint/vgg19_best_model.h5'  # Update with the correct filename\n",
        "# model_path = '/content/drive/Shareddrives/Capstone - ML/Model 1. Batik Classification/Model/Checkpoint/model_vgg19_28_0.34.h5'  # Update with the correct filename\n",
        "# vgg19_model = tf.keras.models.load_model(model_path)\n",
        "\n",
        "# make predictions\n",
        "preds = vgg19_model.predict(predict_generator, verbose=0)\n",
        "new_dict = {}\n",
        "for key in class_dict: # set key in new_dict to value in class_dict and value in new_dict to key in class_dict\n",
        "    value = class_dict[key]\n",
        "    new_dict[value] = key\n",
        "print('PREDICTED CLASS     TRUE CLASS       FILENAME                ERROR STATUS' ) # adjust spacing based on your class names\n",
        "error_list = [] # empty list to store if the prediction was correct or not\n",
        "error_file_list = []\n",
        "for i, p in enumerate(preds):\n",
        "    pred_index = np.argmax(p) # get the index that has the highest probability\n",
        "    if pred_index == tlabels[i]:\n",
        "        error_list.append('No') # correct classification\n",
        "    else:\n",
        "        error_list.append('Yes')\n",
        "        error_file_list.append(file_names[i])\n",
        "    pred_class = new_dict[pred_index] # find the predicted class based on the index\n",
        "    true_class = new_dict[tlabels[i]] # use the test label to get the true class of the test file\n",
        "    file = file_names[i]\n",
        "    print(f'    {pred_class:10s}       {true_class:10s}    {file:25s}   {error_list[i]}')"
      ]
    },
    {
      "cell_type": "code",
      "execution_count": null,
      "metadata": {
        "colab": {
          "base_uri": "https://localhost:8080/"
        },
        "id": "8wgg-_s1oBh9",
        "outputId": "d69f8141-33fd-4da6-ea36-5a83d3fda513"
      },
      "outputs": [
        {
          "output_type": "stream",
          "name": "stdout",
          "text": [
            "True predict : 20 from 24 or 83.33333333333333 %\n"
          ]
        }
      ],
      "source": [
        "print(f\"True predict : {len(error_list) - len(error_file_list)} from {len(error_list)} or {(len(error_list) - len(error_file_list)) * 100/len(error_list)} %\")"
      ]
    },
    {
      "cell_type": "markdown",
      "source": [
        "#### Convert to JSON"
      ],
      "metadata": {
        "id": "iIBVeS1ZVczn"
      }
    },
    {
      "cell_type": "code",
      "source": [
        "!pip install tensorflowjs\n",
        "\n",
        "# DON'T RESTART SESSION"
      ],
      "metadata": {
        "id": "beXW1T7EVcbt",
        "colab": {
          "base_uri": "https://localhost:8080/",
          "height": 1000
        },
        "outputId": "84559166-d1c2-41f9-aeb6-0f6ad6125a4e"
      },
      "execution_count": null,
      "outputs": [
        {
          "output_type": "stream",
          "name": "stdout",
          "text": [
            "Collecting tensorflowjs\n",
            "  Downloading tensorflowjs-4.20.0-py3-none-any.whl (89 kB)\n",
            "\u001b[?25l     \u001b[90m━━━━━━━━━━━━━━━━━━━━━━━━━━━━━━━━━━━━━━━━\u001b[0m \u001b[32m0.0/89.1 kB\u001b[0m \u001b[31m?\u001b[0m eta \u001b[36m-:--:--\u001b[0m\r\u001b[2K     \u001b[91m━━━━━━━━━━━━━━━━━━━━━━━━━━━━━━━━━━━━\u001b[0m\u001b[91m╸\u001b[0m\u001b[90m━━━\u001b[0m \u001b[32m81.9/89.1 kB\u001b[0m \u001b[31m2.3 MB/s\u001b[0m eta \u001b[36m0:00:01\u001b[0m\r\u001b[2K     \u001b[90m━━━━━━━━━━━━━━━━━━━━━━━━━━━━━━━━━━━━━━━━\u001b[0m \u001b[32m89.1/89.1 kB\u001b[0m \u001b[31m2.0 MB/s\u001b[0m eta \u001b[36m0:00:00\u001b[0m\n",
            "\u001b[?25hRequirement already satisfied: flax>=0.7.2 in /usr/local/lib/python3.10/dist-packages (from tensorflowjs) (0.8.4)\n",
            "Requirement already satisfied: importlib_resources>=5.9.0 in /usr/local/lib/python3.10/dist-packages (from tensorflowjs) (6.4.0)\n",
            "Requirement already satisfied: jax>=0.4.13 in /usr/local/lib/python3.10/dist-packages (from tensorflowjs) (0.4.26)\n",
            "Requirement already satisfied: jaxlib>=0.4.13 in /usr/local/lib/python3.10/dist-packages (from tensorflowjs) (0.4.26+cuda12.cudnn89)\n",
            "Requirement already satisfied: tensorflow<3,>=2.13.0 in /usr/local/lib/python3.10/dist-packages (from tensorflowjs) (2.15.0)\n",
            "Requirement already satisfied: tf-keras>=2.13.0 in /usr/local/lib/python3.10/dist-packages (from tensorflowjs) (2.15.1)\n",
            "Collecting tensorflow-decision-forests>=1.5.0 (from tensorflowjs)\n",
            "  Downloading tensorflow_decision_forests-1.9.1-cp310-cp310-manylinux_2_17_x86_64.manylinux2014_x86_64.whl (15.5 MB)\n",
            "\u001b[2K     \u001b[90m━━━━━━━━━━━━━━━━━━━━━━━━━━━━━━━━━━━━━━━━\u001b[0m \u001b[32m15.5/15.5 MB\u001b[0m \u001b[31m59.5 MB/s\u001b[0m eta \u001b[36m0:00:00\u001b[0m\n",
            "\u001b[?25hRequirement already satisfied: six<2,>=1.16.0 in /usr/local/lib/python3.10/dist-packages (from tensorflowjs) (1.16.0)\n",
            "Requirement already satisfied: tensorflow-hub>=0.16.1 in /usr/local/lib/python3.10/dist-packages (from tensorflowjs) (0.16.1)\n",
            "Collecting packaging~=23.1 (from tensorflowjs)\n",
            "  Downloading packaging-23.2-py3-none-any.whl (53 kB)\n",
            "\u001b[2K     \u001b[90m━━━━━━━━━━━━━━━━━━━━━━━━━━━━━━━━━━━━━━━━\u001b[0m \u001b[32m53.0/53.0 kB\u001b[0m \u001b[31m6.9 MB/s\u001b[0m eta \u001b[36m0:00:00\u001b[0m\n",
            "\u001b[?25hRequirement already satisfied: numpy>=1.22 in /usr/local/lib/python3.10/dist-packages (from flax>=0.7.2->tensorflowjs) (1.25.2)\n",
            "Requirement already satisfied: msgpack in /usr/local/lib/python3.10/dist-packages (from flax>=0.7.2->tensorflowjs) (1.0.8)\n",
            "Requirement already satisfied: optax in /usr/local/lib/python3.10/dist-packages (from flax>=0.7.2->tensorflowjs) (0.2.2)\n",
            "Requirement already satisfied: orbax-checkpoint in /usr/local/lib/python3.10/dist-packages (from flax>=0.7.2->tensorflowjs) (0.4.4)\n",
            "Requirement already satisfied: tensorstore in /usr/local/lib/python3.10/dist-packages (from flax>=0.7.2->tensorflowjs) (0.1.45)\n",
            "Requirement already satisfied: rich>=11.1 in /usr/local/lib/python3.10/dist-packages (from flax>=0.7.2->tensorflowjs) (13.7.1)\n",
            "Requirement already satisfied: typing-extensions>=4.2 in /usr/local/lib/python3.10/dist-packages (from flax>=0.7.2->tensorflowjs) (4.12.2)\n",
            "Requirement already satisfied: PyYAML>=5.4.1 in /usr/local/lib/python3.10/dist-packages (from flax>=0.7.2->tensorflowjs) (6.0.1)\n",
            "Requirement already satisfied: ml-dtypes>=0.2.0 in /usr/local/lib/python3.10/dist-packages (from jax>=0.4.13->tensorflowjs) (0.2.0)\n",
            "Requirement already satisfied: opt-einsum in /usr/local/lib/python3.10/dist-packages (from jax>=0.4.13->tensorflowjs) (3.3.0)\n",
            "Requirement already satisfied: scipy>=1.9 in /usr/local/lib/python3.10/dist-packages (from jax>=0.4.13->tensorflowjs) (1.11.4)\n",
            "Requirement already satisfied: absl-py>=1.0.0 in /usr/local/lib/python3.10/dist-packages (from tensorflow<3,>=2.13.0->tensorflowjs) (1.4.0)\n",
            "Requirement already satisfied: astunparse>=1.6.0 in /usr/local/lib/python3.10/dist-packages (from tensorflow<3,>=2.13.0->tensorflowjs) (1.6.3)\n",
            "Requirement already satisfied: flatbuffers>=23.5.26 in /usr/local/lib/python3.10/dist-packages (from tensorflow<3,>=2.13.0->tensorflowjs) (24.3.25)\n",
            "Requirement already satisfied: gast!=0.5.0,!=0.5.1,!=0.5.2,>=0.2.1 in /usr/local/lib/python3.10/dist-packages (from tensorflow<3,>=2.13.0->tensorflowjs) (0.5.4)\n",
            "Requirement already satisfied: google-pasta>=0.1.1 in /usr/local/lib/python3.10/dist-packages (from tensorflow<3,>=2.13.0->tensorflowjs) (0.2.0)\n",
            "Requirement already satisfied: h5py>=2.9.0 in /usr/local/lib/python3.10/dist-packages (from tensorflow<3,>=2.13.0->tensorflowjs) (3.9.0)\n",
            "Requirement already satisfied: libclang>=13.0.0 in /usr/local/lib/python3.10/dist-packages (from tensorflow<3,>=2.13.0->tensorflowjs) (18.1.1)\n",
            "Requirement already satisfied: protobuf!=4.21.0,!=4.21.1,!=4.21.2,!=4.21.3,!=4.21.4,!=4.21.5,<5.0.0dev,>=3.20.3 in /usr/local/lib/python3.10/dist-packages (from tensorflow<3,>=2.13.0->tensorflowjs) (3.20.3)\n",
            "Requirement already satisfied: setuptools in /usr/local/lib/python3.10/dist-packages (from tensorflow<3,>=2.13.0->tensorflowjs) (67.7.2)\n",
            "Requirement already satisfied: termcolor>=1.1.0 in /usr/local/lib/python3.10/dist-packages (from tensorflow<3,>=2.13.0->tensorflowjs) (2.4.0)\n",
            "Requirement already satisfied: wrapt<1.15,>=1.11.0 in /usr/local/lib/python3.10/dist-packages (from tensorflow<3,>=2.13.0->tensorflowjs) (1.14.1)\n",
            "Requirement already satisfied: tensorflow-io-gcs-filesystem>=0.23.1 in /usr/local/lib/python3.10/dist-packages (from tensorflow<3,>=2.13.0->tensorflowjs) (0.37.0)\n",
            "Requirement already satisfied: grpcio<2.0,>=1.24.3 in /usr/local/lib/python3.10/dist-packages (from tensorflow<3,>=2.13.0->tensorflowjs) (1.64.1)\n",
            "Requirement already satisfied: tensorboard<2.16,>=2.15 in /usr/local/lib/python3.10/dist-packages (from tensorflow<3,>=2.13.0->tensorflowjs) (2.15.2)\n",
            "Requirement already satisfied: tensorflow-estimator<2.16,>=2.15.0 in /usr/local/lib/python3.10/dist-packages (from tensorflow<3,>=2.13.0->tensorflowjs) (2.15.0)\n",
            "Requirement already satisfied: keras<2.16,>=2.15.0 in /usr/local/lib/python3.10/dist-packages (from tensorflow<3,>=2.13.0->tensorflowjs) (2.15.0)\n",
            "Requirement already satisfied: pandas in /usr/local/lib/python3.10/dist-packages (from tensorflow-decision-forests>=1.5.0->tensorflowjs) (2.0.3)\n",
            "Collecting tensorflow<3,>=2.13.0 (from tensorflowjs)\n",
            "  Downloading tensorflow-2.16.1-cp310-cp310-manylinux_2_17_x86_64.manylinux2014_x86_64.whl (589.8 MB)\n",
            "\u001b[2K     \u001b[90m━━━━━━━━━━━━━━━━━━━━━━━━━━━━━━━━━━━━━━━━\u001b[0m \u001b[32m589.8/589.8 MB\u001b[0m \u001b[31m2.7 MB/s\u001b[0m eta \u001b[36m0:00:00\u001b[0m\n",
            "\u001b[?25hRequirement already satisfied: wheel in /usr/local/lib/python3.10/dist-packages (from tensorflow-decision-forests>=1.5.0->tensorflowjs) (0.43.0)\n",
            "Collecting wurlitzer (from tensorflow-decision-forests>=1.5.0->tensorflowjs)\n",
            "  Downloading wurlitzer-3.1.1-py3-none-any.whl (8.6 kB)\n",
            "Collecting tf-keras>=2.13.0 (from tensorflowjs)\n",
            "  Downloading tf_keras-2.16.0-py3-none-any.whl (1.7 MB)\n",
            "\u001b[2K     \u001b[90m━━━━━━━━━━━━━━━━━━━━━━━━━━━━━━━━━━━━━━━━\u001b[0m \u001b[32m1.7/1.7 MB\u001b[0m \u001b[31m71.2 MB/s\u001b[0m eta \u001b[36m0:00:00\u001b[0m\n",
            "\u001b[?25hCollecting ydf (from tensorflow-decision-forests>=1.5.0->tensorflowjs)\n",
            "  Downloading ydf-0.5.0-cp310-cp310-manylinux_2_17_x86_64.manylinux2014_x86_64.whl (9.3 MB)\n",
            "\u001b[2K     \u001b[90m━━━━━━━━━━━━━━━━━━━━━━━━━━━━━━━━━━━━━━━━\u001b[0m \u001b[32m9.3/9.3 MB\u001b[0m \u001b[31m79.4 MB/s\u001b[0m eta \u001b[36m0:00:00\u001b[0m\n",
            "\u001b[?25hCollecting h5py>=3.10.0 (from tensorflow<3,>=2.13.0->tensorflowjs)\n",
            "  Downloading h5py-3.11.0-cp310-cp310-manylinux_2_17_x86_64.manylinux2014_x86_64.whl (5.3 MB)\n",
            "\u001b[2K     \u001b[90m━━━━━━━━━━━━━━━━━━━━━━━━━━━━━━━━━━━━━━━━\u001b[0m \u001b[32m5.3/5.3 MB\u001b[0m \u001b[31m81.4 MB/s\u001b[0m eta \u001b[36m0:00:00\u001b[0m\n",
            "\u001b[?25hCollecting ml-dtypes>=0.2.0 (from jax>=0.4.13->tensorflowjs)\n",
            "  Downloading ml_dtypes-0.3.2-cp310-cp310-manylinux_2_17_x86_64.manylinux2014_x86_64.whl (2.2 MB)\n",
            "\u001b[2K     \u001b[90m━━━━━━━━━━━━━━━━━━━━━━━━━━━━━━━━━━━━━━━━\u001b[0m \u001b[32m2.2/2.2 MB\u001b[0m \u001b[31m60.5 MB/s\u001b[0m eta \u001b[36m0:00:00\u001b[0m\n",
            "\u001b[?25hRequirement already satisfied: requests<3,>=2.21.0 in /usr/local/lib/python3.10/dist-packages (from tensorflow<3,>=2.13.0->tensorflowjs) (2.31.0)\n",
            "Collecting tensorboard<2.17,>=2.16 (from tensorflow<3,>=2.13.0->tensorflowjs)\n",
            "  Downloading tensorboard-2.16.2-py3-none-any.whl (5.5 MB)\n",
            "\u001b[2K     \u001b[90m━━━━━━━━━━━━━━━━━━━━━━━━━━━━━━━━━━━━━━━━\u001b[0m \u001b[32m5.5/5.5 MB\u001b[0m \u001b[31m78.5 MB/s\u001b[0m eta \u001b[36m0:00:00\u001b[0m\n",
            "\u001b[?25hCollecting keras>=3.0.0 (from tensorflow<3,>=2.13.0->tensorflowjs)\n",
            "  Downloading keras-3.3.3-py3-none-any.whl (1.1 MB)\n",
            "\u001b[2K     \u001b[90m━━━━━━━━━━━━━━━━━━━━━━━━━━━━━━━━━━━━━━━━\u001b[0m \u001b[32m1.1/1.1 MB\u001b[0m \u001b[31m58.6 MB/s\u001b[0m eta \u001b[36m0:00:00\u001b[0m\n",
            "\u001b[?25hCollecting namex (from keras>=3.0.0->tensorflow<3,>=2.13.0->tensorflowjs)\n",
            "  Downloading namex-0.0.8-py3-none-any.whl (5.8 kB)\n",
            "Collecting optree (from keras>=3.0.0->tensorflow<3,>=2.13.0->tensorflowjs)\n",
            "  Downloading optree-0.11.0-cp310-cp310-manylinux_2_17_x86_64.manylinux2014_x86_64.whl (311 kB)\n",
            "\u001b[2K     \u001b[90m━━━━━━━━━━━━━━━━━━━━━━━━━━━━━━━━━━━━━━━━\u001b[0m \u001b[32m311.2/311.2 kB\u001b[0m \u001b[31m25.0 MB/s\u001b[0m eta \u001b[36m0:00:00\u001b[0m\n",
            "\u001b[?25hRequirement already satisfied: charset-normalizer<4,>=2 in /usr/local/lib/python3.10/dist-packages (from requests<3,>=2.21.0->tensorflow<3,>=2.13.0->tensorflowjs) (3.3.2)\n",
            "Requirement already satisfied: idna<4,>=2.5 in /usr/local/lib/python3.10/dist-packages (from requests<3,>=2.21.0->tensorflow<3,>=2.13.0->tensorflowjs) (3.7)\n",
            "Requirement already satisfied: urllib3<3,>=1.21.1 in /usr/local/lib/python3.10/dist-packages (from requests<3,>=2.21.0->tensorflow<3,>=2.13.0->tensorflowjs) (2.0.7)\n",
            "Requirement already satisfied: certifi>=2017.4.17 in /usr/local/lib/python3.10/dist-packages (from requests<3,>=2.21.0->tensorflow<3,>=2.13.0->tensorflowjs) (2024.6.2)\n",
            "Requirement already satisfied: markdown-it-py>=2.2.0 in /usr/local/lib/python3.10/dist-packages (from rich>=11.1->flax>=0.7.2->tensorflowjs) (3.0.0)\n",
            "Requirement already satisfied: pygments<3.0.0,>=2.13.0 in /usr/local/lib/python3.10/dist-packages (from rich>=11.1->flax>=0.7.2->tensorflowjs) (2.16.1)\n",
            "Requirement already satisfied: markdown>=2.6.8 in /usr/local/lib/python3.10/dist-packages (from tensorboard<2.17,>=2.16->tensorflow<3,>=2.13.0->tensorflowjs) (3.6)\n",
            "Requirement already satisfied: tensorboard-data-server<0.8.0,>=0.7.0 in /usr/local/lib/python3.10/dist-packages (from tensorboard<2.17,>=2.16->tensorflow<3,>=2.13.0->tensorflowjs) (0.7.2)\n",
            "Requirement already satisfied: werkzeug>=1.0.1 in /usr/local/lib/python3.10/dist-packages (from tensorboard<2.17,>=2.16->tensorflow<3,>=2.13.0->tensorflowjs) (3.0.3)\n",
            "Requirement already satisfied: chex>=0.1.86 in /usr/local/lib/python3.10/dist-packages (from optax->flax>=0.7.2->tensorflowjs) (0.1.86)\n",
            "Requirement already satisfied: etils[epath,epy] in /usr/local/lib/python3.10/dist-packages (from orbax-checkpoint->flax>=0.7.2->tensorflowjs) (1.7.0)\n",
            "Requirement already satisfied: nest_asyncio in /usr/local/lib/python3.10/dist-packages (from orbax-checkpoint->flax>=0.7.2->tensorflowjs) (1.6.0)\n",
            "Requirement already satisfied: python-dateutil>=2.8.2 in /usr/local/lib/python3.10/dist-packages (from pandas->tensorflow-decision-forests>=1.5.0->tensorflowjs) (2.8.2)\n",
            "Requirement already satisfied: pytz>=2020.1 in /usr/local/lib/python3.10/dist-packages (from pandas->tensorflow-decision-forests>=1.5.0->tensorflowjs) (2023.4)\n",
            "Requirement already satisfied: tzdata>=2022.1 in /usr/local/lib/python3.10/dist-packages (from pandas->tensorflow-decision-forests>=1.5.0->tensorflowjs) (2024.1)\n",
            "Requirement already satisfied: toolz>=0.9.0 in /usr/local/lib/python3.10/dist-packages (from chex>=0.1.86->optax->flax>=0.7.2->tensorflowjs) (0.12.1)\n",
            "Requirement already satisfied: mdurl~=0.1 in /usr/local/lib/python3.10/dist-packages (from markdown-it-py>=2.2.0->rich>=11.1->flax>=0.7.2->tensorflowjs) (0.1.2)\n",
            "Requirement already satisfied: MarkupSafe>=2.1.1 in /usr/local/lib/python3.10/dist-packages (from werkzeug>=1.0.1->tensorboard<2.17,>=2.16->tensorflow<3,>=2.13.0->tensorflowjs) (2.1.5)\n",
            "Requirement already satisfied: fsspec in /usr/local/lib/python3.10/dist-packages (from etils[epath,epy]->orbax-checkpoint->flax>=0.7.2->tensorflowjs) (2023.6.0)\n",
            "Requirement already satisfied: zipp in /usr/local/lib/python3.10/dist-packages (from etils[epath,epy]->orbax-checkpoint->flax>=0.7.2->tensorflowjs) (3.19.2)\n",
            "Installing collected packages: namex, ydf, wurlitzer, packaging, optree, ml-dtypes, h5py, tensorboard, keras, tensorflow, tf-keras, tensorflow-decision-forests, tensorflowjs\n",
            "  Attempting uninstall: packaging\n",
            "    Found existing installation: packaging 24.1\n",
            "    Uninstalling packaging-24.1:\n",
            "      Successfully uninstalled packaging-24.1\n",
            "  Attempting uninstall: ml-dtypes\n",
            "    Found existing installation: ml-dtypes 0.2.0\n",
            "    Uninstalling ml-dtypes-0.2.0:\n",
            "      Successfully uninstalled ml-dtypes-0.2.0\n",
            "  Attempting uninstall: h5py\n",
            "    Found existing installation: h5py 3.9.0\n",
            "    Uninstalling h5py-3.9.0:\n",
            "      Successfully uninstalled h5py-3.9.0\n",
            "  Attempting uninstall: tensorboard\n",
            "    Found existing installation: tensorboard 2.15.2\n",
            "    Uninstalling tensorboard-2.15.2:\n",
            "      Successfully uninstalled tensorboard-2.15.2\n",
            "  Attempting uninstall: keras\n",
            "    Found existing installation: keras 2.15.0\n",
            "    Uninstalling keras-2.15.0:\n",
            "      Successfully uninstalled keras-2.15.0\n",
            "  Attempting uninstall: tensorflow\n",
            "    Found existing installation: tensorflow 2.15.0\n",
            "    Uninstalling tensorflow-2.15.0:\n",
            "      Successfully uninstalled tensorflow-2.15.0\n",
            "  Attempting uninstall: tf-keras\n",
            "    Found existing installation: tf_keras 2.15.1\n",
            "    Uninstalling tf_keras-2.15.1:\n",
            "      Successfully uninstalled tf_keras-2.15.1\n",
            "Successfully installed h5py-3.11.0 keras-3.3.3 ml-dtypes-0.3.2 namex-0.0.8 optree-0.11.0 packaging-23.2 tensorboard-2.16.2 tensorflow-2.16.1 tensorflow-decision-forests-1.9.1 tensorflowjs-4.20.0 tf-keras-2.16.0 wurlitzer-3.1.1 ydf-0.5.0\n"
          ]
        },
        {
          "output_type": "display_data",
          "data": {
            "application/vnd.colab-display-data+json": {
              "pip_warning": {
                "packages": [
                  "h5py",
                  "keras",
                  "ml_dtypes",
                  "tensorboard",
                  "tensorflow"
                ]
              },
              "id": "adb246b88dd246e59c2d0e8859ddb69e"
            }
          },
          "metadata": {}
        }
      ]
    },
    {
      "cell_type": "code",
      "source": [
        "!cp /content/drive/Shareddrives/\"Capstone - ML\"/\"Model 1. Batik Classification\"/Model/Checkpoint/model_vgg19_28_0.34.h5 /content/"
      ],
      "metadata": {
        "id": "9ODrH4OOVflB"
      },
      "execution_count": null,
      "outputs": []
    },
    {
      "cell_type": "code",
      "source": [
        "# !tensorflowjs_converter --input_format=keras /content/drive/Shareddrives/\"Capstone - ML\"/\"Model 1. Batik Classification\"/Model/vgg16.h5 /content/drive/Shareddrives/\"Capstone - ML\"/\"Model 1. Batik Classification\"/Model/\n",
        "!tensorflowjs_converter --input_format=keras /content/model_vgg19_28_0.34.h5 /content/"
      ],
      "metadata": {
        "id": "vQejNYwmVsAg",
        "colab": {
          "base_uri": "https://localhost:8080/"
        },
        "outputId": "f2a9560f-e474-4096-f8db-2bcec6848978"
      },
      "execution_count": null,
      "outputs": [
        {
          "output_type": "stream",
          "name": "stdout",
          "text": [
            "2024-06-19 15:26:53.094472: W tensorflow/compiler/tf2tensorrt/utils/py_utils.cc:38] TF-TRT Warning: Could not find TensorRT\n"
          ]
        }
      ]
    },
    {
      "cell_type": "code",
      "source": [
        "!zip batik_model_vgg19_12label.zip *.bin model.json"
      ],
      "metadata": {
        "id": "YygOt3jCVuo_",
        "colab": {
          "base_uri": "https://localhost:8080/"
        },
        "outputId": "f0d9c208-82cd-4ed3-f225-d19851204ed9"
      },
      "execution_count": null,
      "outputs": [
        {
          "output_type": "stream",
          "name": "stdout",
          "text": [
            "  adding: group1-shard10of45.bin (deflated 7%)\n",
            "  adding: group1-shard11of45.bin (deflated 7%)\n",
            "  adding: group1-shard12of45.bin (deflated 7%)\n",
            "  adding: group1-shard13of45.bin (deflated 7%)\n",
            "  adding: group1-shard14of45.bin (deflated 7%)\n",
            "  adding: group1-shard15of45.bin (deflated 7%)\n",
            "  adding: group1-shard16of45.bin (deflated 7%)\n",
            "  adding: group1-shard17of45.bin (deflated 7%)\n",
            "  adding: group1-shard18of45.bin (deflated 7%)\n",
            "  adding: group1-shard19of45.bin (deflated 7%)\n",
            "  adding: group1-shard1of45.bin (deflated 7%)\n",
            "  adding: group1-shard20of45.bin (deflated 8%)\n",
            "  adding: group1-shard21of45.bin (deflated 8%)\n",
            "  adding: group1-shard22of45.bin (deflated 8%)\n",
            "  adding: group1-shard23of45.bin (deflated 8%)\n",
            "  adding: group1-shard24of45.bin (deflated 8%)\n",
            "  adding: group1-shard25of45.bin (deflated 8%)\n",
            "  adding: group1-shard26of45.bin (deflated 8%)\n",
            "  adding: group1-shard27of45.bin (deflated 8%)\n",
            "  adding: group1-shard28of45.bin (deflated 8%)\n",
            "  adding: group1-shard29of45.bin (deflated 8%)\n",
            "  adding: group1-shard2of45.bin (deflated 7%)\n",
            "  adding: group1-shard30of45.bin (deflated 8%)\n",
            "  adding: group1-shard31of45.bin (deflated 8%)\n",
            "  adding: group1-shard32of45.bin (deflated 8%)\n",
            "  adding: group1-shard33of45.bin (deflated 8%)\n",
            "  adding: group1-shard34of45.bin (deflated 8%)\n",
            "  adding: group1-shard35of45.bin (deflated 8%)\n",
            "  adding: group1-shard36of45.bin (deflated 8%)\n",
            "  adding: group1-shard37of45.bin (deflated 8%)\n",
            "  adding: group1-shard38of45.bin (deflated 8%)\n",
            "  adding: group1-shard39of45.bin (deflated 8%)\n",
            "  adding: group1-shard3of45.bin (deflated 7%)\n",
            "  adding: group1-shard40of45.bin (deflated 8%)\n",
            "  adding: group1-shard41of45.bin (deflated 8%)\n",
            "  adding: group1-shard42of45.bin (deflated 8%)\n",
            "  adding: group1-shard43of45.bin (deflated 8%)\n",
            "  adding: group1-shard44of45.bin (deflated 8%)\n",
            "  adding: group1-shard45of45.bin (deflated 8%)\n",
            "  adding: group1-shard4of45.bin (deflated 7%)\n",
            "  adding: group1-shard5of45.bin (deflated 7%)\n",
            "  adding: group1-shard6of45.bin (deflated 7%)\n",
            "  adding: group1-shard7of45.bin (deflated 7%)\n",
            "  adding: group1-shard8of45.bin (deflated 7%)\n",
            "  adding: group1-shard9of45.bin (deflated 7%)\n",
            "  adding: model.json (deflated 92%)\n"
          ]
        }
      ]
    },
    {
      "cell_type": "code",
      "source": [
        "files.download(\"/content/batik_model_vgg19_12label.zip\")"
      ],
      "metadata": {
        "id": "z-JnD0pXV2aN",
        "colab": {
          "base_uri": "https://localhost:8080/",
          "height": 34
        },
        "outputId": "b0b445cf-a67b-4e3a-d214-281f2e2962e2"
      },
      "execution_count": null,
      "outputs": [
        {
          "output_type": "display_data",
          "data": {
            "text/plain": [
              "<IPython.core.display.Javascript object>"
            ],
            "application/javascript": [
              "\n",
              "    async function download(id, filename, size) {\n",
              "      if (!google.colab.kernel.accessAllowed) {\n",
              "        return;\n",
              "      }\n",
              "      const div = document.createElement('div');\n",
              "      const label = document.createElement('label');\n",
              "      label.textContent = `Downloading \"${filename}\": `;\n",
              "      div.appendChild(label);\n",
              "      const progress = document.createElement('progress');\n",
              "      progress.max = size;\n",
              "      div.appendChild(progress);\n",
              "      document.body.appendChild(div);\n",
              "\n",
              "      const buffers = [];\n",
              "      let downloaded = 0;\n",
              "\n",
              "      const channel = await google.colab.kernel.comms.open(id);\n",
              "      // Send a message to notify the kernel that we're ready.\n",
              "      channel.send({})\n",
              "\n",
              "      for await (const message of channel.messages) {\n",
              "        // Send a message to notify the kernel that we're ready.\n",
              "        channel.send({})\n",
              "        if (message.buffers) {\n",
              "          for (const buffer of message.buffers) {\n",
              "            buffers.push(buffer);\n",
              "            downloaded += buffer.byteLength;\n",
              "            progress.value = downloaded;\n",
              "          }\n",
              "        }\n",
              "      }\n",
              "      const blob = new Blob(buffers, {type: 'application/binary'});\n",
              "      const a = document.createElement('a');\n",
              "      a.href = window.URL.createObjectURL(blob);\n",
              "      a.download = filename;\n",
              "      div.appendChild(a);\n",
              "      a.click();\n",
              "      div.remove();\n",
              "    }\n",
              "  "
            ]
          },
          "metadata": {}
        },
        {
          "output_type": "display_data",
          "data": {
            "text/plain": [
              "<IPython.core.display.Javascript object>"
            ],
            "application/javascript": [
              "download(\"download_4002f3f0-477d-496c-9d05-d9ea832f7de3\", \"batik_model_vgg19_12label.zip\", 171258213)"
            ]
          },
          "metadata": {}
        }
      ]
    },
    {
      "cell_type": "markdown",
      "metadata": {
        "id": "VLiXyIMFnBXt"
      },
      "source": [
        "### 3. MobileNetV2"
      ]
    },
    {
      "cell_type": "code",
      "execution_count": null,
      "metadata": {
        "colab": {
          "base_uri": "https://localhost:8080/"
        },
        "collapsed": true,
        "id": "o_PS4HnXnFb7",
        "outputId": "1c98be2c-2704-46f3-9bcb-cc8908164784"
      },
      "outputs": [
        {
          "name": "stdout",
          "output_type": "stream",
          "text": [
            "Model: \"model_2\"\n",
            "_____________________________________________________________________________________________________________\n",
            " Layer (type)                Output Shape                 Param #   Connected to                  Trainable  \n",
            "=============================================================================================================\n",
            " input_3 (InputLayer)        [(None, 224, 224, 3)]        0         []                            N          \n",
            "                                                                                                             \n",
            " Conv1 (Conv2D)              (None, 112, 112, 32)         864       ['input_3[0][0]']             N          \n",
            "                                                                                                             \n",
            " bn_Conv1 (BatchNormalizati  (None, 112, 112, 32)         128       ['Conv1[0][0]']               N          \n",
            " on)                                                                                                         \n",
            "                                                                                                             \n",
            " Conv1_relu (ReLU)           (None, 112, 112, 32)         0         ['bn_Conv1[0][0]']            N          \n",
            "                                                                                                             \n",
            " expanded_conv_depthwise (D  (None, 112, 112, 32)         288       ['Conv1_relu[0][0]']          N          \n",
            " epthwiseConv2D)                                                                                             \n",
            "                                                                                                             \n",
            " expanded_conv_depthwise_BN  (None, 112, 112, 32)         128       ['expanded_conv_depthwise[0   N          \n",
            "  (BatchNormalization)                                              ][0]']                                   \n",
            "                                                                                                             \n",
            " expanded_conv_depthwise_re  (None, 112, 112, 32)         0         ['expanded_conv_depthwise_B   N          \n",
            " lu (ReLU)                                                          N[0][0]']                                \n",
            "                                                                                                             \n",
            " expanded_conv_project (Con  (None, 112, 112, 16)         512       ['expanded_conv_depthwise_r   N          \n",
            " v2D)                                                               elu[0][0]']                              \n",
            "                                                                                                             \n",
            " expanded_conv_project_BN (  (None, 112, 112, 16)         64        ['expanded_conv_project[0][   N          \n",
            " BatchNormalization)                                                0]']                                     \n",
            "                                                                                                             \n",
            " block_1_expand (Conv2D)     (None, 112, 112, 96)         1536      ['expanded_conv_project_BN[   N          \n",
            "                                                                    0][0]']                                  \n",
            "                                                                                                             \n",
            " block_1_expand_BN (BatchNo  (None, 112, 112, 96)         384       ['block_1_expand[0][0]']      N          \n",
            " rmalization)                                                                                                \n",
            "                                                                                                             \n",
            " block_1_expand_relu (ReLU)  (None, 112, 112, 96)         0         ['block_1_expand_BN[0][0]']   N          \n",
            "                                                                                                             \n",
            " block_1_pad (ZeroPadding2D  (None, 113, 113, 96)         0         ['block_1_expand_relu[0][0]   N          \n",
            " )                                                                  ']                                       \n",
            "                                                                                                             \n",
            " block_1_depthwise (Depthwi  (None, 56, 56, 96)           864       ['block_1_pad[0][0]']         N          \n",
            " seConv2D)                                                                                                   \n",
            "                                                                                                             \n",
            " block_1_depthwise_BN (Batc  (None, 56, 56, 96)           384       ['block_1_depthwise[0][0]']   N          \n",
            " hNormalization)                                                                                             \n",
            "                                                                                                             \n",
            " block_1_depthwise_relu (Re  (None, 56, 56, 96)           0         ['block_1_depthwise_BN[0][0   N          \n",
            " LU)                                                                ]']                                      \n",
            "                                                                                                             \n",
            " block_1_project (Conv2D)    (None, 56, 56, 24)           2304      ['block_1_depthwise_relu[0]   N          \n",
            "                                                                    [0]']                                    \n",
            "                                                                                                             \n",
            " block_1_project_BN (BatchN  (None, 56, 56, 24)           96        ['block_1_project[0][0]']     N          \n",
            " ormalization)                                                                                               \n",
            "                                                                                                             \n",
            " block_2_expand (Conv2D)     (None, 56, 56, 144)          3456      ['block_1_project_BN[0][0]'   N          \n",
            "                                                                    ]                                        \n",
            "                                                                                                             \n",
            " block_2_expand_BN (BatchNo  (None, 56, 56, 144)          576       ['block_2_expand[0][0]']      N          \n",
            " rmalization)                                                                                                \n",
            "                                                                                                             \n",
            " block_2_expand_relu (ReLU)  (None, 56, 56, 144)          0         ['block_2_expand_BN[0][0]']   N          \n",
            "                                                                                                             \n",
            " block_2_depthwise (Depthwi  (None, 56, 56, 144)          1296      ['block_2_expand_relu[0][0]   N          \n",
            " seConv2D)                                                          ']                                       \n",
            "                                                                                                             \n",
            " block_2_depthwise_BN (Batc  (None, 56, 56, 144)          576       ['block_2_depthwise[0][0]']   N          \n",
            " hNormalization)                                                                                             \n",
            "                                                                                                             \n",
            " block_2_depthwise_relu (Re  (None, 56, 56, 144)          0         ['block_2_depthwise_BN[0][0   N          \n",
            " LU)                                                                ]']                                      \n",
            "                                                                                                             \n",
            " block_2_project (Conv2D)    (None, 56, 56, 24)           3456      ['block_2_depthwise_relu[0]   N          \n",
            "                                                                    [0]']                                    \n",
            "                                                                                                             \n",
            " block_2_project_BN (BatchN  (None, 56, 56, 24)           96        ['block_2_project[0][0]']     N          \n",
            " ormalization)                                                                                               \n",
            "                                                                                                             \n",
            " block_2_add (Add)           (None, 56, 56, 24)           0         ['block_1_project_BN[0][0]'   N          \n",
            "                                                                    , 'block_2_project_BN[0][0]              \n",
            "                                                                    ']                                       \n",
            "                                                                                                             \n",
            " block_3_expand (Conv2D)     (None, 56, 56, 144)          3456      ['block_2_add[0][0]']         N          \n",
            "                                                                                                             \n",
            " block_3_expand_BN (BatchNo  (None, 56, 56, 144)          576       ['block_3_expand[0][0]']      N          \n",
            " rmalization)                                                                                                \n",
            "                                                                                                             \n",
            " block_3_expand_relu (ReLU)  (None, 56, 56, 144)          0         ['block_3_expand_BN[0][0]']   N          \n",
            "                                                                                                             \n",
            " block_3_pad (ZeroPadding2D  (None, 57, 57, 144)          0         ['block_3_expand_relu[0][0]   N          \n",
            " )                                                                  ']                                       \n",
            "                                                                                                             \n",
            " block_3_depthwise (Depthwi  (None, 28, 28, 144)          1296      ['block_3_pad[0][0]']         N          \n",
            " seConv2D)                                                                                                   \n",
            "                                                                                                             \n",
            " block_3_depthwise_BN (Batc  (None, 28, 28, 144)          576       ['block_3_depthwise[0][0]']   N          \n",
            " hNormalization)                                                                                             \n",
            "                                                                                                             \n",
            " block_3_depthwise_relu (Re  (None, 28, 28, 144)          0         ['block_3_depthwise_BN[0][0   N          \n",
            " LU)                                                                ]']                                      \n",
            "                                                                                                             \n",
            " block_3_project (Conv2D)    (None, 28, 28, 32)           4608      ['block_3_depthwise_relu[0]   N          \n",
            "                                                                    [0]']                                    \n",
            "                                                                                                             \n",
            " block_3_project_BN (BatchN  (None, 28, 28, 32)           128       ['block_3_project[0][0]']     N          \n",
            " ormalization)                                                                                               \n",
            "                                                                                                             \n",
            " block_4_expand (Conv2D)     (None, 28, 28, 192)          6144      ['block_3_project_BN[0][0]'   N          \n",
            "                                                                    ]                                        \n",
            "                                                                                                             \n",
            " block_4_expand_BN (BatchNo  (None, 28, 28, 192)          768       ['block_4_expand[0][0]']      N          \n",
            " rmalization)                                                                                                \n",
            "                                                                                                             \n",
            " block_4_expand_relu (ReLU)  (None, 28, 28, 192)          0         ['block_4_expand_BN[0][0]']   N          \n",
            "                                                                                                             \n",
            " block_4_depthwise (Depthwi  (None, 28, 28, 192)          1728      ['block_4_expand_relu[0][0]   N          \n",
            " seConv2D)                                                          ']                                       \n",
            "                                                                                                             \n",
            " block_4_depthwise_BN (Batc  (None, 28, 28, 192)          768       ['block_4_depthwise[0][0]']   N          \n",
            " hNormalization)                                                                                             \n",
            "                                                                                                             \n",
            " block_4_depthwise_relu (Re  (None, 28, 28, 192)          0         ['block_4_depthwise_BN[0][0   N          \n",
            " LU)                                                                ]']                                      \n",
            "                                                                                                             \n",
            " block_4_project (Conv2D)    (None, 28, 28, 32)           6144      ['block_4_depthwise_relu[0]   N          \n",
            "                                                                    [0]']                                    \n",
            "                                                                                                             \n",
            " block_4_project_BN (BatchN  (None, 28, 28, 32)           128       ['block_4_project[0][0]']     N          \n",
            " ormalization)                                                                                               \n",
            "                                                                                                             \n",
            " block_4_add (Add)           (None, 28, 28, 32)           0         ['block_3_project_BN[0][0]'   N          \n",
            "                                                                    , 'block_4_project_BN[0][0]              \n",
            "                                                                    ']                                       \n",
            "                                                                                                             \n",
            " block_5_expand (Conv2D)     (None, 28, 28, 192)          6144      ['block_4_add[0][0]']         N          \n",
            "                                                                                                             \n",
            " block_5_expand_BN (BatchNo  (None, 28, 28, 192)          768       ['block_5_expand[0][0]']      N          \n",
            " rmalization)                                                                                                \n",
            "                                                                                                             \n",
            " block_5_expand_relu (ReLU)  (None, 28, 28, 192)          0         ['block_5_expand_BN[0][0]']   N          \n",
            "                                                                                                             \n",
            " block_5_depthwise (Depthwi  (None, 28, 28, 192)          1728      ['block_5_expand_relu[0][0]   N          \n",
            " seConv2D)                                                          ']                                       \n",
            "                                                                                                             \n",
            " block_5_depthwise_BN (Batc  (None, 28, 28, 192)          768       ['block_5_depthwise[0][0]']   N          \n",
            " hNormalization)                                                                                             \n",
            "                                                                                                             \n",
            " block_5_depthwise_relu (Re  (None, 28, 28, 192)          0         ['block_5_depthwise_BN[0][0   N          \n",
            " LU)                                                                ]']                                      \n",
            "                                                                                                             \n",
            " block_5_project (Conv2D)    (None, 28, 28, 32)           6144      ['block_5_depthwise_relu[0]   N          \n",
            "                                                                    [0]']                                    \n",
            "                                                                                                             \n",
            " block_5_project_BN (BatchN  (None, 28, 28, 32)           128       ['block_5_project[0][0]']     N          \n",
            " ormalization)                                                                                               \n",
            "                                                                                                             \n",
            " block_5_add (Add)           (None, 28, 28, 32)           0         ['block_4_add[0][0]',         N          \n",
            "                                                                     'block_5_project_BN[0][0]'              \n",
            "                                                                    ]                                        \n",
            "                                                                                                             \n",
            " block_6_expand (Conv2D)     (None, 28, 28, 192)          6144      ['block_5_add[0][0]']         N          \n",
            "                                                                                                             \n",
            " block_6_expand_BN (BatchNo  (None, 28, 28, 192)          768       ['block_6_expand[0][0]']      N          \n",
            " rmalization)                                                                                                \n",
            "                                                                                                             \n",
            " block_6_expand_relu (ReLU)  (None, 28, 28, 192)          0         ['block_6_expand_BN[0][0]']   N          \n",
            "                                                                                                             \n",
            " block_6_pad (ZeroPadding2D  (None, 29, 29, 192)          0         ['block_6_expand_relu[0][0]   N          \n",
            " )                                                                  ']                                       \n",
            "                                                                                                             \n",
            " block_6_depthwise (Depthwi  (None, 14, 14, 192)          1728      ['block_6_pad[0][0]']         N          \n",
            " seConv2D)                                                                                                   \n",
            "                                                                                                             \n",
            " block_6_depthwise_BN (Batc  (None, 14, 14, 192)          768       ['block_6_depthwise[0][0]']   N          \n",
            " hNormalization)                                                                                             \n",
            "                                                                                                             \n",
            " block_6_depthwise_relu (Re  (None, 14, 14, 192)          0         ['block_6_depthwise_BN[0][0   N          \n",
            " LU)                                                                ]']                                      \n",
            "                                                                                                             \n",
            " block_6_project (Conv2D)    (None, 14, 14, 64)           12288     ['block_6_depthwise_relu[0]   N          \n",
            "                                                                    [0]']                                    \n",
            "                                                                                                             \n",
            " block_6_project_BN (BatchN  (None, 14, 14, 64)           256       ['block_6_project[0][0]']     N          \n",
            " ormalization)                                                                                               \n",
            "                                                                                                             \n",
            " block_7_expand (Conv2D)     (None, 14, 14, 384)          24576     ['block_6_project_BN[0][0]'   N          \n",
            "                                                                    ]                                        \n",
            "                                                                                                             \n",
            " block_7_expand_BN (BatchNo  (None, 14, 14, 384)          1536      ['block_7_expand[0][0]']      N          \n",
            " rmalization)                                                                                                \n",
            "                                                                                                             \n",
            " block_7_expand_relu (ReLU)  (None, 14, 14, 384)          0         ['block_7_expand_BN[0][0]']   N          \n",
            "                                                                                                             \n",
            " block_7_depthwise (Depthwi  (None, 14, 14, 384)          3456      ['block_7_expand_relu[0][0]   N          \n",
            " seConv2D)                                                          ']                                       \n",
            "                                                                                                             \n",
            " block_7_depthwise_BN (Batc  (None, 14, 14, 384)          1536      ['block_7_depthwise[0][0]']   N          \n",
            " hNormalization)                                                                                             \n",
            "                                                                                                             \n",
            " block_7_depthwise_relu (Re  (None, 14, 14, 384)          0         ['block_7_depthwise_BN[0][0   N          \n",
            " LU)                                                                ]']                                      \n",
            "                                                                                                             \n",
            " block_7_project (Conv2D)    (None, 14, 14, 64)           24576     ['block_7_depthwise_relu[0]   N          \n",
            "                                                                    [0]']                                    \n",
            "                                                                                                             \n",
            " block_7_project_BN (BatchN  (None, 14, 14, 64)           256       ['block_7_project[0][0]']     N          \n",
            " ormalization)                                                                                               \n",
            "                                                                                                             \n",
            " block_7_add (Add)           (None, 14, 14, 64)           0         ['block_6_project_BN[0][0]'   N          \n",
            "                                                                    , 'block_7_project_BN[0][0]              \n",
            "                                                                    ']                                       \n",
            "                                                                                                             \n",
            " block_8_expand (Conv2D)     (None, 14, 14, 384)          24576     ['block_7_add[0][0]']         N          \n",
            "                                                                                                             \n",
            " block_8_expand_BN (BatchNo  (None, 14, 14, 384)          1536      ['block_8_expand[0][0]']      N          \n",
            " rmalization)                                                                                                \n",
            "                                                                                                             \n",
            " block_8_expand_relu (ReLU)  (None, 14, 14, 384)          0         ['block_8_expand_BN[0][0]']   N          \n",
            "                                                                                                             \n",
            " block_8_depthwise (Depthwi  (None, 14, 14, 384)          3456      ['block_8_expand_relu[0][0]   N          \n",
            " seConv2D)                                                          ']                                       \n",
            "                                                                                                             \n",
            " block_8_depthwise_BN (Batc  (None, 14, 14, 384)          1536      ['block_8_depthwise[0][0]']   N          \n",
            " hNormalization)                                                                                             \n",
            "                                                                                                             \n",
            " block_8_depthwise_relu (Re  (None, 14, 14, 384)          0         ['block_8_depthwise_BN[0][0   N          \n",
            " LU)                                                                ]']                                      \n",
            "                                                                                                             \n",
            " block_8_project (Conv2D)    (None, 14, 14, 64)           24576     ['block_8_depthwise_relu[0]   N          \n",
            "                                                                    [0]']                                    \n",
            "                                                                                                             \n",
            " block_8_project_BN (BatchN  (None, 14, 14, 64)           256       ['block_8_project[0][0]']     N          \n",
            " ormalization)                                                                                               \n",
            "                                                                                                             \n",
            " block_8_add (Add)           (None, 14, 14, 64)           0         ['block_7_add[0][0]',         N          \n",
            "                                                                     'block_8_project_BN[0][0]'              \n",
            "                                                                    ]                                        \n",
            "                                                                                                             \n",
            " block_9_expand (Conv2D)     (None, 14, 14, 384)          24576     ['block_8_add[0][0]']         N          \n",
            "                                                                                                             \n",
            " block_9_expand_BN (BatchNo  (None, 14, 14, 384)          1536      ['block_9_expand[0][0]']      N          \n",
            " rmalization)                                                                                                \n",
            "                                                                                                             \n",
            " block_9_expand_relu (ReLU)  (None, 14, 14, 384)          0         ['block_9_expand_BN[0][0]']   N          \n",
            "                                                                                                             \n",
            " block_9_depthwise (Depthwi  (None, 14, 14, 384)          3456      ['block_9_expand_relu[0][0]   N          \n",
            " seConv2D)                                                          ']                                       \n",
            "                                                                                                             \n",
            " block_9_depthwise_BN (Batc  (None, 14, 14, 384)          1536      ['block_9_depthwise[0][0]']   N          \n",
            " hNormalization)                                                                                             \n",
            "                                                                                                             \n",
            " block_9_depthwise_relu (Re  (None, 14, 14, 384)          0         ['block_9_depthwise_BN[0][0   N          \n",
            " LU)                                                                ]']                                      \n",
            "                                                                                                             \n",
            " block_9_project (Conv2D)    (None, 14, 14, 64)           24576     ['block_9_depthwise_relu[0]   N          \n",
            "                                                                    [0]']                                    \n",
            "                                                                                                             \n",
            " block_9_project_BN (BatchN  (None, 14, 14, 64)           256       ['block_9_project[0][0]']     N          \n",
            " ormalization)                                                                                               \n",
            "                                                                                                             \n",
            " block_9_add (Add)           (None, 14, 14, 64)           0         ['block_8_add[0][0]',         N          \n",
            "                                                                     'block_9_project_BN[0][0]'              \n",
            "                                                                    ]                                        \n",
            "                                                                                                             \n",
            " block_10_expand (Conv2D)    (None, 14, 14, 384)          24576     ['block_9_add[0][0]']         N          \n",
            "                                                                                                             \n",
            " block_10_expand_BN (BatchN  (None, 14, 14, 384)          1536      ['block_10_expand[0][0]']     N          \n",
            " ormalization)                                                                                               \n",
            "                                                                                                             \n",
            " block_10_expand_relu (ReLU  (None, 14, 14, 384)          0         ['block_10_expand_BN[0][0]'   N          \n",
            " )                                                                  ]                                        \n",
            "                                                                                                             \n",
            " block_10_depthwise (Depthw  (None, 14, 14, 384)          3456      ['block_10_expand_relu[0][0   N          \n",
            " iseConv2D)                                                         ]']                                      \n",
            "                                                                                                             \n",
            " block_10_depthwise_BN (Bat  (None, 14, 14, 384)          1536      ['block_10_depthwise[0][0]'   N          \n",
            " chNormalization)                                                   ]                                        \n",
            "                                                                                                             \n",
            " block_10_depthwise_relu (R  (None, 14, 14, 384)          0         ['block_10_depthwise_BN[0][   N          \n",
            " eLU)                                                               0]']                                     \n",
            "                                                                                                             \n",
            " block_10_project (Conv2D)   (None, 14, 14, 96)           36864     ['block_10_depthwise_relu[0   N          \n",
            "                                                                    ][0]']                                   \n",
            "                                                                                                             \n",
            " block_10_project_BN (Batch  (None, 14, 14, 96)           384       ['block_10_project[0][0]']    N          \n",
            " Normalization)                                                                                              \n",
            "                                                                                                             \n",
            " block_11_expand (Conv2D)    (None, 14, 14, 576)          55296     ['block_10_project_BN[0][0]   N          \n",
            "                                                                    ']                                       \n",
            "                                                                                                             \n",
            " block_11_expand_BN (BatchN  (None, 14, 14, 576)          2304      ['block_11_expand[0][0]']     N          \n",
            " ormalization)                                                                                               \n",
            "                                                                                                             \n",
            " block_11_expand_relu (ReLU  (None, 14, 14, 576)          0         ['block_11_expand_BN[0][0]'   N          \n",
            " )                                                                  ]                                        \n",
            "                                                                                                             \n",
            " block_11_depthwise (Depthw  (None, 14, 14, 576)          5184      ['block_11_expand_relu[0][0   N          \n",
            " iseConv2D)                                                         ]']                                      \n",
            "                                                                                                             \n",
            " block_11_depthwise_BN (Bat  (None, 14, 14, 576)          2304      ['block_11_depthwise[0][0]'   N          \n",
            " chNormalization)                                                   ]                                        \n",
            "                                                                                                             \n",
            " block_11_depthwise_relu (R  (None, 14, 14, 576)          0         ['block_11_depthwise_BN[0][   N          \n",
            " eLU)                                                               0]']                                     \n",
            "                                                                                                             \n",
            " block_11_project (Conv2D)   (None, 14, 14, 96)           55296     ['block_11_depthwise_relu[0   N          \n",
            "                                                                    ][0]']                                   \n",
            "                                                                                                             \n",
            " block_11_project_BN (Batch  (None, 14, 14, 96)           384       ['block_11_project[0][0]']    N          \n",
            " Normalization)                                                                                              \n",
            "                                                                                                             \n",
            " block_11_add (Add)          (None, 14, 14, 96)           0         ['block_10_project_BN[0][0]   N          \n",
            "                                                                    ',                                       \n",
            "                                                                     'block_11_project_BN[0][0]              \n",
            "                                                                    ']                                       \n",
            "                                                                                                             \n",
            " block_12_expand (Conv2D)    (None, 14, 14, 576)          55296     ['block_11_add[0][0]']        N          \n",
            "                                                                                                             \n",
            " block_12_expand_BN (BatchN  (None, 14, 14, 576)          2304      ['block_12_expand[0][0]']     N          \n",
            " ormalization)                                                                                               \n",
            "                                                                                                             \n",
            " block_12_expand_relu (ReLU  (None, 14, 14, 576)          0         ['block_12_expand_BN[0][0]'   N          \n",
            " )                                                                  ]                                        \n",
            "                                                                                                             \n",
            " block_12_depthwise (Depthw  (None, 14, 14, 576)          5184      ['block_12_expand_relu[0][0   N          \n",
            " iseConv2D)                                                         ]']                                      \n",
            "                                                                                                             \n",
            " block_12_depthwise_BN (Bat  (None, 14, 14, 576)          2304      ['block_12_depthwise[0][0]'   N          \n",
            " chNormalization)                                                   ]                                        \n",
            "                                                                                                             \n",
            " block_12_depthwise_relu (R  (None, 14, 14, 576)          0         ['block_12_depthwise_BN[0][   N          \n",
            " eLU)                                                               0]']                                     \n",
            "                                                                                                             \n",
            " block_12_project (Conv2D)   (None, 14, 14, 96)           55296     ['block_12_depthwise_relu[0   N          \n",
            "                                                                    ][0]']                                   \n",
            "                                                                                                             \n",
            " block_12_project_BN (Batch  (None, 14, 14, 96)           384       ['block_12_project[0][0]']    N          \n",
            " Normalization)                                                                                              \n",
            "                                                                                                             \n",
            " block_12_add (Add)          (None, 14, 14, 96)           0         ['block_11_add[0][0]',        N          \n",
            "                                                                     'block_12_project_BN[0][0]              \n",
            "                                                                    ']                                       \n",
            "                                                                                                             \n",
            " block_13_expand (Conv2D)    (None, 14, 14, 576)          55296     ['block_12_add[0][0]']        N          \n",
            "                                                                                                             \n",
            " block_13_expand_BN (BatchN  (None, 14, 14, 576)          2304      ['block_13_expand[0][0]']     N          \n",
            " ormalization)                                                                                               \n",
            "                                                                                                             \n",
            " block_13_expand_relu (ReLU  (None, 14, 14, 576)          0         ['block_13_expand_BN[0][0]'   N          \n",
            " )                                                                  ]                                        \n",
            "                                                                                                             \n",
            " block_13_pad (ZeroPadding2  (None, 15, 15, 576)          0         ['block_13_expand_relu[0][0   N          \n",
            " D)                                                                 ]']                                      \n",
            "                                                                                                             \n",
            " block_13_depthwise (Depthw  (None, 7, 7, 576)            5184      ['block_13_pad[0][0]']        N          \n",
            " iseConv2D)                                                                                                  \n",
            "                                                                                                             \n",
            " block_13_depthwise_BN (Bat  (None, 7, 7, 576)            2304      ['block_13_depthwise[0][0]'   N          \n",
            " chNormalization)                                                   ]                                        \n",
            "                                                                                                             \n",
            " block_13_depthwise_relu (R  (None, 7, 7, 576)            0         ['block_13_depthwise_BN[0][   N          \n",
            " eLU)                                                               0]']                                     \n",
            "                                                                                                             \n",
            " block_13_project (Conv2D)   (None, 7, 7, 160)            92160     ['block_13_depthwise_relu[0   N          \n",
            "                                                                    ][0]']                                   \n",
            "                                                                                                             \n",
            " block_13_project_BN (Batch  (None, 7, 7, 160)            640       ['block_13_project[0][0]']    N          \n",
            " Normalization)                                                                                              \n",
            "                                                                                                             \n",
            " block_14_expand (Conv2D)    (None, 7, 7, 960)            153600    ['block_13_project_BN[0][0]   N          \n",
            "                                                                    ']                                       \n",
            "                                                                                                             \n",
            " block_14_expand_BN (BatchN  (None, 7, 7, 960)            3840      ['block_14_expand[0][0]']     N          \n",
            " ormalization)                                                                                               \n",
            "                                                                                                             \n",
            " block_14_expand_relu (ReLU  (None, 7, 7, 960)            0         ['block_14_expand_BN[0][0]'   N          \n",
            " )                                                                  ]                                        \n",
            "                                                                                                             \n",
            " block_14_depthwise (Depthw  (None, 7, 7, 960)            8640      ['block_14_expand_relu[0][0   N          \n",
            " iseConv2D)                                                         ]']                                      \n",
            "                                                                                                             \n",
            " block_14_depthwise_BN (Bat  (None, 7, 7, 960)            3840      ['block_14_depthwise[0][0]'   N          \n",
            " chNormalization)                                                   ]                                        \n",
            "                                                                                                             \n",
            " block_14_depthwise_relu (R  (None, 7, 7, 960)            0         ['block_14_depthwise_BN[0][   N          \n",
            " eLU)                                                               0]']                                     \n",
            "                                                                                                             \n",
            " block_14_project (Conv2D)   (None, 7, 7, 160)            153600    ['block_14_depthwise_relu[0   N          \n",
            "                                                                    ][0]']                                   \n",
            "                                                                                                             \n",
            " block_14_project_BN (Batch  (None, 7, 7, 160)            640       ['block_14_project[0][0]']    N          \n",
            " Normalization)                                                                                              \n",
            "                                                                                                             \n",
            " block_14_add (Add)          (None, 7, 7, 160)            0         ['block_13_project_BN[0][0]   N          \n",
            "                                                                    ',                                       \n",
            "                                                                     'block_14_project_BN[0][0]              \n",
            "                                                                    ']                                       \n",
            "                                                                                                             \n",
            " block_15_expand (Conv2D)    (None, 7, 7, 960)            153600    ['block_14_add[0][0]']        N          \n",
            "                                                                                                             \n",
            " block_15_expand_BN (BatchN  (None, 7, 7, 960)            3840      ['block_15_expand[0][0]']     N          \n",
            " ormalization)                                                                                               \n",
            "                                                                                                             \n",
            " block_15_expand_relu (ReLU  (None, 7, 7, 960)            0         ['block_15_expand_BN[0][0]'   N          \n",
            " )                                                                  ]                                        \n",
            "                                                                                                             \n",
            " block_15_depthwise (Depthw  (None, 7, 7, 960)            8640      ['block_15_expand_relu[0][0   N          \n",
            " iseConv2D)                                                         ]']                                      \n",
            "                                                                                                             \n",
            " block_15_depthwise_BN (Bat  (None, 7, 7, 960)            3840      ['block_15_depthwise[0][0]'   N          \n",
            " chNormalization)                                                   ]                                        \n",
            "                                                                                                             \n",
            " block_15_depthwise_relu (R  (None, 7, 7, 960)            0         ['block_15_depthwise_BN[0][   N          \n",
            " eLU)                                                               0]']                                     \n",
            "                                                                                                             \n",
            " block_15_project (Conv2D)   (None, 7, 7, 160)            153600    ['block_15_depthwise_relu[0   N          \n",
            "                                                                    ][0]']                                   \n",
            "                                                                                                             \n",
            " block_15_project_BN (Batch  (None, 7, 7, 160)            640       ['block_15_project[0][0]']    N          \n",
            " Normalization)                                                                                              \n",
            "                                                                                                             \n",
            " block_15_add (Add)          (None, 7, 7, 160)            0         ['block_14_add[0][0]',        N          \n",
            "                                                                     'block_15_project_BN[0][0]              \n",
            "                                                                    ']                                       \n",
            "                                                                                                             \n",
            " block_16_expand (Conv2D)    (None, 7, 7, 960)            153600    ['block_15_add[0][0]']        N          \n",
            "                                                                                                             \n",
            " block_16_expand_BN (BatchN  (None, 7, 7, 960)            3840      ['block_16_expand[0][0]']     N          \n",
            " ormalization)                                                                                               \n",
            "                                                                                                             \n",
            " block_16_expand_relu (ReLU  (None, 7, 7, 960)            0         ['block_16_expand_BN[0][0]'   N          \n",
            " )                                                                  ]                                        \n",
            "                                                                                                             \n",
            " block_16_depthwise (Depthw  (None, 7, 7, 960)            8640      ['block_16_expand_relu[0][0   N          \n",
            " iseConv2D)                                                         ]']                                      \n",
            "                                                                                                             \n",
            " block_16_depthwise_BN (Bat  (None, 7, 7, 960)            3840      ['block_16_depthwise[0][0]'   N          \n",
            " chNormalization)                                                   ]                                        \n",
            "                                                                                                             \n",
            " block_16_depthwise_relu (R  (None, 7, 7, 960)            0         ['block_16_depthwise_BN[0][   N          \n",
            " eLU)                                                               0]']                                     \n",
            "                                                                                                             \n",
            " block_16_project (Conv2D)   (None, 7, 7, 320)            307200    ['block_16_depthwise_relu[0   N          \n",
            "                                                                    ][0]']                                   \n",
            "                                                                                                             \n",
            " block_16_project_BN (Batch  (None, 7, 7, 320)            1280      ['block_16_project[0][0]']    N          \n",
            " Normalization)                                                                                              \n",
            "                                                                                                             \n",
            " Conv_1 (Conv2D)             (None, 7, 7, 1280)           409600    ['block_16_project_BN[0][0]   N          \n",
            "                                                                    ']                                       \n",
            "                                                                                                             \n",
            " Conv_1_bn (BatchNormalizat  (None, 7, 7, 1280)           5120      ['Conv_1[0][0]']              N          \n",
            " ion)                                                                                                        \n",
            "                                                                                                             \n",
            " out_relu (ReLU)             (None, 7, 7, 1280)           0         ['Conv_1_bn[0][0]']           N          \n",
            "                                                                                                             \n",
            " flatten_2 (Flatten)         (None, 62720)                0         ['out_relu[0][0]']            Y          \n",
            "                                                                                                             \n",
            " dense_6 (Dense)             (None, 1024)                 6422630   ['flatten_2[0][0]']           Y          \n",
            "                                                          4                                                  \n",
            "                                                                                                             \n",
            " dropout_2 (Dropout)         (None, 1024)                 0         ['dense_6[0][0]']             Y          \n",
            "                                                                                                             \n",
            " dense_7 (Dense)             (None, 512)                  524800    ['dropout_2[0][0]']           Y          \n",
            "                                                                                                             \n",
            " dense_8 (Dense)             (None, 21)                   10773     ['dense_7[0][0]']             Y          \n",
            "                                                                                                             \n",
            "=============================================================================================================\n",
            "Total params: 67019861 (255.66 MB)\n",
            "Trainable params: 64761877 (247.05 MB)\n",
            "Non-trainable params: 2257984 (8.61 MB)\n",
            "_____________________________________________________________________________________________________________\n"
          ]
        }
      ],
      "source": [
        "# Load pretrained Mobile Net V3\n",
        "mnet = MobileNetV2(weights='imagenet', include_top=False, input_shape=(224,224,3))\n",
        "# Freeze all layers\n",
        "for layer in mnet.layers:\n",
        "  layer.trainable = False\n",
        "\n",
        "# Add custom layers\n",
        "x = tf.keras.layers.Flatten()(mnet.output)\n",
        "# x = tf.keras.layers.Dropout(0.2)(x)\n",
        "x = tf.keras.layers.Dense(1024, activation='relu')(x)\n",
        "x = tf.keras.layers.Dropout(0.6)(x)\n",
        "x = tf.keras.layers.Dense(512, activation='relu')(x)\n",
        "predictions = tf.keras.layers.Dense(num_classes, activation='softmax')(x)\n",
        "\n",
        "# Create the final model\n",
        "mnet_model = tf.keras.models.Model(inputs=mnet.input, outputs=predictions)\n",
        "\n",
        "# Print model summary\n",
        "mnet_model.summary(show_trainable=True)"
      ]
    },
    {
      "cell_type": "code",
      "execution_count": null,
      "metadata": {
        "colab": {
          "base_uri": "https://localhost:8080/"
        },
        "id": "_nBcPKJPpcZF",
        "outputId": "e0be6b0d-88a7-4a09-911b-294a62cde991"
      },
      "outputs": [
        {
          "name": "stdout",
          "output_type": "stream",
          "text": [
            "Epoch 1/50\n",
            "79/79 [==============================] - 1844s 23s/step - loss: 2.3830 - accuracy: 0.4135 - val_loss: 1.0112 - val_accuracy: 0.6923\n",
            "Epoch 2/50\n",
            "79/79 [==============================] - 60s 758ms/step - loss: 1.2278 - accuracy: 0.6486 - val_loss: 0.8706 - val_accuracy: 0.7452\n",
            "Epoch 3/50\n",
            "79/79 [==============================] - 59s 754ms/step - loss: 0.9437 - accuracy: 0.7203 - val_loss: 0.8259 - val_accuracy: 0.7692\n",
            "Epoch 4/50\n",
            "79/79 [==============================] - 60s 759ms/step - loss: 0.8530 - accuracy: 0.7470 - val_loss: 0.7880 - val_accuracy: 0.7716\n",
            "Epoch 5/50\n",
            "79/79 [==============================] - 60s 755ms/step - loss: 0.7599 - accuracy: 0.7633 - val_loss: 0.7491 - val_accuracy: 0.7837\n",
            "Epoch 6/50\n",
            "79/79 [==============================] - 60s 751ms/step - loss: 0.7031 - accuracy: 0.7940 - val_loss: 0.7158 - val_accuracy: 0.7933\n",
            "Epoch 7/50\n",
            "79/79 [==============================] - 59s 751ms/step - loss: 0.6327 - accuracy: 0.8012 - val_loss: 0.7311 - val_accuracy: 0.8077\n",
            "Epoch 8/50\n",
            "79/79 [==============================] - 59s 749ms/step - loss: 0.5952 - accuracy: 0.8159 - val_loss: 0.6673 - val_accuracy: 0.8341\n",
            "Epoch 9/50\n",
            "79/79 [==============================] - 60s 757ms/step - loss: 0.5529 - accuracy: 0.8347 - val_loss: 0.6242 - val_accuracy: 0.8413\n",
            "Epoch 10/50\n",
            "79/79 [==============================] - 59s 751ms/step - loss: 0.4914 - accuracy: 0.8542 - val_loss: 0.6281 - val_accuracy: 0.8341\n",
            "Epoch 11/50\n",
            "79/79 [==============================] - 62s 784ms/step - loss: 0.4714 - accuracy: 0.8554 - val_loss: 0.7411 - val_accuracy: 0.8269\n",
            "Epoch 12/50\n",
            "79/79 [==============================] - 68s 856ms/step - loss: 0.4479 - accuracy: 0.8673 - val_loss: 0.6473 - val_accuracy: 0.8438\n",
            "Epoch 13/50\n",
            "79/79 [==============================] - 60s 766ms/step - loss: 0.4338 - accuracy: 0.8705 - val_loss: 0.6863 - val_accuracy: 0.8389\n",
            "Epoch 14/50\n",
            "79/79 [==============================] - 60s 759ms/step - loss: 0.4348 - accuracy: 0.8661 - val_loss: 0.7050 - val_accuracy: 0.8245\n",
            "Epoch 15/50\n",
            "79/79 [==============================] - 61s 761ms/step - loss: 0.4447 - accuracy: 0.8709 - val_loss: 0.6440 - val_accuracy: 0.8510\n",
            "Epoch 16/50\n",
            "79/79 [==============================] - 61s 764ms/step - loss: 0.3797 - accuracy: 0.8865 - val_loss: 0.5988 - val_accuracy: 0.8606\n",
            "Epoch 17/50\n",
            "79/79 [==============================] - 67s 838ms/step - loss: 0.4112 - accuracy: 0.8725 - val_loss: 0.7047 - val_accuracy: 0.8606\n",
            "Epoch 18/50\n",
            "79/79 [==============================] - 61s 774ms/step - loss: 0.4130 - accuracy: 0.8717 - val_loss: 0.7419 - val_accuracy: 0.8365\n",
            "Epoch 19/50\n",
            "79/79 [==============================] - 60s 765ms/step - loss: 0.3493 - accuracy: 0.8880 - val_loss: 0.6423 - val_accuracy: 0.8582\n",
            "Epoch 20/50\n",
            "79/79 [==============================] - 60s 755ms/step - loss: 0.3237 - accuracy: 0.8988 - val_loss: 0.6947 - val_accuracy: 0.8438\n",
            "Epoch 21/50\n",
            "79/79 [==============================] - 61s 767ms/step - loss: 0.3467 - accuracy: 0.8956 - val_loss: 0.7535 - val_accuracy: 0.8413\n",
            "Epoch 22/50\n",
            "79/79 [==============================] - 65s 819ms/step - loss: 0.3281 - accuracy: 0.9028 - val_loss: 0.6965 - val_accuracy: 0.8534\n",
            "Epoch 23/50\n",
            "79/79 [==============================] - 61s 770ms/step - loss: 0.3145 - accuracy: 0.9056 - val_loss: 0.6795 - val_accuracy: 0.8438\n",
            "Epoch 24/50\n",
            "79/79 [==============================] - 61s 773ms/step - loss: 0.3158 - accuracy: 0.8992 - val_loss: 0.7596 - val_accuracy: 0.8341\n",
            "Epoch 25/50\n",
            "79/79 [==============================] - 62s 787ms/step - loss: 0.3110 - accuracy: 0.9044 - val_loss: 0.7711 - val_accuracy: 0.8438\n",
            "Epoch 26/50\n",
            "79/79 [==============================] - 60s 758ms/step - loss: 0.2934 - accuracy: 0.9179 - val_loss: 0.7968 - val_accuracy: 0.8197\n",
            "Epoch 27/50\n",
            "79/79 [==============================] - 61s 773ms/step - loss: 0.2982 - accuracy: 0.9068 - val_loss: 0.7415 - val_accuracy: 0.8365\n",
            "Epoch 28/50\n",
            "79/79 [==============================] - 61s 778ms/step - loss: 0.2956 - accuracy: 0.9100 - val_loss: 0.7800 - val_accuracy: 0.8365\n",
            "Epoch 29/50\n",
            "79/79 [==============================] - 61s 768ms/step - loss: 0.3089 - accuracy: 0.9092 - val_loss: 0.7916 - val_accuracy: 0.8438\n",
            "Epoch 30/50\n",
            "79/79 [==============================] - 61s 772ms/step - loss: 0.2615 - accuracy: 0.9211 - val_loss: 0.7570 - val_accuracy: 0.8486\n",
            "Epoch 31/50\n",
            "79/79 [==============================] - 61s 778ms/step - loss: 0.3029 - accuracy: 0.9060 - val_loss: 0.7822 - val_accuracy: 0.8462\n",
            "Epoch 32/50\n",
            "79/79 [==============================] - 60s 757ms/step - loss: 0.2654 - accuracy: 0.9215 - val_loss: 0.8253 - val_accuracy: 0.8413\n",
            "Epoch 33/50\n",
            "79/79 [==============================] - 60s 760ms/step - loss: 0.2684 - accuracy: 0.9235 - val_loss: 0.7777 - val_accuracy: 0.8510\n",
            "Epoch 34/50\n",
            "79/79 [==============================] - 60s 758ms/step - loss: 0.2547 - accuracy: 0.9243 - val_loss: 0.8474 - val_accuracy: 0.8462\n",
            "Epoch 35/50\n",
            "79/79 [==============================] - 59s 736ms/step - loss: 0.2611 - accuracy: 0.9179 - val_loss: 0.8674 - val_accuracy: 0.8486\n",
            "Epoch 36/50\n",
            "79/79 [==============================] - 54s 679ms/step - loss: 0.2513 - accuracy: 0.9303 - val_loss: 0.8671 - val_accuracy: 0.8558\n",
            "Epoch 37/50\n",
            "79/79 [==============================] - 56s 702ms/step - loss: 0.2984 - accuracy: 0.9187 - val_loss: 0.8859 - val_accuracy: 0.8582\n",
            "Epoch 38/50\n",
            "79/79 [==============================] - 53s 672ms/step - loss: 0.2635 - accuracy: 0.9195 - val_loss: 0.9851 - val_accuracy: 0.8413\n",
            "Epoch 39/50\n",
            "79/79 [==============================] - 55s 697ms/step - loss: 0.2796 - accuracy: 0.9167 - val_loss: 0.8083 - val_accuracy: 0.8486\n",
            "Epoch 40/50\n",
            "79/79 [==============================] - 56s 703ms/step - loss: 0.2421 - accuracy: 0.9307 - val_loss: 0.7542 - val_accuracy: 0.8726\n",
            "Epoch 41/50\n",
            "79/79 [==============================] - 56s 697ms/step - loss: 0.2302 - accuracy: 0.9327 - val_loss: 0.9161 - val_accuracy: 0.8365\n",
            "Epoch 42/50\n",
            "79/79 [==============================] - 56s 710ms/step - loss: 0.2219 - accuracy: 0.9398 - val_loss: 0.8232 - val_accuracy: 0.8486\n",
            "Epoch 43/50\n",
            "79/79 [==============================] - 62s 785ms/step - loss: 0.1961 - accuracy: 0.9323 - val_loss: 0.7694 - val_accuracy: 0.8822\n",
            "Epoch 44/50\n",
            "79/79 [==============================] - 59s 751ms/step - loss: 0.2305 - accuracy: 0.9339 - val_loss: 0.8541 - val_accuracy: 0.8630\n",
            "Epoch 45/50\n",
            "79/79 [==============================] - 58s 734ms/step - loss: 0.2178 - accuracy: 0.9315 - val_loss: 0.8409 - val_accuracy: 0.8726\n",
            "Epoch 46/50\n",
            "79/79 [==============================] - 57s 721ms/step - loss: 0.2260 - accuracy: 0.9339 - val_loss: 0.8024 - val_accuracy: 0.8678\n",
            "Epoch 47/50\n",
            "79/79 [==============================] - 57s 720ms/step - loss: 0.2340 - accuracy: 0.9335 - val_loss: 0.9000 - val_accuracy: 0.8582\n",
            "Epoch 48/50\n",
            "79/79 [==============================] - 58s 736ms/step - loss: 0.2531 - accuracy: 0.9295 - val_loss: 0.8048 - val_accuracy: 0.8606\n",
            "Epoch 49/50\n",
            "79/79 [==============================] - 58s 739ms/step - loss: 0.2516 - accuracy: 0.9319 - val_loss: 0.8379 - val_accuracy: 0.8726\n",
            "Epoch 50/50\n",
            "79/79 [==============================] - 58s 734ms/step - loss: 0.2264 - accuracy: 0.9331 - val_loss: 0.8994 - val_accuracy: 0.8846\n"
          ]
        }
      ],
      "source": [
        "EPOCHS = 50\n",
        "\n",
        "mnet_model.compile(loss='categorical_crossentropy',\n",
        "              optimizer=tf.keras.optimizers.Adam(learning_rate=0.0001),\n",
        "              metrics=['accuracy']\n",
        ")\n",
        "\n",
        "mnet_history = mnet_model.fit(\n",
        "      train_generator,\n",
        "      steps_per_epoch=STEP_SIZE_TRAIN,\n",
        "      epochs=EPOCHS,\n",
        "      validation_data=test_generator,\n",
        "      validation_steps=STEP_SIZE_TEST,\n",
        "      verbose=1\n",
        ")"
      ]
    },
    {
      "cell_type": "code",
      "execution_count": null,
      "metadata": {
        "colab": {
          "base_uri": "https://localhost:8080/",
          "height": 468
        },
        "id": "Z4Nj24aNIm4-",
        "outputId": "056edc9a-acae-4bdf-ca33-d4518bafdd81"
      },
      "outputs": [
        {
          "data": {
            "image/png": "[encoded data removed]",
            "text/plain": [
              "<Figure size 1000x500 with 2 Axes>"
            ]
          },
          "metadata": {},
          "output_type": "display_data"
        }
      ],
      "source": [
        "# Visualize the History Model : Accuracy & Loss\n",
        "acc_1 = mnet_history.history['accuracy']\n",
        "val_acc_1 = mnet_history.history['val_accuracy']\n",
        "\n",
        "loss_1 = mnet_history.history['loss']\n",
        "val_loss_1 = mnet_history.history['val_loss']\n",
        "\n",
        "epochs_range = range(EPOCHS)\n",
        "\n",
        "plt.figure(figsize=(10, 5))\n",
        "plt.subplot(1, 2, 1)\n",
        "plt.plot(epochs_range, acc_1, label='Training Accuracy')\n",
        "plt.plot(epochs_range, val_acc_1, label='Validation Accuracy')\n",
        "plt.legend(loc='lower right')\n",
        "plt.title('Training and Validation Accuracy')\n",
        "\n",
        "plt.subplot(1, 2, 2)\n",
        "plt.plot(epochs_range, loss_1, label='Training Loss')\n",
        "plt.plot(epochs_range, val_loss_1, label='Validation Loss')\n",
        "plt.legend(loc='upper right')\n",
        "plt.title('Training and Validation Loss')\n",
        "plt.show()"
      ]
    },
    {
      "cell_type": "code",
      "execution_count": null,
      "metadata": {
        "colab": {
          "base_uri": "https://localhost:8080/"
        },
        "id": "O7gWdYzsI2pZ",
        "outputId": "064a0887-827e-476d-b776-3361d855cc63"
      },
      "outputs": [
        {
          "name": "stderr",
          "output_type": "stream",
          "text": [
            "/usr/local/lib/python3.10/dist-packages/keras/src/engine/training.py:3103: UserWarning: You are saving your model as an HDF5 file via `model.save()`. This file format is considered legacy. We recommend using instead the native Keras format, e.g. `model.save('my_model.keras')`.\n",
            "  saving_api.save_model(\n"
          ]
        },
        {
          "name": "stdout",
          "output_type": "stream",
          "text": [
            "Model saved to Google Drive at: /content/drive/Shareddrives/Capstone - ML/Model 1. Batik Classification/Model/mnetv2_21label50.h5\n",
            "Training history saved to Google Drive at: /content/drive/Shareddrives/Capstone - ML/Model 1. Batik Classification/Model/mnetv2_history_21label50.csv\n"
          ]
        }
      ],
      "source": [
        "# Save model in Keras format\n",
        "model_save_path = '/content/drive/Shareddrives/Capstone - ML/Model 1. Batik Classification/Model/mnetv2_21label50.h5'\n",
        "mnet_model.save(model_save_path)\n",
        "print(\"Model saved to Google Drive at:\", model_save_path)\n",
        "\n",
        "# Save training history to CSV\n",
        "history_df = pd.DataFrame(mnet_history.history)\n",
        "history_save_path = '/content/drive/Shareddrives/Capstone - ML/Model 1. Batik Classification/Model/mnetv2_history_21label50.csv'\n",
        "history_df.to_csv(history_save_path, index=True)\n",
        "print(\"Training history saved to Google Drive at:\", history_save_path)"
      ]
    },
    {
      "cell_type": "markdown",
      "metadata": {
        "id": "ZuBsNShNJIZK"
      },
      "source": [
        "#### Predict Model"
      ]
    },
    {
      "cell_type": "code",
      "execution_count": null,
      "metadata": {
        "colab": {
          "base_uri": "https://localhost:8080/"
        },
        "id": "1STVlm3uJP13",
        "outputId": "9f4ef805-ff94-4bc0-9651-89bedfc95ff9"
      },
      "outputs": [
        {
          "name": "stdout",
          "output_type": "stream",
          "text": [
            "Found 465 images belonging to 23 classes.\n"
          ]
        }
      ],
      "source": [
        "BATCH_SIZE = 32\n",
        "\n",
        "# Define Path Train and Test Directory\n",
        "predict_dataset_path = \"/content/drive/Shareddrives/Capstone - ML/Model 1. Batik Classification/Dataset/predict\"\n",
        "\n",
        "# Make Predict Datagen for ImageDataGenerator\n",
        "predict_datagen = ImageDataGenerator(\n",
        "    rescale=1./255\n",
        ")\n",
        "\n",
        "# Generate Image Generator for predict\n",
        "predict_generator = predict_datagen.flow_from_directory(\n",
        "    directory=predict_dataset_path,\n",
        "    target_size=(224, 224),\n",
        "    batch_size=BATCH_SIZE,\n",
        "    class_mode=\"categorical\",\n",
        "    # color_mode='grayscale',\n",
        "    shuffle=False\n",
        ")\n",
        "\n",
        "file_names = predict_generator.filenames  # save list of test files names to be used later\n",
        "tlabels = predict_generator.labels # save test labels to be used later\n",
        "class_dict = predict_generator.class_indices\n",
        "# code below determines test batch size and test steps so you go through the test images exactly once\n",
        "length = len(file_names) # determine number of images\n",
        "b_max = 80 # set maximum batch size you will allow\n",
        "predict_batch_size = sorted([int(length/n) for n in range(1,length+1) if length % n ==0 and length/n<=b_max], reverse=True)[0]\n",
        "predict_steps = int(length/BATCH_SIZE)"
      ]
    },
    {
      "cell_type": "code",
      "execution_count": null,
      "metadata": {
        "colab": {
          "base_uri": "https://localhost:8080/"
        },
        "id": "grFNI_WSJX0R",
        "outputId": "86596c09-6506-4c98-e6d8-0f2d64498ffb"
      },
      "outputs": [
        {
          "name": "stdout",
          "output_type": "stream",
          "text": [
            "PREDICTED CLASS     TRUE CLASS       FILENAME                ERROR STATUS\n",
            "    .Non Batik       .Non Batik    .Non Batik/100_cotton_solid_color_flannel_fabric.jpg   No\n",
            "    .Non Batik       .Non Batik    .Non Batik/620ee4ece48afacf5919bdce0d77ab97--chair-slipcovers-fabric-swatches.jpg   No\n",
            "    .Non Batik       .Non Batik    .Non Batik/7569.jpg         No\n",
            "    .Non Batik       .Non Batik    .Non Batik/HMCJLIL_1.jpg    No\n",
            "    .Non Batik       .Non Batik    .Non Batik/Solid-Fabric-Plain-Chenille-Yarn-Dyed-Jacquard-Woven-Soft-Curtain-Drapery-Sofa-Cushion-Fabrics-Upholstery-Use.jpg   No\n",
            "    .Non Batik       .Non Batik    .Non Batik/e1.jpg           No\n",
            "    Truntum          .Non Batik    .Non Batik/et-musuta_b3.jpg   Yes\n",
            "    Corak Insang       .Non Batik    .Non Batik/fabric-3018258_960_720.jpg   Yes\n",
            "    Liong            .Non Batik    .Non Batik/fabriccomparision&park+033.JPG   Yes\n",
            "    .Non Batik       .Non Batik    .Non Batik/quilting-detail.jpg   No\n",
            "    Buketan          Buketan       Buketan/buketan_109.jpg     No\n",
            "    Buketan          Buketan       Buketan/buketan_11.jpg      No\n",
            "    Buketan          Buketan       Buketan/buketan_115.jpg     No\n",
            "    Jlamprang        Buketan       Buketan/buketan_118.jpg     Yes\n",
            "    Buketan          Buketan       Buketan/buketan_132.jpg     No\n",
            "    Buketan          Buketan       Buketan/buketan_160.jpg     No\n",
            "    Buketan          Buketan       Buketan/buketan_176.jpg     No\n",
            "    Buketan          Buketan       Buketan/buketan_179.jpg     No\n",
            "    Buketan          Buketan       Buketan/buketan_187.jpg     No\n",
            "    Buketan          Buketan       Buketan/buketan_190.jpg     No\n",
            "    Buketan          Buketan       Buketan/buketan_212.jpg     No\n",
            "    Buketan          Buketan       Buketan/buketan_223.jpg     No\n",
            "    Buketan          Buketan       Buketan/buketan_242.jpg     No\n",
            "    Tumpal           Buketan       Buketan/buketan_26.png      Yes\n",
            "    Buketan          Buketan       Buketan/buketan_27.png      No\n",
            "    Buketan          Buketan       Buketan/buketan_275.jpg     No\n",
            "    Buketan          Buketan       Buketan/buketan_279.jpg     No\n",
            "    Buketan          Buketan       Buketan/buketan_28.png      No\n",
            "    Buketan          Buketan       Buketan/buketan_282.jpg     No\n",
            "    Buketan          Buketan       Buketan/buketan_36.jpg      No\n",
            "    Buketan          Buketan       Buketan/buketan_40.jpg      No\n",
            "    Buketan          Buketan       Buketan/buketan_51.jpg      No\n",
            "    Buketan          Buketan       Buketan/buketan_6.png       No\n",
            "    Buketan          Buketan       Buketan/buketan_64.jpg      No\n",
            "    Buketan          Buketan       Buketan/buketan_78.jpg      No\n",
            "    Buketan          Buketan       Buketan/buketan_80.jpg      No\n",
            "    Buketan          Buketan       Buketan/buketan_82.jpg      No\n",
            "    Tumpal           Buketan       Buketan/buketan_83.png      Yes\n",
            "    Cendrawasih       Cendrawasih    Cendrawasih/0.jpg           No\n",
            "    Cendrawasih       Cendrawasih    Cendrawasih/0014.jpg        No\n",
            "    Cendrawasih       Cendrawasih    Cendrawasih/0020.jpg        No\n",
            "    Cendrawasih       Cendrawasih    Cendrawasih/0027.jpg        No\n",
            "    Cendrawasih       Cendrawasih    Cendrawasih/0028.jpg        No\n",
            "    Cendrawasih       Cendrawasih    Cendrawasih/004.jpg         No\n",
            "    Cendrawasih       Cendrawasih    Cendrawasih/12.jpg          No\n",
            "    Cendrawasih       Cendrawasih    Cendrawasih/16(1).jpg       No\n",
            "    Cendrawasih       Cendrawasih    Cendrawasih/17(2).jpg       No\n",
            "    Cendrawasih       Cendrawasih    Cendrawasih/2.jpg           No\n",
            "    Cendrawasih       Cendrawasih    Cendrawasih/22(1).jpg       No\n",
            "    Sidomukti        Cendrawasih    Cendrawasih/23(2).jpg       Yes\n",
            "    Sekar            Cendrawasih    Cendrawasih/26(1).jpg       Yes\n",
            "    Cendrawasih       Cendrawasih    Cendrawasih/34(1).jpg       No\n",
            "    Sidomukti        Cendrawasih    Cendrawasih/34(2).jpg       Yes\n",
            "    Sidomukti        Cendrawasih    Cendrawasih/36.jpg          Yes\n",
            "    Cendrawasih       Cendrawasih    Cendrawasih/41(1).jpg       No\n",
            "    Cendrawasih       Cendrawasih    Cendrawasih/49(2).jpg       No\n",
            "    Cendrawasih       Cendrawasih    Cendrawasih/5 (14).jpg      No\n",
            "    Cendrawasih       Cendrawasih    Cendrawasih/5 (29).jpg      No\n",
            "    Cendrawasih       Cendrawasih    Cendrawasih/5 (4).jpg       No\n",
            "    Cendrawasih       Cendrawasih    Cendrawasih/5 (45).jpg      No\n",
            "    Cendrawasih       Cendrawasih    Cendrawasih/5 (46).jpg      No\n",
            "    Cendrawasih       Cendrawasih    Cendrawasih/5 (55).jpg      No\n",
            "    Cendrawasih       Cendrawasih    Cendrawasih/5 (58).jpg      No\n",
            "    Cendrawasih       Cendrawasih    Cendrawasih/52.jpg          No\n",
            "    Cendrawasih       Cendrawasih    Cendrawasih/59.jpg          No\n",
            "    Cendrawasih       Cendrawasih    Cendrawasih/76.jpg          No\n",
            "    Cendrawasih       Cendrawasih    Cendrawasih/89(1).jpg       No\n",
            "    Cendrawasih       Cendrawasih    Cendrawasih/89.jpg          No\n",
            "    Tujuh Rupa       Cendrawasih    Cendrawasih/9(1).jpg        Yes\n",
            "    Cendrawasih       Cendrawasih    Cendrawasih/cdr1 (11).jpg   No\n",
            "    Sekar            Cendrawasih    Cendrawasih/cdr1 (32).jpg   Yes\n",
            "    Cendrawasih       Cendrawasih    Cendrawasih/cdr1 (36).jpg   No\n",
            "    Sidomukti        Ceplok        Ceplok/12.jpg               Yes\n",
            "    Ceplok           Ceplok        Ceplok/13_jpg.rf.c3e6a07070817bde12cfb77ae4bdb3c2.jpg   No\n",
            "    Sekar            Ceplok        Ceplok/25.jpg               Yes\n",
            "    Ceplok           Ceplok        Ceplok/28_jpg.rf.9df9c93164e473e0ddeb607776101551.jpg   No\n",
            "    Ceplok           Ceplok        Ceplok/4.jpg                No\n",
            "    Sidomukti        Ceplok        Ceplok/47.jpg               Yes\n",
            "    Ceplok           Ceplok        Ceplok/6_jpg.rf.e67fd475280bd4ec6a2c55addc8dd410.jpg   No\n",
            "    Ceplok           Ceplok        Ceplok/9_jpg.rf.8aae0dcaaff192edd545c87c14844776.jpg   No\n",
            "    Ceplok           Ceplok        Ceplok/ceplok12_jpg.rf.789bab2e371f3e12162c2b38bfa8b612.jpg   No\n",
            "    Ceplok           Ceplok        Ceplok/ceplok1_jpg.rf.9176c45421cb51f9ef6d86c65e6485c5.jpg   No\n",
            "    Ceplok           Ceplok        Ceplok/ceplok31_jpg.rf.57bc69d2ca8d697662af1fc2e129dc43.jpg   No\n",
            "    Ceplok           Ceplok        Ceplok/ceplok33_jpg.rf.f42e71c10be75b025c42a3b2571927ad.jpg   No\n",
            "    Ceplok           Ceplok        Ceplok/ceplok42_jpg.rf.22737a35b15a5ae4153523e891d031b9.jpg   No\n",
            "    Ceplok           Ceplok        Ceplok/ceplok49_jpg.rf.15076baf55e5cb6b17650966149b52fa.jpg   No\n",
            "    Ceplok           Ceplok        Ceplok/ceplok60_jpg.rf.7c37a81ac4aa9cc5228150f569dbc851.jpg   No\n",
            "    Ceplok           Ceplok        Ceplok/ceplok62_jpg.rf.38352a61342fbc6692a2fe9c51fa8619.jpg   No\n",
            "    Ceplok           Ceplok        Ceplok/ceplok69_jpg.rf.96d08ba97bf8acea25f63b460328a0b3.jpg   No\n",
            "    Ceplok           Ceplok        Ceplok/ceplok69_jpg.rf.9e075b0a2d42054c6838b53f4681e6e1.jpg   No\n",
            "    Ceplok           Ceplok        Ceplok/ceplok73_jpg.rf.d5ae28c5d713662fb5edd384d768e574.jpg   No\n",
            "    Corak Insang       Corak Insang    Corak Insang/10.jpg         No\n",
            "    Corak Insang       Corak Insang    Corak Insang/16.jpg         No\n",
            "    Corak Insang       Corak Insang    Corak Insang/22(1).jpg      No\n",
            "    Corak Insang       Corak Insang    Corak Insang/28.jpg         No\n",
            "    Sekar            Corak Insang    Corak Insang/29.jpg         Yes\n",
            "    Corak Insang       Corak Insang    Corak Insang/32(1).jpg      No\n",
            "    Corak Insang       Corak Insang    Corak Insang/36.jpg         No\n",
            "    Corak Insang       Corak Insang    Corak Insang/6.jpg          No\n",
            "    Corak Insang       Corak Insang    Corak Insang/62.jpg         No\n",
            "    Gunungan         Corak Insang    Corak Insang/63(1).jpg      Yes\n",
            "    Corak Insang       Corak Insang    Corak Insang/70(3).jpg      No\n",
            "    Corak Insang       Corak Insang    Corak Insang/72(2).jpg      No\n",
            "    Sidomukti        Corak Insang    Corak Insang/74(1).jpg      Yes\n",
            "    Corak Insang       Corak Insang    Corak Insang/77(1).jpg      No\n",
            "    Corak Insang       Corak Insang    Corak Insang/8(1).jpg       No\n",
            "    Prada            Dayak         Dayak/10(1).jpg             Yes\n",
            "    Dayak            Dayak         Dayak/100.jpg               No\n",
            "    Dayak            Dayak         Dayak/102.jpg               No\n",
            "    Sidomukti        Dayak         Dayak/107.jpg               Yes\n",
            "    Dayak            Dayak         Dayak/118.jpg               No\n",
            "    Buketan          Dayak         Dayak/141.jpg               Yes\n",
            "    Dayak            Dayak         Dayak/158.jpg               No\n",
            "    Dayak            Dayak         Dayak/16(1).jpg             No\n",
            "    Sidoluhur        Dayak         Dayak/167.jpg               Yes\n",
            "    Dayak            Dayak         Dayak/168.jpg               No\n",
            "    Dayak            Dayak         Dayak/18.jpg                No\n",
            "    Dayak            Dayak         Dayak/23(1).jpg             No\n",
            "    Dayak            Dayak         Dayak/27.jpg                No\n",
            "    Dayak            Dayak         Dayak/36.jpg                No\n",
            "    Prada            Dayak         Dayak/38.jpg                Yes\n",
            "    Prada            Dayak         Dayak/55.jpg                Yes\n",
            "    Pring Sedapur       Dayak         Dayak/56(1).jpg             Yes\n",
            "    Dayak            Dayak         Dayak/6(1).jpg              No\n",
            "    Sekar            Dayak         Dayak/62.jpg                Yes\n",
            "    Dayak            Dayak         Dayak/67.jpg                No\n",
            "    Dayak            Dayak         Dayak/70(2).jpg             No\n",
            "    Dayak            Dayak         Dayak/77(1).jpg             No\n",
            "    Tambal           Dayak         Dayak/78(1).jpg             Yes\n",
            "    Dayak            Dayak         Dayak/83.jpg                No\n",
            "    Dayak            Dayak         Dayak/84.jpg                No\n",
            "    Dayak            Dayak         Dayak/87.jpg                No\n",
            "    Dayak            Dayak         Dayak/88.jpg                No\n",
            "    Dayak            Dayak         Dayak/93.jpg                No\n",
            "    Prada            Dayak         Dayak/dyk1 (18).jpg         Yes\n",
            "    Sekar            Dayak         Dayak/dyk1 (2).jpg          Yes\n",
            "    Dayak            Dayak         Dayak/dyk1 (33).jpg         No\n",
            "    Dayak            Dayak         Dayak/dyk1 (41).jpg         No\n",
            "    Jlamprang        Jlamprang     Jlamprang/jlamprang_10.jpg   No\n",
            "    Jlamprang        Jlamprang     Jlamprang/jlamprang_103.jpg   No\n",
            "    Jlamprang        Jlamprang     Jlamprang/jlamprang_111.jpg   No\n",
            "    Jlamprang        Jlamprang     Jlamprang/jlamprang_120.jpg   No\n",
            "    Jlamprang        Jlamprang     Jlamprang/jlamprang_121.jpg   No\n",
            "    Jlamprang        Jlamprang     Jlamprang/jlamprang_127.jpg   No\n",
            "    Jlamprang        Jlamprang     Jlamprang/jlamprang_14.jpg   No\n",
            "    Jlamprang        Jlamprang     Jlamprang/jlamprang_148.jpg   No\n",
            "    Jlamprang        Jlamprang     Jlamprang/jlamprang_155.jpg   No\n",
            "    Jlamprang        Jlamprang     Jlamprang/jlamprang_163.jpg   No\n",
            "    Jlamprang        Jlamprang     Jlamprang/jlamprang_169.png   No\n",
            "    Jlamprang        Jlamprang     Jlamprang/jlamprang_170.png   No\n",
            "    Jlamprang        Jlamprang     Jlamprang/jlamprang_172.jpg   No\n",
            "    Jlamprang        Jlamprang     Jlamprang/jlamprang_196.jpg   No\n",
            "    Jlamprang        Jlamprang     Jlamprang/jlamprang_208.png   No\n",
            "    Jlamprang        Jlamprang     Jlamprang/jlamprang_229.jpg   No\n",
            "    Jlamprang        Jlamprang     Jlamprang/jlamprang_242.jpg   No\n",
            "    Jlamprang        Jlamprang     Jlamprang/jlamprang_249.png   No\n",
            "    Jlamprang        Jlamprang     Jlamprang/jlamprang_258.png   No\n",
            "    Jlamprang        Jlamprang     Jlamprang/jlamprang_260.png   No\n",
            "    Jlamprang        Jlamprang     Jlamprang/jlamprang_262.jpg   No\n",
            "    Jlamprang        Jlamprang     Jlamprang/jlamprang_274.jpg   No\n",
            "    Jlamprang        Jlamprang     Jlamprang/jlamprang_283.jpg   No\n",
            "    Jlamprang        Jlamprang     Jlamprang/jlamprang_315.jpg   No\n",
            "    Jlamprang        Jlamprang     Jlamprang/jlamprang_327.jpg   No\n",
            "    Jlamprang        Jlamprang     Jlamprang/jlamprang_329.png   No\n",
            "    Jlamprang        Jlamprang     Jlamprang/jlamprang_339.jpg   No\n",
            "    Jlamprang        Jlamprang     Jlamprang/jlamprang_42.jpg   No\n",
            "    Jlamprang        Jlamprang     Jlamprang/jlamprang_454.jpg   No\n",
            "    Jlamprang        Jlamprang     Jlamprang/jlamprang_457.jpg   No\n",
            "    Jlamprang        Jlamprang     Jlamprang/jlamprang_467.jpg   No\n",
            "    Jlamprang        Jlamprang     Jlamprang/jlamprang_48.jpg   No\n",
            "    Jlamprang        Jlamprang     Jlamprang/jlamprang_484.jpg   No\n",
            "    Jlamprang        Jlamprang     Jlamprang/jlamprang_486.jpg   No\n",
            "    Jlamprang        Jlamprang     Jlamprang/jlamprang_496.jpg   No\n",
            "    Jlamprang        Jlamprang     Jlamprang/jlamprang_52.jpg   No\n",
            "    Jlamprang        Jlamprang     Jlamprang/jlamprang_65.jpg   No\n",
            "    Jlamprang        Jlamprang     Jlamprang/jlamprang_8.jpg   No\n",
            "    Jlamprang        Jlamprang     Jlamprang/jlamprang_80.jpg   No\n",
            "    Jlamprang        Jlamprang     Jlamprang/jlamprang_97(1).jpg   No\n",
            "    Jlamprang        Jlamprang     Jlamprang/jlamprang_97.jpg   No\n",
            "    Kawung           Kawung        Kawung/001.jpg              No\n",
            "    Kawung           Kawung        Kawung/0023.jpg             No\n",
            "    Kawung           Kawung        Kawung/0028.jpg             No\n",
            "    Kawung           Kawung        Kawung/0031.jpg             No\n",
            "    Kawung           Kawung        Kawung/004.jpg              No\n",
            "    Kawung           Kawung        Kawung/15.jpg               No\n",
            "    Kawung           Kawung        Kawung/17.jpg               No\n",
            "    Kawung           Kawung        Kawung/28.jpg               No\n",
            "    Kawung           Kawung        Kawung/3 (19).jpg           No\n",
            "    Kawung           Kawung        Kawung/3 (35).jpg           No\n",
            "    Kawung           Kawung        Kawung/3 (54).jpg           No\n",
            "    Kawung           Kawung        Kawung/3 (63).jpg           No\n",
            "    Kawung           Kawung        Kawung/3 (67).jpg           No\n",
            "    Kawung           Kawung        Kawung/3 (83).jpg           No\n",
            "    Kawung           Kawung        Kawung/3(1).jpg             No\n",
            "    Kawung           Kawung        Kawung/3.jpg                No\n",
            "    Kawung           Kawung        Kawung/34(1).jpg            No\n",
            "    Kawung           Kawung        Kawung/42(1).jpg            No\n",
            "    Kawung           Kawung        Kawung/49.jpg               No\n",
            "    Sidoluhur        Kawung        Kawung/5(1).jpg             Yes\n",
            "    Kawung           Kawung        Kawung/56.jpg               No\n",
            "    Megamendung       Megamendung    Megamendung/1 (104).jpg     No\n",
            "    Megamendung       Megamendung    Megamendung/1 (109).jpg     No\n",
            "    Megamendung       Megamendung    Megamendung/1 (136).jpg     No\n",
            "    Prada            Megamendung    Megamendung/1 (141).jpg     Yes\n",
            "    Megamendung       Megamendung    Megamendung/1 (165).jpg     No\n",
            "    Megamendung       Megamendung    Megamendung/1 (177).jpg     No\n",
            "    Megamendung       Megamendung    Megamendung/1 (20).jpg      No\n",
            "    Megamendung       Megamendung    Megamendung/1 (30).jpg      No\n",
            "    Megamendung       Megamendung    Megamendung/1 (42).jpg      No\n",
            "    Megamendung       Megamendung    Megamendung/1 (56).jpg      No\n",
            "    Megamendung       Megamendung    Megamendung/1 (57).jpg      No\n",
            "    Megamendung       Megamendung    Megamendung/1 (58).jpg      No\n",
            "    Kawung           Megamendung    Megamendung/1 (61).jpg      Yes\n",
            "    Megamendung       Megamendung    Megamendung/1 (82).jpg      No\n",
            "    Megamendung       Megamendung    Megamendung/1 (89).jpg      No\n",
            "    Megamendung       Megamendung    Megamendung/1 (91).jpg      No\n",
            "    Megamendung       Megamendung    Megamendung/105.jpg         No\n",
            "    Megamendung       Megamendung    Megamendung/109.jpg         No\n",
            "    Megamendung       Megamendung    Megamendung/110.jpg         No\n",
            "    Megamendung       Megamendung    Megamendung/124.jpg         No\n",
            "    Megamendung       Megamendung    Megamendung/125.jpg         No\n",
            "    Megamendung       Megamendung    Megamendung/2.jpg           No\n",
            "    Megamendung       Megamendung    Megamendung/21(1).jpg       No\n",
            "    Megamendung       Megamendung    Megamendung/3.jpg           No\n",
            "    Megamendung       Megamendung    Megamendung/30(1).jpg       No\n",
            "    Megamendung       Megamendung    Megamendung/30.jpg          No\n",
            "    Megamendung       Megamendung    Megamendung/34(1).jpg       No\n",
            "    Megamendung       Megamendung    Megamendung/34.jpg          No\n",
            "    Megamendung       Megamendung    Megamendung/35.jpg          No\n",
            "    Megamendung       Megamendung    Megamendung/38.jpg          No\n",
            "    Megamendung       Megamendung    Megamendung/4.jpg           No\n",
            "    Megamendung       Megamendung    Megamendung/40(1).jpg       No\n",
            "    Megamendung       Megamendung    Megamendung/42.jpg          No\n",
            "    Megamendung       Megamendung    Megamendung/43.jpg          No\n",
            "    Megamendung       Megamendung    Megamendung/46(1).jpg       No\n",
            "    Megamendung       Megamendung    Megamendung/49.jpg          No\n",
            "    Megamendung       Megamendung    Megamendung/5(1).jpg        No\n",
            "    Megamendung       Megamendung    Megamendung/53(1).jpg       No\n",
            "    Singa Barong       Megamendung    Megamendung/53.jpg          Yes\n",
            "    Megamendung       Megamendung    Megamendung/55.jpg          No\n",
            "    Megamendung       Megamendung    Megamendung/59.jpg          No\n",
            "    Truntum          Megamendung    Megamendung/64(1).jpg       Yes\n",
            "    Megamendung       Megamendung    Megamendung/67(1).jpg       No\n",
            "    Megamendung       Megamendung    Megamendung/67.jpg          No\n",
            "    Pring Sedapur       Megamendung    Megamendung/71(2).jpg       Yes\n",
            "    Megamendung       Megamendung    Megamendung/77(2).jpg       No\n",
            "    Megamendung       Megamendung    Megamendung/80(1).jpg       No\n",
            "    Megamendung       Megamendung    Megamendung/80.jpg          No\n",
            "    Megamendung       Megamendung    Megamendung/83(1).jpg       No\n",
            "    Megamendung       Megamendung    Megamendung/85(2).jpg       No\n",
            "    Kawung           Megamendung    Megamendung/86.jpg          Yes\n",
            "    Megamendung       Megamendung    Megamendung/9(1).jpg        No\n",
            "    Megamendung       Megamendung    Megamendung/megamendung.102.jpg   No\n",
            "    Megamendung       Megamendung    Megamendung/megamendung.104.jpg   No\n",
            "    Sidomukti        Megamendung    Megamendung/megamendung.14.jpg   Yes\n",
            "    Megamendung       Megamendung    Megamendung/megamendung.140.jpg   No\n",
            "    Megamendung       Megamendung    Megamendung/megamendung.148.jpg   No\n",
            "    Megamendung       Megamendung    Megamendung/megamendung.154.jpg   No\n",
            "    Megamendung       Megamendung    Megamendung/megamendung.165.jpg   No\n",
            "    Megamendung       Megamendung    Megamendung/megamendung.180.jpg   No\n",
            "    Megamendung       Megamendung    Megamendung/megamendung.185.jpg   No\n",
            "    Megamendung       Megamendung    Megamendung/megamendung.201.jpg   No\n",
            "    Megamendung       Megamendung    Megamendung/megamendung.216.jpg   No\n",
            "    Sekar            Megamendung    Megamendung/megamendung.36.jpg   Yes\n",
            "    Sidomukti        Megamendung    Megamendung/megamendung.44.jpg   Yes\n",
            "    Megamendung       Megamendung    Megamendung/megamendung.53.jpg   No\n",
            "    Megamendung       Megamendung    Megamendung/megamendung.77.jpg   No\n",
            "    Megamendung       Megamendung    Megamendung/megamendung.86.jpg   No\n",
            "    Parang           Parang        Parang/0012.jpg             No\n",
            "    Parang           Parang        Parang/002.jpg              No\n",
            "    Parang           Parang        Parang/0022.jpg             No\n",
            "    Truntum          Parang        Parang/0033.jpg             Yes\n",
            "    Parang           Parang        Parang/0039.jpg             No\n",
            "    Parang           Parang        Parang/008.jpg              No\n",
            "    Singa Barong       Parang        Parang/2 (100).jpg          Yes\n",
            "    Parang           Parang        Parang/2 (103).jpg          No\n",
            "    Parang           Parang        Parang/2 (106).jpg          No\n",
            "    Corak Insang       Parang        Parang/2 (108).jpg          Yes\n",
            "    Parang           Parang        Parang/2 (11).jpg           No\n",
            "    .Non Batik       Parang        Parang/2 (110).jpg          Yes\n",
            "    Parang           Parang        Parang/2 (14).jpg           No\n",
            "    Corak Insang       Parang        Parang/2 (19).jpg           Yes\n",
            "    .Non Batik       Parang        Parang/2 (4).jpg            Yes\n",
            "    Corak Insang       Parang        Parang/2 (51).jpg           Yes\n",
            "    Truntum          Parang        Parang/2 (53).jpg           Yes\n",
            "    Parang           Parang        Parang/2 (60).jpg           No\n",
            "    Sidomukti        Parang        Parang/2 (62).jpg           Yes\n",
            "    Sidomukti        Parang        Parang/2 (63).jpg           Yes\n",
            "    Parang           Parang        Parang/2 (86).jpg           No\n",
            "    Geblek Renteng       Parang        Parang/2 (94).jpg           Yes\n",
            "    Parang           Parang        Parang/24(1).jpg            No\n",
            "    Parang           Parang        Parang/26.jpg               No\n",
            "    Parang           Parang        Parang/3(1).jpg             No\n",
            "    Singa Barong       Parang        Parang/37.jpg               Yes\n",
            "    Tambal           Parang        Parang/50.jpg               Yes\n",
            "    Parang           Parang        Parang/51.jpg               No\n",
            "    Parang           Parang        Parang/52.jpg               No\n",
            "    Parang           Parang        Parang/71.jpg               No\n",
            "    Parang           Parang        Parang/74.jpg               No\n",
            "    Parang           Parang        Parang/75(2).jpg            No\n",
            "    Parang           Parang        Parang/77(2).jpg            No\n",
            "    Parang           Parang        Parang/80(1).jpg            No\n",
            "    Parang           Parang        Parang/86.jpg               No\n",
            "    Parang           Parang        Parang/87(1).jpg            No\n",
            "    Parang           Parang        Parang/89.jpg               No\n",
            "    Parang           Parang        Parang/parang.104.jpg       No\n",
            "    Ceplok           Parang        Parang/parang.107.jpg       Yes\n",
            "    Parang           Parang        Parang/parang.114.jpg       No\n",
            "    Parang           Parang        Parang/parang.121.jpg       No\n",
            "    Sidoluhur        Parang        Parang/parang.155.jpg       Yes\n",
            "    Parang           Parang        Parang/parang.165.jpg       No\n",
            "    Parang           Parang        Parang/parang.173.jpg       No\n",
            "    Sidomukti        Parang        Parang/parang.192.jpg       Yes\n",
            "    Sekar            Parang        Parang/parang.194.jpg       Yes\n",
            "    Parang           Parang        Parang/parang.20.jpg        No\n",
            "    Parang           Parang        Parang/parang.207.jpg       No\n",
            "    Parang           Parang        Parang/parang.209.jpg       No\n",
            "    Parang           Parang        Parang/parang.215.jpg       No\n",
            "    Megamendung       Parang        Parang/parang.220.jpg       Yes\n",
            "    Parang           Parang        Parang/parang.225.jpg       No\n",
            "    Sidomukti        Parang        Parang/parang.23.jpg        Yes\n",
            "    Parang           Parang        Parang/parang.234.jpg       No\n",
            "    Parang           Parang        Parang/parang.236.jpg       No\n",
            "    Parang           Parang        Parang/parang.24.jpg        No\n",
            "    Parang           Parang        Parang/parang.251.jpg       No\n",
            "    Parang           Parang        Parang/parang.266.jpg       No\n",
            "    Parang           Parang        Parang/parang.60.jpg        No\n",
            "    Parang           Parang        Parang/parang.75.jpg        No\n",
            "    Parang           Parang        Parang/parang.77.jpg        No\n",
            "    Cendrawasih       Parang        Parang/parang.83.jpg        Yes\n",
            "    Parang           Parang        Parang/parang.97.jpg        No\n",
            "    Parang           Parang        Parang/pr (22).jpg          No\n",
            "    Pring Sedapur       Pring Sedapur    Pring Sedapur/0014.jpg      No\n",
            "    Pring Sedapur       Pring Sedapur    Pring Sedapur/002.jpg       No\n",
            "    Pring Sedapur       Pring Sedapur    Pring Sedapur/0024.jpg      No\n",
            "    Pring Sedapur       Pring Sedapur    Pring Sedapur/0025.jpg      No\n",
            "    Pring Sedapur       Pring Sedapur    Pring Sedapur/007.jpg       No\n",
            "    Pring Sedapur       Pring Sedapur    Pring Sedapur/10_jpg.rf.64ba1a5e0f12fbd2bdcb64b40f8333b8.jpg   No\n",
            "    Pring Sedapur       Pring Sedapur    Pring Sedapur/16_jpg.rf.633d344f662a418f2586d7e5fc6fab44.jpg   No\n",
            "    Pring Sedapur       Pring Sedapur    Pring Sedapur/28_jpg.rf.af1cdc5c5d8342c244b7c66001ca12eb.jpg   No\n",
            "    Pring Sedapur       Pring Sedapur    Pring Sedapur/4_jpg.rf.fcf97a499aedb3e20c0ec4598aa4bd9f.jpg   No\n",
            "    Pring Sedapur       Pring Sedapur    Pring Sedapur/8_jpg.rf.5b6011075a8d42b4d278931f6e6109e1.jpg   No\n",
            "    Truntum          Pring Sedapur    Pring Sedapur/jiunkpe-is-patterns_design_elements-2013-unknowncreator-39575-batik_pring_sedapur-resource2-preview.jpg   Yes\n",
            "    Sekar            Sekar         Sekar/47.jpg                No\n",
            "    Sekar            Sekar         Sekar/5.jpg                 No\n",
            "    Sekar            Sekar         Sekar/66.jpg                No\n",
            "    Sekar            Sekar         Sekar/78(1).jpg             No\n",
            "    Sekar            Sekar         Sekar/80.jpg                No\n",
            "    Sekar            Sekar         Sekar/84.jpg                No\n",
            "    Sekar            Sekar         Sekar/85.jpg                No\n",
            "    Sekar            Sekar         Sekar/sj1 (101).jpg         No\n",
            "    Sekar            Sekar         Sekar/sj1 (107).jpg         No\n",
            "    Sekar            Sekar         Sekar/sj1 (127).jpg         No\n",
            "    Sidomukti        Sekar         Sekar/sj1 (32).jpg          Yes\n",
            "    Sidomukti        Sekar         Sekar/sj1 (56).jpg          Yes\n",
            "    Sekar            Sekar         Sekar/sj1 (57).jpg          No\n",
            "    Sidomukti        Sekar         Sekar/sj1 (61).jpg          Yes\n",
            "    Sekar            Sekar         Sekar/sj1 (75).jpg          No\n",
            "    Sekar            Sekar         Sekar/sj1 (79).jpg          No\n",
            "    Sekar            Sekar         Sekar/sj1 (81).jpg          No\n",
            "    Sekar            Sekar         Sekar/sj1 (94).jpg          No\n",
            "    Sidoluhur        Sidoluhur     Sidoluhur/1.jpg             No\n",
            "    Sidomukti        Sidoluhur     Sidoluhur/28.jpg            Yes\n",
            "    Sidoluhur        Sidoluhur     Sidoluhur/34.jpg            No\n",
            "    Sidoluhur        Sidoluhur     Sidoluhur/37.jpg            No\n",
            "    Prada            Sidoluhur     Sidoluhur/48.jpg            Yes\n",
            "    Sidoluhur        Sidoluhur     Sidoluhur/sidoluhur.15.jpg   No\n",
            "    Sidoluhur        Sidoluhur     Sidoluhur/sidoluhur.21.jpg   No\n",
            "    Sidoluhur        Sidoluhur     Sidoluhur/sidoluhur.36.jpg   No\n",
            "    Sidoluhur        Sidoluhur     Sidoluhur/sidoluhur.40.jpg   No\n",
            "    Sidoluhur        Sidoluhur     Sidoluhur/sidoluhur.44.jpg   No\n",
            "    Sidoluhur        Sidoluhur     Sidoluhur/sidoluhur.58.jpg   No\n",
            "    Sidoluhur        Sidoluhur     Sidoluhur/sidoluhur.80.jpg   No\n",
            "    Sidoluhur        Sidoluhur     Sidoluhur/sidoluhur.92.jpg   No\n",
            "    Sidoluhur        Sidoluhur     Sidoluhur/sidoluhur.97.jpg   No\n",
            "    Sidoluhur        Sidomukti     Sidomukti/11_jpg.rf.00376746c34caed5dfd4d94ac5e5ff40.jpg   Yes\n",
            "    Sidomukti        Sidomukti     Sidomukti/12.jpg            No\n",
            "    Sidomukti        Sidomukti     Sidomukti/15_jpg.rf.d6f69127d718d2f06ecd8d06bde30e47.jpg   No\n",
            "    Sidomukti        Sidomukti     Sidomukti/16.jpg            No\n",
            "    Sidomukti        Sidomukti     Sidomukti/18.jpg            No\n",
            "    Sidomukti        Sidomukti     Sidomukti/19.jpg            No\n",
            "    Sidomukti        Sidomukti     Sidomukti/27_jpg.rf.918fc123d2b77c91ce28bc8166da4975.jpg   No\n",
            "    Sidomukti        Sidomukti     Sidomukti/29_jpg.rf.106e3c7bb7f07007205f8cdf22608060.jpg   No\n",
            "    Sidomukti        Sidomukti     Sidomukti/32_jpg.rf.613e835c7c19fb83edfa864eb771abdf.jpg   No\n",
            "    Sidomukti        Sidomukti     Sidomukti/8_jpg.rf.a44ece8f20c342b181610207846483c3.jpg   No\n",
            "    Sidomukti        Sidomukti     Sidomukti/8_jpg.rf.f31803984d9cb846087c52d94d39997e.jpg   No\n",
            "    Tambal           Tambal        Tambal/1(1).jpg             No\n",
            "    Tambal           Tambal        Tambal/12.jpg               No\n",
            "    Tambal           Tambal        Tambal/17(1).jpg            No\n",
            "    Tambal           Tambal        Tambal/35(1).jpg            No\n",
            "    Tumpal           Tambal        Tambal/40(1).jpg            Yes\n",
            "    Tambal           Tambal        Tambal/53.jpg               No\n",
            "    Tambal           Tambal        Tambal/57.jpg               No\n",
            "    Tambal           Tambal        Tambal/6.jpg                No\n",
            "    Tambal           Tambal        Tambal/61.jpg               No\n",
            "    Tambal           Tambal        Tambal/72(1).jpg            No\n",
            "    Tambal           Tambal        Tambal/73(1).jpg            No\n",
            "    Tambal           Tambal        Tambal/76(1).jpg            No\n",
            "    Tambal           Tambal        Tambal/79(1).jpg            No\n",
            "    Tambal           Tambal        Tambal/82.jpg               No\n",
            "    Tambal           Tambal        Tambal/86(1).jpg            No\n",
            "    Tambal           Tambal        Tambal/86(2).jpg            No\n",
            "    Tambal           Tambal        Tambal/88(1).jpg            No\n",
            "    Tambal           Tambal        Tambal/88.jpg               No\n",
            "    Truntum          Truntum       Truntum/truntum.1.jpg       No\n",
            "    Truntum          Truntum       Truntum/truntum.105.jpg     No\n",
            "    Truntum          Truntum       Truntum/truntum.120.jpg     No\n",
            "    Truntum          Truntum       Truntum/truntum.127.jpg     No\n",
            "    .Non Batik       Truntum       Truntum/truntum.128.jpg     Yes\n",
            "    Truntum          Truntum       Truntum/truntum.142.jpg     No\n",
            "    Truntum          Truntum       Truntum/truntum.146.jpg     No\n",
            "    Truntum          Truntum       Truntum/truntum.149.jpg     No\n",
            "    Truntum          Truntum       Truntum/truntum.156.jpg     No\n",
            "    Truntum          Truntum       Truntum/truntum.160.jpg     No\n",
            "    Ceplok           Truntum       Truntum/truntum.17.jpg      Yes\n",
            "    Gunungan         Truntum       Truntum/truntum.183.jpg     Yes\n",
            "    Truntum          Truntum       Truntum/truntum.184.jpg     No\n",
            "    .Non Batik       Truntum       Truntum/truntum.194.jpg     Yes\n",
            "    Truntum          Truntum       Truntum/truntum.196.jpg     No\n",
            "    Truntum          Truntum       Truntum/truntum.209.jpg     No\n",
            "    Truntum          Truntum       Truntum/truntum.37.jpg      No\n",
            "    Truntum          Truntum       Truntum/truntum.46.jpg      No\n",
            "    Truntum          Truntum       Truntum/truntum.51.jpg      No\n",
            "    Truntum          Truntum       Truntum/truntum.81.jpg      No\n",
            "    .Non Batik       Truntum       Truntum/truntum.88.jpg      Yes\n",
            "    Truntum          Truntum       Truntum/truntum.98.jpg      No\n",
            "    Tujuh Rupa       Tujuh Rupa    Tujuh Rupa/tujuhrupa_108.jpg   No\n",
            "    Tujuh Rupa       Tujuh Rupa    Tujuh Rupa/tujuhrupa_110.jpg   No\n",
            "    Tujuh Rupa       Tujuh Rupa    Tujuh Rupa/tujuhrupa_112.jpg   No\n",
            "    Tujuh Rupa       Tujuh Rupa    Tujuh Rupa/tujuhrupa_120.jpg   No\n",
            "    Tujuh Rupa       Tujuh Rupa    Tujuh Rupa/tujuhrupa_151.jpg   No\n",
            "    Tujuh Rupa       Tujuh Rupa    Tujuh Rupa/tujuhrupa_153.jpg   No\n",
            "    Tujuh Rupa       Tujuh Rupa    Tujuh Rupa/tujuhrupa_161.jpg   No\n",
            "    Tujuh Rupa       Tujuh Rupa    Tujuh Rupa/tujuhrupa_173.jpg   No\n",
            "    Tujuh Rupa       Tujuh Rupa    Tujuh Rupa/tujuhrupa_18.jpg   No\n",
            "    Tujuh Rupa       Tujuh Rupa    Tujuh Rupa/tujuhrupa_19.jpg   No\n",
            "    Tujuh Rupa       Tujuh Rupa    Tujuh Rupa/tujuhrupa_190.jpg   No\n",
            "    Tujuh Rupa       Tujuh Rupa    Tujuh Rupa/tujuhrupa_20.jpg   No\n",
            "    Tujuh Rupa       Tujuh Rupa    Tujuh Rupa/tujuhrupa_21.jpg   No\n",
            "    Tujuh Rupa       Tujuh Rupa    Tujuh Rupa/tujuhrupa_27.jpg   No\n",
            "    Tujuh Rupa       Tujuh Rupa    Tujuh Rupa/tujuhrupa_34.jpg   No\n",
            "    Tujuh Rupa       Tujuh Rupa    Tujuh Rupa/tujuhrupa_41.jpg   No\n",
            "    Tujuh Rupa       Tujuh Rupa    Tujuh Rupa/tujuhrupa_58.jpg   No\n",
            "    Tujuh Rupa       Tujuh Rupa    Tujuh Rupa/tujuhrupa_6.jpg   No\n",
            "    Tujuh Rupa       Tujuh Rupa    Tujuh Rupa/tujuhrupa_65.jpg   No\n",
            "    Tujuh Rupa       Tujuh Rupa    Tujuh Rupa/tujuhrupa_75.jpg   No\n",
            "    Tujuh Rupa       Tujuh Rupa    Tujuh Rupa/tujuhrupa_8.jpg   No\n",
            "    Tujuh Rupa       Tujuh Rupa    Tujuh Rupa/tujuhrupa_83.jpg   No\n"
          ]
        }
      ],
      "source": [
        "# Load the Keras model from the uploaded file\n",
        "# model_path = '/content/drive/Shareddrives/Capstone - ML/Model 1. Batik Classification/Model/mnetv2_23label50.h5'  # Update with the correct filename\n",
        "# mnet_model = tf.keras.models.load_model(model_path)\n",
        "\n",
        "# make predictions\n",
        "preds = mnet_model.predict(predict_generator, batch_size=predict_batch_size, verbose=0, steps=predict_steps)\n",
        "new_dict = {}\n",
        "for key in class_dict: # set key in new_dict to value in class_dict and value in new_dict to key in class_dict\n",
        "    value = class_dict[key]\n",
        "    new_dict[value] = key\n",
        "print('PREDICTED CLASS     TRUE CLASS       FILENAME                ERROR STATUS' ) # adjust spacing based on your class names\n",
        "error_list = [] # empty list to store if the prediction was correct or not\n",
        "error_file_list = []\n",
        "for i, p in enumerate(preds):\n",
        "    pred_index = np.argmax(p) # get the index that has the highest probability\n",
        "    if pred_index == tlabels[i]:\n",
        "        error_list.append('No') # correct classification\n",
        "    else:\n",
        "        error_list.append('Yes')\n",
        "        error_file_list.append(file_names[i])\n",
        "    pred_class = new_dict[pred_index] # find the predicted class based on the index\n",
        "    true_class = new_dict[tlabels[i]] # use the test label to get the true class of the test file\n",
        "    file = file_names[i]\n",
        "    print(f'    {pred_class:10s}       {true_class:10s}    {file:25s}   {error_list[i]}')"
      ]
    },
    {
      "cell_type": "code",
      "execution_count": null,
      "metadata": {
        "colab": {
          "base_uri": "https://localhost:8080/"
        },
        "id": "ZkprH2XoJlzp",
        "outputId": "6d0d51dd-d1b4-4770-9379-cfad6d791b2a"
      },
      "outputs": [
        {
          "name": "stdout",
          "output_type": "stream",
          "text": [
            "True predict : 376 from 448 or 83.92857142857143 %\n"
          ]
        }
      ],
      "source": [
        "print(f\"True predict : {len(error_list) - len(error_file_list)} from {len(error_list)} or {(len(error_list) - len(error_file_list)) * 100/len(error_list)} %\")"
      ]
    },
    {
      "cell_type": "markdown",
      "metadata": {
        "id": "ESiIWZyaCvnw"
      },
      "source": [
        "#### Convert Model to JSON"
      ]
    },
    {
      "cell_type": "code",
      "source": [
        "!pip install tensorflowjs\n",
        "\n",
        "# DON'T RESTART SESSION"
      ],
      "metadata": {
        "id": "iwyHzH5cVWzi"
      },
      "execution_count": null,
      "outputs": []
    },
    {
      "cell_type": "code",
      "execution_count": null,
      "metadata": {
        "id": "ffnHZ8T2Cxqb"
      },
      "outputs": [],
      "source": [
        "!cp /content/drive/Shareddrives/\"Capstone - ML\"/\"Model 1. Batik Classification\"/Model/mnetv2_21label50.h5 /content/"
      ]
    },
    {
      "cell_type": "code",
      "execution_count": null,
      "metadata": {
        "colab": {
          "base_uri": "https://localhost:8080/"
        },
        "id": "AmAuVsmrC22u",
        "outputId": "c3e369cd-d938-4306-9060-2b318caeb9d2"
      },
      "outputs": [
        {
          "name": "stdout",
          "output_type": "stream",
          "text": [
            "2024-06-18 13:08:07.328900: W tensorflow/compiler/tf2tensorrt/utils/py_utils.cc:38] TF-TRT Warning: Could not find TensorRT\n"
          ]
        }
      ],
      "source": [
        "# !tensorflowjs_converter --input_format=keras /content/drive/Shareddrives/\"Capstone - ML\"/\"Model 1. Batik Classification\"/Model/vgg16.h5 /content/drive/Shareddrives/\"Capstone - ML\"/\"Model 1. Batik Classification\"/Model/\n",
        "!tensorflowjs_converter --input_format=keras /content/mnetv2_21label50.h5 /content/"
      ]
    },
    {
      "cell_type": "code",
      "execution_count": null,
      "metadata": {
        "colab": {
          "base_uri": "https://localhost:8080/"
        },
        "id": "k6sL4ZrKC4oW",
        "outputId": "6b564fc7-0008-4788-f5a9-e340836075db"
      },
      "outputs": [
        {
          "name": "stdout",
          "output_type": "stream",
          "text": [
            "  adding: group1-shard10of64.bin (deflated 7%)\n",
            "  adding: group1-shard11of64.bin (deflated 7%)\n",
            "  adding: group1-shard12of64.bin (deflated 7%)\n",
            "  adding: group1-shard13of64.bin (deflated 7%)\n",
            "  adding: group1-shard14of64.bin (deflated 7%)\n",
            "  adding: group1-shard15of64.bin (deflated 7%)\n",
            "  adding: group1-shard16of64.bin (deflated 7%)\n",
            "  adding: group1-shard17of64.bin (deflated 7%)\n",
            "  adding: group1-shard18of64.bin (deflated 7%)\n",
            "  adding: group1-shard19of64.bin (deflated 7%)\n",
            "  adding: group1-shard1of64.bin (deflated 7%)\n",
            "  adding: group1-shard20of64.bin (deflated 7%)\n",
            "  adding: group1-shard21of64.bin (deflated 7%)\n",
            "  adding: group1-shard22of64.bin (deflated 7%)\n",
            "  adding: group1-shard23of64.bin (deflated 7%)\n",
            "  adding: group1-shard24of64.bin (deflated 7%)\n",
            "  adding: group1-shard25of64.bin (deflated 7%)\n",
            "  adding: group1-shard26of64.bin (deflated 7%)\n",
            "  adding: group1-shard27of64.bin (deflated 7%)\n",
            "  adding: group1-shard28of64.bin (deflated 7%)\n",
            "  adding: group1-shard29of64.bin (deflated 7%)\n",
            "  adding: group1-shard2of64.bin (deflated 7%)\n",
            "  adding: group1-shard30of64.bin (deflated 7%)\n",
            "  adding: group1-shard31of64.bin (deflated 7%)\n",
            "  adding: group1-shard32of64.bin (deflated 7%)\n",
            "  adding: group1-shard33of64.bin (deflated 7%)\n",
            "  adding: group1-shard34of64.bin (deflated 7%)\n",
            "  adding: group1-shard35of64.bin (deflated 7%)\n",
            "  adding: group1-shard36of64.bin (deflated 7%)\n",
            "  adding: group1-shard37of64.bin (deflated 7%)\n",
            "  adding: group1-shard38of64.bin (deflated 7%)\n",
            "  adding: group1-shard39of64.bin (deflated 7%)\n",
            "  adding: group1-shard3of64.bin (deflated 7%)\n",
            "  adding: group1-shard40of64.bin (deflated 7%)\n",
            "  adding: group1-shard41of64.bin (deflated 7%)\n",
            "  adding: group1-shard42of64.bin (deflated 7%)\n",
            "  adding: group1-shard43of64.bin (deflated 7%)\n",
            "  adding: group1-shard44of64.bin (deflated 7%)\n",
            "  adding: group1-shard45of64.bin (deflated 7%)\n",
            "  adding: group1-shard46of64.bin (deflated 7%)\n",
            "  adding: group1-shard47of64.bin (deflated 7%)\n",
            "  adding: group1-shard48of64.bin (deflated 7%)\n",
            "  adding: group1-shard49of64.bin (deflated 7%)\n",
            "  adding: group1-shard4of64.bin (deflated 7%)\n",
            "  adding: group1-shard50of64.bin (deflated 7%)\n",
            "  adding: group1-shard51of64.bin (deflated 7%)\n",
            "  adding: group1-shard52of64.bin (deflated 7%)\n",
            "  adding: group1-shard53of64.bin (deflated 7%)\n",
            "  adding: group1-shard54of64.bin (deflated 7%)\n",
            "  adding: group1-shard55of64.bin (deflated 7%)\n",
            "  adding: group1-shard56of64.bin (deflated 7%)\n",
            "  adding: group1-shard57of64.bin (deflated 7%)\n",
            "  adding: group1-shard58of64.bin (deflated 7%)\n",
            "  adding: group1-shard59of64.bin (deflated 7%)\n",
            "  adding: group1-shard5of64.bin (deflated 7%)\n",
            "  adding: group1-shard60of64.bin (deflated 7%)\n",
            "  adding: group1-shard61of64.bin (deflated 7%)\n",
            "  adding: group1-shard62of64.bin (deflated 7%)\n",
            "  adding: group1-shard63of64.bin (deflated 7%)\n",
            "  adding: group1-shard64of64.bin (deflated 8%)\n",
            "  adding: group1-shard6of64.bin (deflated 7%)\n",
            "  adding: group1-shard7of64.bin (deflated 7%)\n",
            "  adding: group1-shard8of64.bin (deflated 7%)\n",
            "  adding: group1-shard9of64.bin (deflated 7%)\n",
            "  adding: model.json (deflated 96%)\n"
          ]
        }
      ],
      "source": [
        "!zip batik_model_mnetv2.zip *.bin model.json"
      ]
    },
    {
      "cell_type": "code",
      "execution_count": null,
      "metadata": {
        "colab": {
          "base_uri": "https://localhost:8080/",
          "height": 34
        },
        "id": "DGKSRhNSC6ed",
        "outputId": "4a870c3f-17e7-4166-c0fc-639aeffe3c4b"
      },
      "outputs": [
        {
          "data": {
            "application/javascript": [
              "\n",
              "    async function download(id, filename, size) {\n",
              "      if (!google.colab.kernel.accessAllowed) {\n",
              "        return;\n",
              "      }\n",
              "      const div = document.createElement('div');\n",
              "      const label = document.createElement('label');\n",
              "      label.textContent = `Downloading \"${filename}\": `;\n",
              "      div.appendChild(label);\n",
              "      const progress = document.createElement('progress');\n",
              "      progress.max = size;\n",
              "      div.appendChild(progress);\n",
              "      document.body.appendChild(div);\n",
              "\n",
              "      const buffers = [];\n",
              "      let downloaded = 0;\n",
              "\n",
              "      const channel = await google.colab.kernel.comms.open(id);\n",
              "      // Send a message to notify the kernel that we're ready.\n",
              "      channel.send({})\n",
              "\n",
              "      for await (const message of channel.messages) {\n",
              "        // Send a message to notify the kernel that we're ready.\n",
              "        channel.send({})\n",
              "        if (message.buffers) {\n",
              "          for (const buffer of message.buffers) {\n",
              "            buffers.push(buffer);\n",
              "            downloaded += buffer.byteLength;\n",
              "            progress.value = downloaded;\n",
              "          }\n",
              "        }\n",
              "      }\n",
              "      const blob = new Blob(buffers, {type: 'application/binary'});\n",
              "      const a = document.createElement('a');\n",
              "      a.href = window.URL.createObjectURL(blob);\n",
              "      a.download = filename;\n",
              "      div.appendChild(a);\n",
              "      a.click();\n",
              "      div.remove();\n",
              "    }\n",
              "  "
            ],
            "text/plain": [
              "<IPython.core.display.Javascript object>"
            ]
          },
          "metadata": {},
          "output_type": "display_data"
        },
        {
          "data": {
            "application/javascript": [
              "download(\"download_4c3b275f-c8fa-46e2-b0a6-f314d9a63424\", \"batik_model_mnetv2.zip\", 248313278)"
            ],
            "text/plain": [
              "<IPython.core.display.Javascript object>"
            ]
          },
          "metadata": {},
          "output_type": "display_data"
        }
      ],
      "source": [
        "files.download(\"/content/batik_model_mnetv2.zip\")"
      ]
    },
    {
      "cell_type": "markdown",
      "metadata": {
        "id": "oK3phLarGpvf"
      },
      "source": [
        "#### Convert Model to TFLite"
      ]
    },
    {
      "cell_type": "code",
      "execution_count": null,
      "metadata": {
        "id": "WAbmu_Y2pHJB"
      },
      "outputs": [],
      "source": [
        "!cp /content/drive/Shareddrives/\"Capstone - ML\"/\"Model 1. Batik Classification\"/Model/mnetv2_23label50.h5 /content/"
      ]
    },
    {
      "cell_type": "code",
      "execution_count": null,
      "metadata": {
        "colab": {
          "base_uri": "https://localhost:8080/"
        },
        "id": "DmFIMhL7Gsw8",
        "outputId": "bd451958-feb0-47eb-f4c6-0712f7313bb6"
      },
      "outputs": [
        {
          "name": "stdout",
          "output_type": "stream",
          "text": [
            "TFLite model saved to /content/model.tflite\n"
          ]
        }
      ],
      "source": [
        "# Load the H5 model\n",
        "h5_model_path = '/content/mnetv2_23label50.h5'\n",
        "model = tf.keras.models.load_model(h5_model_path)\n",
        "\n",
        "# Convert the model to TFLite format with optimization\n",
        "converter = tf.lite.TFLiteConverter.from_keras_model(model)\n",
        "converter.optimizations = [tf.lite.Optimize.DEFAULT]  # Enable optimizations\n",
        "tflite_model = converter.convert()\n",
        "\n",
        "# Save the TFLite model\n",
        "tflite_model_path = '/content/model_mnet.tflite'\n",
        "with open(tflite_model_path, 'wb') as f:\n",
        "    f.write(tflite_model)\n",
        "\n",
        "print(f\"TFLite model saved to {tflite_model_path}\")"
      ]
    },
    {
      "cell_type": "code",
      "execution_count": null,
      "metadata": {
        "colab": {
          "base_uri": "https://localhost:8080/",
          "height": 17
        },
        "id": "Epvnm-Hzp4Af",
        "outputId": "c8515b9b-968d-4167-8fa1-b530e26498e0"
      },
      "outputs": [
        {
          "data": {
            "application/javascript": [
              "\n",
              "    async function download(id, filename, size) {\n",
              "      if (!google.colab.kernel.accessAllowed) {\n",
              "        return;\n",
              "      }\n",
              "      const div = document.createElement('div');\n",
              "      const label = document.createElement('label');\n",
              "      label.textContent = `Downloading \"${filename}\": `;\n",
              "      div.appendChild(label);\n",
              "      const progress = document.createElement('progress');\n",
              "      progress.max = size;\n",
              "      div.appendChild(progress);\n",
              "      document.body.appendChild(div);\n",
              "\n",
              "      const buffers = [];\n",
              "      let downloaded = 0;\n",
              "\n",
              "      const channel = await google.colab.kernel.comms.open(id);\n",
              "      // Send a message to notify the kernel that we're ready.\n",
              "      channel.send({})\n",
              "\n",
              "      for await (const message of channel.messages) {\n",
              "        // Send a message to notify the kernel that we're ready.\n",
              "        channel.send({})\n",
              "        if (message.buffers) {\n",
              "          for (const buffer of message.buffers) {\n",
              "            buffers.push(buffer);\n",
              "            downloaded += buffer.byteLength;\n",
              "            progress.value = downloaded;\n",
              "          }\n",
              "        }\n",
              "      }\n",
              "      const blob = new Blob(buffers, {type: 'application/binary'});\n",
              "      const a = document.createElement('a');\n",
              "      a.href = window.URL.createObjectURL(blob);\n",
              "      a.download = filename;\n",
              "      div.appendChild(a);\n",
              "      a.click();\n",
              "      div.remove();\n",
              "    }\n",
              "  "
            ],
            "text/plain": [
              "<IPython.core.display.Javascript object>"
            ]
          },
          "metadata": {},
          "output_type": "display_data"
        },
        {
          "data": {
            "application/javascript": [
              "download(\"download_6dcfbdbd-4432-4da8-b3bb-0e519dcb19df\", \"model.tflite\", 34684344)"
            ],
            "text/plain": [
              "<IPython.core.display.Javascript object>"
            ]
          },
          "metadata": {},
          "output_type": "display_data"
        }
      ],
      "source": [
        "files.download(\"/content/model_mnet.tflite\")"
      ]
    }
  ],
  "metadata": {
    "accelerator": "GPU",
    "colab": {
      "gpuType": "T4",
      "provenance": []
    },
    "kernelspec": {
      "display_name": "Python 3",
      "name": "python3"
    },
    "language_info": {
      "name": "python"
    }
  },
  "nbformat": 4,
  "nbformat_minor": 0
}